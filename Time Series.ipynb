{
 "cells": [
  {
   "cell_type": "markdown",
   "metadata": {},
   "source": [
    "# Project description\n",
    "\n",
    "Sweet Lift Taxi company has collected historical data on taxi orders at airports. To attract more drivers during peak hours, we need to predict the amount of taxi orders for the next hour. Build a model for such a prediction.\n",
    "\n",
    "The RMSE metric on the test set should not be more than 48.\n",
    "\n",
    "## Project instructions\n",
    "\n",
    "1. Download the data and resample it by one hour.\n",
    "2. Analyze the data.\n",
    "3. Train different models with different hyperparameters. The test sample should be 10% of the initial dataset. \n",
    "4. Test the data using the test sample and provide a conclusion.\n",
    "\n",
    "## Data description\n",
    "\n",
    "The data is stored in file `taxi.csv`. The number of orders is in the '*num_orders*' column."
   ]
  },
  {
   "cell_type": "markdown",
   "metadata": {},
   "source": [
    "## Preparation"
   ]
  },
  {
   "cell_type": "code",
   "execution_count": 49,
   "metadata": {},
   "outputs": [],
   "source": [
    "import pandas as pd\n",
    "import numpy as np\n",
    "import datetime\n",
    "import math\n",
    "import matplotlib.pyplot as plt\n",
    "from statsmodels.tsa.seasonal import seasonal_decompose\n",
    "from sklearn.model_selection import train_test_split\n",
    "from sklearn.metrics import mean_absolute_error, mean_squared_error\n",
    "from sklearn.linear_model import LinearRegression\n",
    "from catboost import CatBoostRegressor\n",
    "from sklearn.metrics import make_scorer\n",
    "import xgboost as xgb\n",
    "from sklearn.model_selection import GridSearchCV\n",
    "from sklearn.model_selection import TimeSeriesSplit\n",
    "from sklearn.model_selection import cross_val_score\n",
    "\n",
    "import warnings\n",
    "warnings.filterwarnings('ignore')"
   ]
  },
  {
   "cell_type": "code",
   "execution_count": 3,
   "metadata": {},
   "outputs": [],
   "source": [
    "data = pd.read_csv(\"/datasets/taxi.csv\", parse_dates = ['datetime'], index_col = 'datetime')\n",
    "data.sort_index(inplace=True)\n",
    "data = data.resample('1h').sum()"
   ]
  },
  {
   "cell_type": "code",
   "execution_count": 4,
   "metadata": {},
   "outputs": [
    {
     "data": {
      "text/html": [
       "<div>\n",
       "<style scoped>\n",
       "    .dataframe tbody tr th:only-of-type {\n",
       "        vertical-align: middle;\n",
       "    }\n",
       "\n",
       "    .dataframe tbody tr th {\n",
       "        vertical-align: top;\n",
       "    }\n",
       "\n",
       "    .dataframe thead th {\n",
       "        text-align: right;\n",
       "    }\n",
       "</style>\n",
       "<table border=\"1\" class=\"dataframe\">\n",
       "  <thead>\n",
       "    <tr style=\"text-align: right;\">\n",
       "      <th></th>\n",
       "      <th>num_orders</th>\n",
       "    </tr>\n",
       "    <tr>\n",
       "      <th>datetime</th>\n",
       "      <th></th>\n",
       "    </tr>\n",
       "  </thead>\n",
       "  <tbody>\n",
       "    <tr>\n",
       "      <th>2018-03-01 00:00:00</th>\n",
       "      <td>124</td>\n",
       "    </tr>\n",
       "    <tr>\n",
       "      <th>2018-03-01 01:00:00</th>\n",
       "      <td>85</td>\n",
       "    </tr>\n",
       "    <tr>\n",
       "      <th>2018-03-01 02:00:00</th>\n",
       "      <td>71</td>\n",
       "    </tr>\n",
       "    <tr>\n",
       "      <th>2018-03-01 03:00:00</th>\n",
       "      <td>66</td>\n",
       "    </tr>\n",
       "    <tr>\n",
       "      <th>2018-03-01 04:00:00</th>\n",
       "      <td>43</td>\n",
       "    </tr>\n",
       "    <tr>\n",
       "      <th>...</th>\n",
       "      <td>...</td>\n",
       "    </tr>\n",
       "    <tr>\n",
       "      <th>2018-08-31 19:00:00</th>\n",
       "      <td>136</td>\n",
       "    </tr>\n",
       "    <tr>\n",
       "      <th>2018-08-31 20:00:00</th>\n",
       "      <td>154</td>\n",
       "    </tr>\n",
       "    <tr>\n",
       "      <th>2018-08-31 21:00:00</th>\n",
       "      <td>159</td>\n",
       "    </tr>\n",
       "    <tr>\n",
       "      <th>2018-08-31 22:00:00</th>\n",
       "      <td>223</td>\n",
       "    </tr>\n",
       "    <tr>\n",
       "      <th>2018-08-31 23:00:00</th>\n",
       "      <td>205</td>\n",
       "    </tr>\n",
       "  </tbody>\n",
       "</table>\n",
       "<p>4416 rows × 1 columns</p>\n",
       "</div>"
      ],
      "text/plain": [
       "                     num_orders\n",
       "datetime                       \n",
       "2018-03-01 00:00:00         124\n",
       "2018-03-01 01:00:00          85\n",
       "2018-03-01 02:00:00          71\n",
       "2018-03-01 03:00:00          66\n",
       "2018-03-01 04:00:00          43\n",
       "...                         ...\n",
       "2018-08-31 19:00:00         136\n",
       "2018-08-31 20:00:00         154\n",
       "2018-08-31 21:00:00         159\n",
       "2018-08-31 22:00:00         223\n",
       "2018-08-31 23:00:00         205\n",
       "\n",
       "[4416 rows x 1 columns]"
      ]
     },
     "execution_count": 4,
     "metadata": {},
     "output_type": "execute_result"
    }
   ],
   "source": [
    "data"
   ]
  },
  {
   "cell_type": "markdown",
   "metadata": {},
   "source": [
    "## Analysis"
   ]
  },
  {
   "cell_type": "code",
   "execution_count": 5,
   "metadata": {
    "scrolled": true
   },
   "outputs": [
    {
     "data": {
      "text/html": [
       "<div>\n",
       "<style scoped>\n",
       "    .dataframe tbody tr th:only-of-type {\n",
       "        vertical-align: middle;\n",
       "    }\n",
       "\n",
       "    .dataframe tbody tr th {\n",
       "        vertical-align: top;\n",
       "    }\n",
       "\n",
       "    .dataframe thead th {\n",
       "        text-align: right;\n",
       "    }\n",
       "</style>\n",
       "<table border=\"1\" class=\"dataframe\">\n",
       "  <thead>\n",
       "    <tr style=\"text-align: right;\">\n",
       "      <th></th>\n",
       "      <th>num_orders</th>\n",
       "    </tr>\n",
       "    <tr>\n",
       "      <th>datetime</th>\n",
       "      <th></th>\n",
       "    </tr>\n",
       "  </thead>\n",
       "  <tbody>\n",
       "    <tr>\n",
       "      <th>2018-03-01 00:00:00</th>\n",
       "      <td>124</td>\n",
       "    </tr>\n",
       "    <tr>\n",
       "      <th>2018-03-01 01:00:00</th>\n",
       "      <td>85</td>\n",
       "    </tr>\n",
       "    <tr>\n",
       "      <th>2018-03-01 02:00:00</th>\n",
       "      <td>71</td>\n",
       "    </tr>\n",
       "    <tr>\n",
       "      <th>2018-03-01 03:00:00</th>\n",
       "      <td>66</td>\n",
       "    </tr>\n",
       "    <tr>\n",
       "      <th>2018-03-01 04:00:00</th>\n",
       "      <td>43</td>\n",
       "    </tr>\n",
       "    <tr>\n",
       "      <th>...</th>\n",
       "      <td>...</td>\n",
       "    </tr>\n",
       "    <tr>\n",
       "      <th>2018-08-31 19:00:00</th>\n",
       "      <td>136</td>\n",
       "    </tr>\n",
       "    <tr>\n",
       "      <th>2018-08-31 20:00:00</th>\n",
       "      <td>154</td>\n",
       "    </tr>\n",
       "    <tr>\n",
       "      <th>2018-08-31 21:00:00</th>\n",
       "      <td>159</td>\n",
       "    </tr>\n",
       "    <tr>\n",
       "      <th>2018-08-31 22:00:00</th>\n",
       "      <td>223</td>\n",
       "    </tr>\n",
       "    <tr>\n",
       "      <th>2018-08-31 23:00:00</th>\n",
       "      <td>205</td>\n",
       "    </tr>\n",
       "  </tbody>\n",
       "</table>\n",
       "<p>4416 rows × 1 columns</p>\n",
       "</div>"
      ],
      "text/plain": [
       "                     num_orders\n",
       "datetime                       \n",
       "2018-03-01 00:00:00         124\n",
       "2018-03-01 01:00:00          85\n",
       "2018-03-01 02:00:00          71\n",
       "2018-03-01 03:00:00          66\n",
       "2018-03-01 04:00:00          43\n",
       "...                         ...\n",
       "2018-08-31 19:00:00         136\n",
       "2018-08-31 20:00:00         154\n",
       "2018-08-31 21:00:00         159\n",
       "2018-08-31 22:00:00         223\n",
       "2018-08-31 23:00:00         205\n",
       "\n",
       "[4416 rows x 1 columns]"
      ]
     },
     "execution_count": 5,
     "metadata": {},
     "output_type": "execute_result"
    }
   ],
   "source": [
    "data=data.sort_values(by=['datetime'], axis=0)\n",
    "data"
   ]
  },
  {
   "cell_type": "code",
   "execution_count": 6,
   "metadata": {},
   "outputs": [
    {
     "data": {
      "text/plain": [
       "<AxesSubplot:xlabel='datetime'>"
      ]
     },
     "execution_count": 6,
     "metadata": {},
     "output_type": "execute_result"
    },
    {
     "data": {
      "image/png": "[encoded data removed]",
      "text/plain": [
       "<Figure size 432x288 with 1 Axes>"
      ]
     },
     "metadata": {
      "needs_background": "light"
     },
     "output_type": "display_data"
    }
   ],
   "source": [
    "data.plot()"
   ]
  },
  {
   "cell_type": "code",
   "execution_count": 7,
   "metadata": {},
   "outputs": [
    {
     "data": {
      "text/plain": [
       "<AxesSubplot:xlabel='datetime'>"
      ]
     },
     "execution_count": 7,
     "metadata": {},
     "output_type": "execute_result"
    },
    {
     "data": {
      "image/png": "[encoded data removed]",
      "text/plain": [
       "<Figure size 432x288 with 1 Axes>"
      ]
     },
     "metadata": {
      "needs_background": "light"
     },
     "output_type": "display_data"
    }
   ],
   "source": [
    "data.resample(\"1D\").sum().plot()"
   ]
  },
  {
   "cell_type": "code",
   "execution_count": 8,
   "metadata": {},
   "outputs": [],
   "source": [
    "df_to_plot=data['2018-08-01':'2018-08-31']"
   ]
  },
  {
   "cell_type": "code",
   "execution_count": 9,
   "metadata": {},
   "outputs": [
    {
     "data": {
      "text/plain": [
       "[<matplotlib.lines.Line2D at 0x7f9b61e071c0>,\n",
       " <matplotlib.lines.Line2D at 0x7f9b61dad6d0>,\n",
       " <matplotlib.lines.Line2D at 0x7f9b61dad610>]"
      ]
     },
     "execution_count": 9,
     "metadata": {},
     "output_type": "execute_result"
    },
    {
     "data": {
      "image/png": "[encoded data removed]",
      "text/plain": [
       "<Figure size 1440x720 with 1 Axes>"
      ]
     },
     "metadata": {
      "needs_background": "light"
     },
     "output_type": "display_data"
    }
   ],
   "source": [
    "df_to_plot['mean'] = df_to_plot['num_orders'].rolling(14).mean()\n",
    "df_to_plot['std'] = df_to_plot['num_orders'].rolling(14).std()\n",
    "\n",
    "fig = plt.figure(figsize=(20, 10))\n",
    "ax1 = fig.add_subplot(111)\n",
    "ax1.plot(df_to_plot)"
   ]
  },
  {
   "cell_type": "code",
   "execution_count": 10,
   "metadata": {},
   "outputs": [
    {
     "name": "stdout",
     "output_type": "stream",
     "text": [
      "<class 'pandas.core.frame.DataFrame'>\n",
      "DatetimeIndex: 4416 entries, 2018-03-01 00:00:00 to 2018-08-31 23:00:00\n",
      "Freq: H\n",
      "Data columns (total 1 columns):\n",
      " #   Column      Non-Null Count  Dtype\n",
      "---  ------      --------------  -----\n",
      " 0   num_orders  4416 non-null   int64\n",
      "dtypes: int64(1)\n",
      "memory usage: 198.0 KB\n"
     ]
    }
   ],
   "source": [
    "data.info()"
   ]
  },
  {
   "cell_type": "code",
   "execution_count": 11,
   "metadata": {},
   "outputs": [
    {
     "data": {
      "text/html": [
       "<div>\n",
       "<style scoped>\n",
       "    .dataframe tbody tr th:only-of-type {\n",
       "        vertical-align: middle;\n",
       "    }\n",
       "\n",
       "    .dataframe tbody tr th {\n",
       "        vertical-align: top;\n",
       "    }\n",
       "\n",
       "    .dataframe thead th {\n",
       "        text-align: right;\n",
       "    }\n",
       "</style>\n",
       "<table border=\"1\" class=\"dataframe\">\n",
       "  <thead>\n",
       "    <tr style=\"text-align: right;\">\n",
       "      <th></th>\n",
       "      <th>num_orders</th>\n",
       "    </tr>\n",
       "    <tr>\n",
       "      <th>datetime</th>\n",
       "      <th></th>\n",
       "    </tr>\n",
       "  </thead>\n",
       "  <tbody>\n",
       "    <tr>\n",
       "      <th>2018-03-01 00:00:00</th>\n",
       "      <td>124</td>\n",
       "    </tr>\n",
       "    <tr>\n",
       "      <th>2018-03-01 01:00:00</th>\n",
       "      <td>85</td>\n",
       "    </tr>\n",
       "    <tr>\n",
       "      <th>2018-03-01 02:00:00</th>\n",
       "      <td>71</td>\n",
       "    </tr>\n",
       "    <tr>\n",
       "      <th>2018-03-01 03:00:00</th>\n",
       "      <td>66</td>\n",
       "    </tr>\n",
       "    <tr>\n",
       "      <th>2018-03-01 04:00:00</th>\n",
       "      <td>43</td>\n",
       "    </tr>\n",
       "    <tr>\n",
       "      <th>...</th>\n",
       "      <td>...</td>\n",
       "    </tr>\n",
       "    <tr>\n",
       "      <th>2018-08-31 19:00:00</th>\n",
       "      <td>136</td>\n",
       "    </tr>\n",
       "    <tr>\n",
       "      <th>2018-08-31 20:00:00</th>\n",
       "      <td>154</td>\n",
       "    </tr>\n",
       "    <tr>\n",
       "      <th>2018-08-31 21:00:00</th>\n",
       "      <td>159</td>\n",
       "    </tr>\n",
       "    <tr>\n",
       "      <th>2018-08-31 22:00:00</th>\n",
       "      <td>223</td>\n",
       "    </tr>\n",
       "    <tr>\n",
       "      <th>2018-08-31 23:00:00</th>\n",
       "      <td>205</td>\n",
       "    </tr>\n",
       "  </tbody>\n",
       "</table>\n",
       "<p>4416 rows × 1 columns</p>\n",
       "</div>"
      ],
      "text/plain": [
       "                     num_orders\n",
       "datetime                       \n",
       "2018-03-01 00:00:00         124\n",
       "2018-03-01 01:00:00          85\n",
       "2018-03-01 02:00:00          71\n",
       "2018-03-01 03:00:00          66\n",
       "2018-03-01 04:00:00          43\n",
       "...                         ...\n",
       "2018-08-31 19:00:00         136\n",
       "2018-08-31 20:00:00         154\n",
       "2018-08-31 21:00:00         159\n",
       "2018-08-31 22:00:00         223\n",
       "2018-08-31 23:00:00         205\n",
       "\n",
       "[4416 rows x 1 columns]"
      ]
     },
     "execution_count": 11,
     "metadata": {},
     "output_type": "execute_result"
    }
   ],
   "source": [
    "data"
   ]
  },
  {
   "cell_type": "code",
   "execution_count": 12,
   "metadata": {},
   "outputs": [],
   "source": [
    "data_d = data.resample(\"1D\").sum()"
   ]
  },
  {
   "cell_type": "code",
   "execution_count": 13,
   "metadata": {},
   "outputs": [],
   "source": [
    "decomposed = seasonal_decompose(data_d)"
   ]
  },
  {
   "cell_type": "code",
   "execution_count": 14,
   "metadata": {},
   "outputs": [
    {
     "data": {
      "text/plain": [
       "[<matplotlib.lines.Line2D at 0x7f9b619fcf10>]"
      ]
     },
     "execution_count": 14,
     "metadata": {},
     "output_type": "execute_result"
    },
    {
     "data": {
      "image/png": "[encoded data removed]",
      "text/plain": [
       "<Figure size 1440x720 with 2 Axes>"
      ]
     },
     "metadata": {
      "needs_background": "light"
     },
     "output_type": "display_data"
    }
   ],
   "source": [
    "Y = decomposed.seasonal['2018-08-01':'2018-08-31'].values\n",
    "x = decomposed.seasonal['2018-08-01':'2018-08-31'].index\n",
    "weekday_map= {0:'MON', 1:'TUE', 2:'WED', 3:'THU', 4:'FRI', 5:'SAT', 6:'SUN'}\n",
    "dow = decomposed.seasonal['2018-08-01':'2018-08-31'].index.dayofweek.map(weekday_map)\n",
    "\n",
    "fig = plt.figure(figsize=(20, 10))\n",
    "ax1 = fig.add_subplot(111)\n",
    "ax2 = ax1.twiny()\n",
    "ax2.set_xticks(np.arange(len(x)), minor=False)\n",
    "ax2.set_xticklabels(dow)\n",
    "ax1.set_xlim(min(x), max(x))\n",
    "ax1.plot(x, Y)"
   ]
  },
  {
   "cell_type": "code",
   "execution_count": 15,
   "metadata": {},
   "outputs": [
    {
     "data": {
      "text/plain": [
       "[<matplotlib.lines.Line2D at 0x7f9b618a3670>]"
      ]
     },
     "execution_count": 15,
     "metadata": {},
     "output_type": "execute_result"
    },
    {
     "data": {
      "image/png": "[encoded data removed]",
      "text/plain": [
       "<Figure size 1440x720 with 2 Axes>"
      ]
     },
     "metadata": {
      "needs_background": "light"
     },
     "output_type": "display_data"
    }
   ],
   "source": [
    "decomposed = seasonal_decompose(data['2018-08-03':'2018-08-05'])\n",
    "Y = decomposed.seasonal['2018-08-03':'2018-08-05'].values\n",
    "x = decomposed.seasonal['2018-08-03':'2018-08-05'].index\n",
    "fig = plt.figure(figsize=(20, 10))\n",
    "ax1 = fig.add_subplot(111)\n",
    "ax2 = ax1.twiny()\n",
    "ax2.set_xticks(np.arange(len(x)), minor=False)\n",
    "\n",
    "ax1.set_xlim(min(x), max(x))\n",
    "ax1.plot(x, Y)\n"
   ]
  },
  {
   "cell_type": "code",
   "execution_count": 16,
   "metadata": {},
   "outputs": [
    {
     "data": {
      "image/png": "[encoded data removed]",
      "text/plain": [
       "<Figure size 576x576 with 3 Axes>"
      ]
     },
     "metadata": {
      "needs_background": "light"
     },
     "output_type": "display_data"
    }
   ],
   "source": [
    "decomposed = seasonal_decompose(data['2018-08-01':'2018-08-31'])\n",
    "plt.figure(figsize=(8, 8))\n",
    "\n",
    "plt.subplot(311)\n",
    "decomposed.trend.plot(ax=plt.gca())\n",
    "plt.title('Trend')\n",
    "plt.subplot(312)\n",
    "decomposed.seasonal.plot(ax=plt.gca())\n",
    "plt.title('Seasonality')\n",
    "plt.subplot(313)\n",
    "decomposed.resid.plot(ax=plt.gca())\n",
    "plt.title('Residuals')\n",
    "\n",
    "\n",
    "plt.tight_layout()    "
   ]
  },
  {
   "cell_type": "markdown",
   "metadata": {},
   "source": [
    "1. Number of orders increases with time.\n",
    "2. We can see peacks of orders in the middle of the night. (Taxi is the only was at 2 am)\n",
    "3. The most oreders are on Fridays and Mondays. (People fly on the weekends and come back after)"
   ]
  },
  {
   "cell_type": "markdown",
   "metadata": {},
   "source": [
    "## Training"
   ]
  },
  {
   "cell_type": "markdown",
   "metadata": {},
   "source": [
    "***Base Models***"
   ]
  },
  {
   "cell_type": "code",
   "execution_count": 17,
   "metadata": {},
   "outputs": [],
   "source": [
    "train, test = train_test_split(data, shuffle=False, test_size=0.1,random_state=123)\n",
    "train = train.dropna()\n",
    "train_y = train['num_orders']\n",
    "train_X = train.drop('num_orders', axis=1)\n",
    "test_y = test['num_orders']\n",
    "test_X = test.drop('num_orders', axis=1)"
   ]
  },
  {
   "cell_type": "code",
   "execution_count": 18,
   "metadata": {},
   "outputs": [
    {
     "name": "stdout",
     "output_type": "stream",
     "text": [
      "MAE: 70.7918552036199\n",
      "RMSE: 87.15277582981295\n"
     ]
    }
   ],
   "source": [
    "#Constant median\n",
    "pred_median = np.ones(test_y.shape) * train_y.median()\n",
    "print('MAE:', mean_absolute_error(test_y, pred_median))\n",
    "print('RMSE:', math.sqrt(mean_squared_error(test_y, pred_median)))"
   ]
  },
  {
   "cell_type": "code",
   "execution_count": 19,
   "metadata": {},
   "outputs": [
    {
     "name": "stdout",
     "output_type": "stream",
     "text": [
      "MAE: 44.97285067873303\n",
      "RMSE: 58.856486242815066\n"
     ]
    }
   ],
   "source": [
    "#Previous value\n",
    "pred_previous = test_y.shift()\n",
    "pred_previous.iloc[0] = train_y.iloc[-1]\n",
    "print('MAE:', mean_absolute_error(test_y, pred_previous))\n",
    "print('RMSE:', math.sqrt(mean_squared_error(test_y, pred_previous)))"
   ]
  },
  {
   "cell_type": "markdown",
   "metadata": {},
   "source": [
    "***Feature Generation***"
   ]
  },
  {
   "cell_type": "code",
   "execution_count": 20,
   "metadata": {},
   "outputs": [],
   "source": [
    "def make_features(data, max_lag, rolling_mean_size):\n",
    "    \n",
    "    data['month'] = data.index.month\n",
    "    data['day'] = data.index.day\n",
    "    data['dayofweek'] = data.index.dayofweek\n",
    "    data['hour'] = data.index.hour\n",
    "    \n",
    "    for lag in range(1, max_lag + 1):\n",
    "        data['lag_{}'.format(lag)] = data['num_orders'].shift(lag)\n",
    "\n",
    "    data['rolling_mean'] = data['rolling_mean'] = data['num_orders'].shift().rolling(rolling_mean_size).mean()\n",
    "    return data"
   ]
  },
  {
   "cell_type": "code",
   "execution_count": 21,
   "metadata": {},
   "outputs": [
    {
     "data": {
      "text/html": [
       "<div>\n",
       "<style scoped>\n",
       "    .dataframe tbody tr th:only-of-type {\n",
       "        vertical-align: middle;\n",
       "    }\n",
       "\n",
       "    .dataframe tbody tr th {\n",
       "        vertical-align: top;\n",
       "    }\n",
       "\n",
       "    .dataframe thead th {\n",
       "        text-align: right;\n",
       "    }\n",
       "</style>\n",
       "<table border=\"1\" class=\"dataframe\">\n",
       "  <thead>\n",
       "    <tr style=\"text-align: right;\">\n",
       "      <th></th>\n",
       "      <th>num_orders</th>\n",
       "      <th>month</th>\n",
       "      <th>day</th>\n",
       "      <th>dayofweek</th>\n",
       "      <th>hour</th>\n",
       "      <th>lag_1</th>\n",
       "      <th>lag_2</th>\n",
       "      <th>lag_3</th>\n",
       "      <th>lag_4</th>\n",
       "      <th>lag_5</th>\n",
       "      <th>lag_6</th>\n",
       "      <th>lag_7</th>\n",
       "      <th>lag_8</th>\n",
       "      <th>lag_9</th>\n",
       "      <th>lag_10</th>\n",
       "      <th>rolling_mean</th>\n",
       "    </tr>\n",
       "    <tr>\n",
       "      <th>datetime</th>\n",
       "      <th></th>\n",
       "      <th></th>\n",
       "      <th></th>\n",
       "      <th></th>\n",
       "      <th></th>\n",
       "      <th></th>\n",
       "      <th></th>\n",
       "      <th></th>\n",
       "      <th></th>\n",
       "      <th></th>\n",
       "      <th></th>\n",
       "      <th></th>\n",
       "      <th></th>\n",
       "      <th></th>\n",
       "      <th></th>\n",
       "      <th></th>\n",
       "    </tr>\n",
       "  </thead>\n",
       "  <tbody>\n",
       "    <tr>\n",
       "      <th>2018-03-01 00:00:00</th>\n",
       "      <td>124</td>\n",
       "      <td>3</td>\n",
       "      <td>1</td>\n",
       "      <td>3</td>\n",
       "      <td>0</td>\n",
       "      <td>NaN</td>\n",
       "      <td>NaN</td>\n",
       "      <td>NaN</td>\n",
       "      <td>NaN</td>\n",
       "      <td>NaN</td>\n",
       "      <td>NaN</td>\n",
       "      <td>NaN</td>\n",
       "      <td>NaN</td>\n",
       "      <td>NaN</td>\n",
       "      <td>NaN</td>\n",
       "      <td>NaN</td>\n",
       "    </tr>\n",
       "    <tr>\n",
       "      <th>2018-03-01 01:00:00</th>\n",
       "      <td>85</td>\n",
       "      <td>3</td>\n",
       "      <td>1</td>\n",
       "      <td>3</td>\n",
       "      <td>1</td>\n",
       "      <td>124.0</td>\n",
       "      <td>NaN</td>\n",
       "      <td>NaN</td>\n",
       "      <td>NaN</td>\n",
       "      <td>NaN</td>\n",
       "      <td>NaN</td>\n",
       "      <td>NaN</td>\n",
       "      <td>NaN</td>\n",
       "      <td>NaN</td>\n",
       "      <td>NaN</td>\n",
       "      <td>NaN</td>\n",
       "    </tr>\n",
       "    <tr>\n",
       "      <th>2018-03-01 02:00:00</th>\n",
       "      <td>71</td>\n",
       "      <td>3</td>\n",
       "      <td>1</td>\n",
       "      <td>3</td>\n",
       "      <td>2</td>\n",
       "      <td>85.0</td>\n",
       "      <td>124.0</td>\n",
       "      <td>NaN</td>\n",
       "      <td>NaN</td>\n",
       "      <td>NaN</td>\n",
       "      <td>NaN</td>\n",
       "      <td>NaN</td>\n",
       "      <td>NaN</td>\n",
       "      <td>NaN</td>\n",
       "      <td>NaN</td>\n",
       "      <td>NaN</td>\n",
       "    </tr>\n",
       "    <tr>\n",
       "      <th>2018-03-01 03:00:00</th>\n",
       "      <td>66</td>\n",
       "      <td>3</td>\n",
       "      <td>1</td>\n",
       "      <td>3</td>\n",
       "      <td>3</td>\n",
       "      <td>71.0</td>\n",
       "      <td>85.0</td>\n",
       "      <td>124.0</td>\n",
       "      <td>NaN</td>\n",
       "      <td>NaN</td>\n",
       "      <td>NaN</td>\n",
       "      <td>NaN</td>\n",
       "      <td>NaN</td>\n",
       "      <td>NaN</td>\n",
       "      <td>NaN</td>\n",
       "      <td>NaN</td>\n",
       "    </tr>\n",
       "    <tr>\n",
       "      <th>2018-03-01 04:00:00</th>\n",
       "      <td>43</td>\n",
       "      <td>3</td>\n",
       "      <td>1</td>\n",
       "      <td>3</td>\n",
       "      <td>4</td>\n",
       "      <td>66.0</td>\n",
       "      <td>71.0</td>\n",
       "      <td>85.0</td>\n",
       "      <td>124.0</td>\n",
       "      <td>NaN</td>\n",
       "      <td>NaN</td>\n",
       "      <td>NaN</td>\n",
       "      <td>NaN</td>\n",
       "      <td>NaN</td>\n",
       "      <td>NaN</td>\n",
       "      <td>NaN</td>\n",
       "    </tr>\n",
       "    <tr>\n",
       "      <th>...</th>\n",
       "      <td>...</td>\n",
       "      <td>...</td>\n",
       "      <td>...</td>\n",
       "      <td>...</td>\n",
       "      <td>...</td>\n",
       "      <td>...</td>\n",
       "      <td>...</td>\n",
       "      <td>...</td>\n",
       "      <td>...</td>\n",
       "      <td>...</td>\n",
       "      <td>...</td>\n",
       "      <td>...</td>\n",
       "      <td>...</td>\n",
       "      <td>...</td>\n",
       "      <td>...</td>\n",
       "      <td>...</td>\n",
       "    </tr>\n",
       "    <tr>\n",
       "      <th>2018-08-31 19:00:00</th>\n",
       "      <td>136</td>\n",
       "      <td>8</td>\n",
       "      <td>31</td>\n",
       "      <td>4</td>\n",
       "      <td>19</td>\n",
       "      <td>207.0</td>\n",
       "      <td>217.0</td>\n",
       "      <td>197.0</td>\n",
       "      <td>116.0</td>\n",
       "      <td>133.0</td>\n",
       "      <td>166.0</td>\n",
       "      <td>136.0</td>\n",
       "      <td>167.0</td>\n",
       "      <td>191.0</td>\n",
       "      <td>203.0</td>\n",
       "      <td>173.3</td>\n",
       "    </tr>\n",
       "    <tr>\n",
       "      <th>2018-08-31 20:00:00</th>\n",
       "      <td>154</td>\n",
       "      <td>8</td>\n",
       "      <td>31</td>\n",
       "      <td>4</td>\n",
       "      <td>20</td>\n",
       "      <td>136.0</td>\n",
       "      <td>207.0</td>\n",
       "      <td>217.0</td>\n",
       "      <td>197.0</td>\n",
       "      <td>116.0</td>\n",
       "      <td>133.0</td>\n",
       "      <td>166.0</td>\n",
       "      <td>136.0</td>\n",
       "      <td>167.0</td>\n",
       "      <td>191.0</td>\n",
       "      <td>166.6</td>\n",
       "    </tr>\n",
       "    <tr>\n",
       "      <th>2018-08-31 21:00:00</th>\n",
       "      <td>159</td>\n",
       "      <td>8</td>\n",
       "      <td>31</td>\n",
       "      <td>4</td>\n",
       "      <td>21</td>\n",
       "      <td>154.0</td>\n",
       "      <td>136.0</td>\n",
       "      <td>207.0</td>\n",
       "      <td>217.0</td>\n",
       "      <td>197.0</td>\n",
       "      <td>116.0</td>\n",
       "      <td>133.0</td>\n",
       "      <td>166.0</td>\n",
       "      <td>136.0</td>\n",
       "      <td>167.0</td>\n",
       "      <td>162.9</td>\n",
       "    </tr>\n",
       "    <tr>\n",
       "      <th>2018-08-31 22:00:00</th>\n",
       "      <td>223</td>\n",
       "      <td>8</td>\n",
       "      <td>31</td>\n",
       "      <td>4</td>\n",
       "      <td>22</td>\n",
       "      <td>159.0</td>\n",
       "      <td>154.0</td>\n",
       "      <td>136.0</td>\n",
       "      <td>207.0</td>\n",
       "      <td>217.0</td>\n",
       "      <td>197.0</td>\n",
       "      <td>116.0</td>\n",
       "      <td>133.0</td>\n",
       "      <td>166.0</td>\n",
       "      <td>136.0</td>\n",
       "      <td>162.1</td>\n",
       "    </tr>\n",
       "    <tr>\n",
       "      <th>2018-08-31 23:00:00</th>\n",
       "      <td>205</td>\n",
       "      <td>8</td>\n",
       "      <td>31</td>\n",
       "      <td>4</td>\n",
       "      <td>23</td>\n",
       "      <td>223.0</td>\n",
       "      <td>159.0</td>\n",
       "      <td>154.0</td>\n",
       "      <td>136.0</td>\n",
       "      <td>207.0</td>\n",
       "      <td>217.0</td>\n",
       "      <td>197.0</td>\n",
       "      <td>116.0</td>\n",
       "      <td>133.0</td>\n",
       "      <td>166.0</td>\n",
       "      <td>170.8</td>\n",
       "    </tr>\n",
       "  </tbody>\n",
       "</table>\n",
       "<p>4416 rows × 16 columns</p>\n",
       "</div>"
      ],
      "text/plain": [
       "                     num_orders  month  day  dayofweek  hour  lag_1  lag_2  \\\n",
       "datetime                                                                     \n",
       "2018-03-01 00:00:00         124      3    1          3     0    NaN    NaN   \n",
       "2018-03-01 01:00:00          85      3    1          3     1  124.0    NaN   \n",
       "2018-03-01 02:00:00          71      3    1          3     2   85.0  124.0   \n",
       "2018-03-01 03:00:00          66      3    1          3     3   71.0   85.0   \n",
       "2018-03-01 04:00:00          43      3    1          3     4   66.0   71.0   \n",
       "...                         ...    ...  ...        ...   ...    ...    ...   \n",
       "2018-08-31 19:00:00         136      8   31          4    19  207.0  217.0   \n",
       "2018-08-31 20:00:00         154      8   31          4    20  136.0  207.0   \n",
       "2018-08-31 21:00:00         159      8   31          4    21  154.0  136.0   \n",
       "2018-08-31 22:00:00         223      8   31          4    22  159.0  154.0   \n",
       "2018-08-31 23:00:00         205      8   31          4    23  223.0  159.0   \n",
       "\n",
       "                     lag_3  lag_4  lag_5  lag_6  lag_7  lag_8  lag_9  lag_10  \\\n",
       "datetime                                                                       \n",
       "2018-03-01 00:00:00    NaN    NaN    NaN    NaN    NaN    NaN    NaN     NaN   \n",
       "2018-03-01 01:00:00    NaN    NaN    NaN    NaN    NaN    NaN    NaN     NaN   \n",
       "2018-03-01 02:00:00    NaN    NaN    NaN    NaN    NaN    NaN    NaN     NaN   \n",
       "2018-03-01 03:00:00  124.0    NaN    NaN    NaN    NaN    NaN    NaN     NaN   \n",
       "2018-03-01 04:00:00   85.0  124.0    NaN    NaN    NaN    NaN    NaN     NaN   \n",
       "...                    ...    ...    ...    ...    ...    ...    ...     ...   \n",
       "2018-08-31 19:00:00  197.0  116.0  133.0  166.0  136.0  167.0  191.0   203.0   \n",
       "2018-08-31 20:00:00  217.0  197.0  116.0  133.0  166.0  136.0  167.0   191.0   \n",
       "2018-08-31 21:00:00  207.0  217.0  197.0  116.0  133.0  166.0  136.0   167.0   \n",
       "2018-08-31 22:00:00  136.0  207.0  217.0  197.0  116.0  133.0  166.0   136.0   \n",
       "2018-08-31 23:00:00  154.0  136.0  207.0  217.0  197.0  116.0  133.0   166.0   \n",
       "\n",
       "                     rolling_mean  \n",
       "datetime                           \n",
       "2018-03-01 00:00:00           NaN  \n",
       "2018-03-01 01:00:00           NaN  \n",
       "2018-03-01 02:00:00           NaN  \n",
       "2018-03-01 03:00:00           NaN  \n",
       "2018-03-01 04:00:00           NaN  \n",
       "...                           ...  \n",
       "2018-08-31 19:00:00         173.3  \n",
       "2018-08-31 20:00:00         166.6  \n",
       "2018-08-31 21:00:00         162.9  \n",
       "2018-08-31 22:00:00         162.1  \n",
       "2018-08-31 23:00:00         170.8  \n",
       "\n",
       "[4416 rows x 16 columns]"
      ]
     },
     "execution_count": 21,
     "metadata": {},
     "output_type": "execute_result"
    }
   ],
   "source": [
    "df=make_features(data, 10, 10)\n",
    "df"
   ]
  },
  {
   "cell_type": "markdown",
   "metadata": {},
   "source": [
    "***Linear Regression***"
   ]
  },
  {
   "cell_type": "code",
   "execution_count": 22,
   "metadata": {},
   "outputs": [],
   "source": [
    "train, test = train_test_split(df, shuffle=False, test_size=0.2)\n",
    "train = train.dropna()\n",
    "y_train = train['num_orders']\n",
    "X_train = train.drop('num_orders', axis=1)\n",
    "test_y = test['num_orders']\n",
    "test_X = test.drop('num_orders', axis=1)"
   ]
  },
  {
   "cell_type": "code",
   "execution_count": 23,
   "metadata": {},
   "outputs": [
    {
     "name": "stdout",
     "output_type": "stream",
     "text": [
      "RMSE on test: 47.91947872044137\n"
     ]
    }
   ],
   "source": [
    "model = LinearRegression()\n",
    "model.fit(X_train, y_train)\n",
    "pred_train = model.predict(X_train)\n",
    "pred_test = model.predict(test_X)\n",
    "print('RMSE on test:', math.sqrt(mean_squared_error(test_y, pred_test)))"
   ]
  },
  {
   "cell_type": "code",
   "execution_count": 24,
   "metadata": {},
   "outputs": [],
   "source": [
    "def eval_regressor(y_true, y_pred):\n",
    "    \n",
    "    rmse = np.sqrt(mean_squared_error(y_true, y_pred))\n",
    "    return rmse"
   ]
  },
  {
   "cell_type": "code",
   "execution_count": 25,
   "metadata": {},
   "outputs": [],
   "source": [
    "rmse = make_scorer(eval_regressor, greater_is_better=False)"
   ]
  },
  {
   "cell_type": "code",
   "execution_count": 26,
   "metadata": {},
   "outputs": [],
   "source": [
    "def train_fit_score(model, params, name):\n",
    "    tscv = TimeSeriesSplit(n_splits=5)\n",
    "    model = GridSearchCV(model, param_grid=params, cv=tscv, scoring=rmse, verbose=0, refit=True)\n",
    "    model.fit(X_train, y_train)\n",
    "    return pd.DataFrame([[name, abs(model.best_score_), model.best_params_]], columns=['Estimator', 'Best Score', 'Best Params'])"
   ]
  },
  {
   "cell_type": "code",
   "execution_count": 30,
   "metadata": {},
   "outputs": [
    {
     "name": "stdout",
     "output_type": "stream",
     "text": [
      "CPU times: user 60.1 ms, sys: 42.9 ms, total: 103 ms\n",
      "Wall time: 77.4 ms\n"
     ]
    }
   ],
   "source": [
    "%%time\n",
    "#Create Linear Regressor\n",
    "LinearRegressor = train_fit_score(LinearRegression(), {}, 'Linear Regressor')"
   ]
  },
  {
   "cell_type": "code",
   "execution_count": 31,
   "metadata": {},
   "outputs": [
    {
     "data": {
      "text/html": [
       "<div>\n",
       "<style scoped>\n",
       "    .dataframe tbody tr th:only-of-type {\n",
       "        vertical-align: middle;\n",
       "    }\n",
       "\n",
       "    .dataframe tbody tr th {\n",
       "        vertical-align: top;\n",
       "    }\n",
       "\n",
       "    .dataframe thead th {\n",
       "        text-align: right;\n",
       "    }\n",
       "</style>\n",
       "<table border=\"1\" class=\"dataframe\">\n",
       "  <thead>\n",
       "    <tr style=\"text-align: right;\">\n",
       "      <th></th>\n",
       "      <th>Estimator</th>\n",
       "      <th>Best Score</th>\n",
       "      <th>Best Params</th>\n",
       "    </tr>\n",
       "  </thead>\n",
       "  <tbody>\n",
       "    <tr>\n",
       "      <th>0</th>\n",
       "      <td>Linear Regressor</td>\n",
       "      <td>29.957959</td>\n",
       "      <td>{}</td>\n",
       "    </tr>\n",
       "  </tbody>\n",
       "</table>\n",
       "</div>"
      ],
      "text/plain": [
       "          Estimator  Best Score Best Params\n",
       "0  Linear Regressor   29.957959          {}"
      ]
     },
     "execution_count": 31,
     "metadata": {},
     "output_type": "execute_result"
    }
   ],
   "source": [
    "LinearRegressor"
   ]
  },
  {
   "cell_type": "code",
   "execution_count": 32,
   "metadata": {},
   "outputs": [
    {
     "name": "stdout",
     "output_type": "stream",
     "text": [
      "Learning rate set to 0.429894\n",
      "0:\tlearn: 24.0744300\ttotal: 48.1ms\tremaining: 2.36s\n",
      "1:\tlearn: 20.9666489\ttotal: 49.5ms\tremaining: 1.19s\n",
      "2:\tlearn: 19.0660017\ttotal: 51.6ms\tremaining: 808ms\n",
      "3:\tlearn: 18.5657041\ttotal: 53.7ms\tremaining: 617ms\n",
      "4:\tlearn: 17.6856224\ttotal: 55.7ms\tremaining: 502ms\n",
      "5:\tlearn: 16.9821809\ttotal: 57.9ms\tremaining: 425ms\n",
      "6:\tlearn: 16.3248428\ttotal: 59.2ms\tremaining: 363ms\n",
      "7:\tlearn: 16.0013933\ttotal: 60.5ms\tremaining: 318ms\n",
      "8:\tlearn: 15.5929609\ttotal: 61.9ms\tremaining: 282ms\n",
      "9:\tlearn: 15.0477739\ttotal: 63.3ms\tremaining: 253ms\n",
      "10:\tlearn: 14.7260066\ttotal: 65.4ms\tremaining: 232ms\n",
      "11:\tlearn: 14.3836290\ttotal: 66.8ms\tremaining: 211ms\n",
      "12:\tlearn: 14.1470077\ttotal: 68.2ms\tremaining: 194ms\n",
      "13:\tlearn: 13.7702677\ttotal: 69.5ms\tremaining: 179ms\n",
      "14:\tlearn: 13.5805818\ttotal: 70.9ms\tremaining: 166ms\n",
      "15:\tlearn: 13.3883384\ttotal: 72.3ms\tremaining: 154ms\n",
      "16:\tlearn: 13.0415902\ttotal: 73.6ms\tremaining: 143ms\n",
      "17:\tlearn: 12.8228710\ttotal: 74.8ms\tremaining: 133ms\n",
      "18:\tlearn: 12.4325067\ttotal: 76.1ms\tremaining: 124ms\n",
      "19:\tlearn: 12.1558159\ttotal: 78.3ms\tremaining: 117ms\n",
      "20:\tlearn: 11.8081440\ttotal: 80.5ms\tremaining: 111ms\n",
      "21:\tlearn: 11.6553341\ttotal: 81.9ms\tremaining: 104ms\n",
      "22:\tlearn: 11.5820568\ttotal: 83.1ms\tremaining: 97.6ms\n",
      "23:\tlearn: 11.5526386\ttotal: 84.5ms\tremaining: 91.5ms\n",
      "24:\tlearn: 11.4286652\ttotal: 85.9ms\tremaining: 85.9ms\n",
      "25:\tlearn: 11.1337018\ttotal: 87.2ms\tremaining: 80.5ms\n",
      "26:\tlearn: 11.0855043\ttotal: 88.5ms\tremaining: 75.4ms\n",
      "27:\tlearn: 10.6882399\ttotal: 89.9ms\tremaining: 70.6ms\n",
      "28:\tlearn: 10.5174033\ttotal: 91.3ms\tremaining: 66.1ms\n",
      "29:\tlearn: 10.2867257\ttotal: 92.6ms\tremaining: 61.8ms\n",
      "30:\tlearn: 10.0610527\ttotal: 94ms\tremaining: 57.6ms\n",
      "31:\tlearn: 9.9275281\ttotal: 95.3ms\tremaining: 53.6ms\n",
      "32:\tlearn: 9.6274144\ttotal: 96.7ms\tremaining: 49.8ms\n",
      "33:\tlearn: 9.3227632\ttotal: 98.2ms\tremaining: 46.2ms\n",
      "34:\tlearn: 9.3015955\ttotal: 100ms\tremaining: 42.9ms\n",
      "35:\tlearn: 9.2468528\ttotal: 102ms\tremaining: 39.6ms\n",
      "36:\tlearn: 9.1277194\ttotal: 103ms\tremaining: 36.2ms\n",
      "37:\tlearn: 8.9912190\ttotal: 104ms\tremaining: 33ms\n",
      "38:\tlearn: 8.7776660\ttotal: 106ms\tremaining: 29.8ms\n",
      "39:\tlearn: 8.6556389\ttotal: 107ms\tremaining: 26.8ms\n",
      "40:\tlearn: 8.5192776\ttotal: 108ms\tremaining: 23.8ms\n",
      "41:\tlearn: 8.1866494\ttotal: 110ms\tremaining: 20.9ms\n",
      "42:\tlearn: 8.0593118\ttotal: 111ms\tremaining: 18.1ms\n",
      "43:\tlearn: 7.7867877\ttotal: 112ms\tremaining: 15.3ms\n",
      "44:\tlearn: 7.6625204\ttotal: 114ms\tremaining: 12.6ms\n",
      "45:\tlearn: 7.4610510\ttotal: 115ms\tremaining: 10ms\n",
      "46:\tlearn: 7.2833238\ttotal: 116ms\tremaining: 7.43ms\n",
      "47:\tlearn: 7.1355489\ttotal: 118ms\tremaining: 4.9ms\n",
      "48:\tlearn: 6.9534407\ttotal: 119ms\tremaining: 2.43ms\n",
      "49:\tlearn: 6.9401229\ttotal: 121ms\tremaining: 0us\n",
      "Learning rate set to 0.47965\n",
      "0:\tlearn: 24.1051706\ttotal: 3.56ms\tremaining: 175ms\n",
      "1:\tlearn: 21.8280039\ttotal: 5.18ms\tremaining: 124ms\n",
      "2:\tlearn: 19.9684982\ttotal: 6.88ms\tremaining: 108ms\n",
      "3:\tlearn: 19.0091917\ttotal: 8.63ms\tremaining: 99.3ms\n",
      "4:\tlearn: 18.5057223\ttotal: 10.3ms\tremaining: 93ms\n",
      "5:\tlearn: 17.6595488\ttotal: 12.1ms\tremaining: 88.9ms\n",
      "6:\tlearn: 17.1962932\ttotal: 14ms\tremaining: 86ms\n",
      "7:\tlearn: 16.8457349\ttotal: 15.7ms\tremaining: 82.4ms\n",
      "8:\tlearn: 16.4901974\ttotal: 17.5ms\tremaining: 79.5ms\n",
      "9:\tlearn: 16.1744111\ttotal: 19.9ms\tremaining: 79.6ms\n",
      "10:\tlearn: 15.9992953\ttotal: 21.5ms\tremaining: 76.2ms\n",
      "11:\tlearn: 15.8433034\ttotal: 23.1ms\tremaining: 73.2ms\n",
      "12:\tlearn: 15.6737784\ttotal: 24.7ms\tremaining: 70.3ms\n",
      "13:\tlearn: 15.4614509\ttotal: 26.5ms\tremaining: 68.1ms\n",
      "14:\tlearn: 15.2913335\ttotal: 28.2ms\tremaining: 65.9ms\n",
      "15:\tlearn: 15.2005269\ttotal: 30.1ms\tremaining: 63.9ms\n",
      "16:\tlearn: 14.8666384\ttotal: 31.7ms\tremaining: 61.6ms\n",
      "17:\tlearn: 14.4865997\ttotal: 34.3ms\tremaining: 60.9ms\n",
      "18:\tlearn: 14.2694832\ttotal: 36.7ms\tremaining: 59.8ms\n",
      "19:\tlearn: 14.1127731\ttotal: 38.4ms\tremaining: 57.6ms\n",
      "20:\tlearn: 13.8324676\ttotal: 40.9ms\tremaining: 56.5ms\n",
      "21:\tlearn: 13.4363791\ttotal: 42.6ms\tremaining: 54.2ms\n",
      "22:\tlearn: 13.1973147\ttotal: 44.2ms\tremaining: 51.9ms\n",
      "23:\tlearn: 13.0872207\ttotal: 45.9ms\tremaining: 49.7ms\n",
      "24:\tlearn: 12.9596157\ttotal: 47.6ms\tremaining: 47.6ms\n",
      "25:\tlearn: 12.6846058\ttotal: 49.2ms\tremaining: 45.4ms\n",
      "26:\tlearn: 12.3123420\ttotal: 51.9ms\tremaining: 44.2ms\n",
      "27:\tlearn: 12.0341690\ttotal: 54.4ms\tremaining: 42.7ms\n",
      "28:\tlearn: 11.8428527\ttotal: 56.8ms\tremaining: 41.1ms\n",
      "29:\tlearn: 11.7470012\ttotal: 59.4ms\tremaining: 39.6ms\n",
      "30:\tlearn: 11.6275868\ttotal: 61.2ms\tremaining: 37.5ms\n",
      "31:\tlearn: 11.4534839\ttotal: 62.9ms\tremaining: 35.4ms\n",
      "32:\tlearn: 11.4071186\ttotal: 65.3ms\tremaining: 33.6ms\n",
      "33:\tlearn: 11.3799950\ttotal: 67ms\tremaining: 31.5ms\n",
      "34:\tlearn: 11.1940821\ttotal: 68.6ms\tremaining: 29.4ms\n",
      "35:\tlearn: 10.9756673\ttotal: 70.3ms\tremaining: 27.3ms\n",
      "36:\tlearn: 10.7673912\ttotal: 71.9ms\tremaining: 25.3ms\n",
      "37:\tlearn: 10.5940310\ttotal: 73.6ms\tremaining: 23.2ms\n",
      "38:\tlearn: 10.4114533\ttotal: 75.3ms\tremaining: 21.2ms\n",
      "39:\tlearn: 10.2427885\ttotal: 76.9ms\tremaining: 19.2ms\n",
      "40:\tlearn: 10.1168434\ttotal: 78.5ms\tremaining: 17.2ms\n",
      "41:\tlearn: 10.0637391\ttotal: 80.7ms\tremaining: 15.4ms\n",
      "42:\tlearn: 9.8890160\ttotal: 82.5ms\tremaining: 13.4ms\n",
      "43:\tlearn: 9.8379374\ttotal: 84.2ms\tremaining: 11.5ms\n",
      "44:\tlearn: 9.7058413\ttotal: 85.9ms\tremaining: 9.55ms\n",
      "45:\tlearn: 9.5965424\ttotal: 87.6ms\tremaining: 7.61ms\n",
      "46:\tlearn: 9.4356058\ttotal: 89.2ms\tremaining: 5.69ms\n",
      "47:\tlearn: 9.3048106\ttotal: 90.8ms\tremaining: 3.78ms\n",
      "48:\tlearn: 9.2579479\ttotal: 92.4ms\tremaining: 1.89ms\n",
      "49:\tlearn: 9.1482416\ttotal: 94.2ms\tremaining: 0us\n",
      "Learning rate set to 0.5\n",
      "0:\tlearn: 26.5191462\ttotal: 3.04ms\tremaining: 149ms\n",
      "1:\tlearn: 23.4579691\ttotal: 4.97ms\tremaining: 119ms\n",
      "2:\tlearn: 21.9522316\ttotal: 6.93ms\tremaining: 109ms\n",
      "3:\tlearn: 21.1253214\ttotal: 8.71ms\tremaining: 100ms\n",
      "4:\tlearn: 20.3346670\ttotal: 10.7ms\tremaining: 96.5ms\n",
      "5:\tlearn: 19.7955908\ttotal: 12.6ms\tremaining: 92.6ms\n",
      "6:\tlearn: 19.2659039\ttotal: 14.5ms\tremaining: 89.3ms\n",
      "7:\tlearn: 19.0795956\ttotal: 16.4ms\tremaining: 86.1ms\n",
      "8:\tlearn: 18.7147359\ttotal: 18.2ms\tremaining: 82.8ms\n",
      "9:\tlearn: 18.5552465\ttotal: 19.9ms\tremaining: 79.7ms\n",
      "10:\tlearn: 18.2048076\ttotal: 21.7ms\tremaining: 76.9ms\n",
      "11:\tlearn: 17.9500018\ttotal: 23.5ms\tremaining: 74.3ms\n",
      "12:\tlearn: 17.7917545\ttotal: 25.3ms\tremaining: 71.9ms\n",
      "13:\tlearn: 17.4439002\ttotal: 27ms\tremaining: 69.6ms\n",
      "14:\tlearn: 17.3452423\ttotal: 29.1ms\tremaining: 67.9ms\n",
      "15:\tlearn: 17.0545971\ttotal: 30.9ms\tremaining: 65.7ms\n",
      "16:\tlearn: 16.8159726\ttotal: 32.6ms\tremaining: 63.3ms\n",
      "17:\tlearn: 16.6661729\ttotal: 34.4ms\tremaining: 61.1ms\n",
      "18:\tlearn: 16.3282891\ttotal: 36.1ms\tremaining: 58.9ms\n",
      "19:\tlearn: 15.9553985\ttotal: 38ms\tremaining: 57ms\n",
      "20:\tlearn: 15.8379980\ttotal: 39.6ms\tremaining: 54.7ms\n",
      "21:\tlearn: 15.6501078\ttotal: 41.6ms\tremaining: 53ms\n",
      "22:\tlearn: 15.3187550\ttotal: 44.4ms\tremaining: 52.1ms\n",
      "23:\tlearn: 15.0009108\ttotal: 46.8ms\tremaining: 50.7ms\n",
      "24:\tlearn: 14.7878244\ttotal: 48.5ms\tremaining: 48.5ms\n",
      "25:\tlearn: 14.6960265\ttotal: 50.3ms\tremaining: 46.4ms\n",
      "26:\tlearn: 14.5422717\ttotal: 52.1ms\tremaining: 44.4ms\n",
      "27:\tlearn: 14.3864219\ttotal: 53.8ms\tremaining: 42.2ms\n",
      "28:\tlearn: 14.2057827\ttotal: 55.5ms\tremaining: 40.2ms\n",
      "29:\tlearn: 14.1016340\ttotal: 57.2ms\tremaining: 38.2ms\n",
      "30:\tlearn: 13.9406099\ttotal: 59ms\tremaining: 36.2ms\n",
      "31:\tlearn: 13.7220568\ttotal: 60.7ms\tremaining: 34.2ms\n",
      "32:\tlearn: 13.5581095\ttotal: 62.6ms\tremaining: 32.2ms\n",
      "33:\tlearn: 13.4591814\ttotal: 64.3ms\tremaining: 30.3ms\n",
      "34:\tlearn: 13.3502125\ttotal: 66.1ms\tremaining: 28.3ms\n",
      "35:\tlearn: 13.2255133\ttotal: 68.6ms\tremaining: 26.7ms\n",
      "36:\tlearn: 13.0985842\ttotal: 70.3ms\tremaining: 24.7ms\n",
      "37:\tlearn: 12.8675080\ttotal: 72.1ms\tremaining: 22.8ms\n",
      "38:\tlearn: 12.7133365\ttotal: 74ms\tremaining: 20.9ms\n",
      "39:\tlearn: 12.6033782\ttotal: 76.3ms\tremaining: 19.1ms\n",
      "40:\tlearn: 12.5338139\ttotal: 78.1ms\tremaining: 17.1ms\n",
      "41:\tlearn: 12.4302713\ttotal: 79.8ms\tremaining: 15.2ms\n",
      "42:\tlearn: 12.3239868\ttotal: 81.6ms\tremaining: 13.3ms\n",
      "43:\tlearn: 12.0997175\ttotal: 83.3ms\tremaining: 11.4ms\n",
      "44:\tlearn: 11.9174543\ttotal: 85.2ms\tremaining: 9.47ms\n",
      "45:\tlearn: 11.8886833\ttotal: 86.9ms\tremaining: 7.55ms\n",
      "46:\tlearn: 11.7951259\ttotal: 88.6ms\tremaining: 5.65ms\n",
      "47:\tlearn: 11.6625391\ttotal: 90.3ms\tremaining: 3.76ms\n",
      "48:\tlearn: 11.5503317\ttotal: 92.1ms\tremaining: 1.88ms\n",
      "49:\tlearn: 11.4056406\ttotal: 94.8ms\tremaining: 0us\n",
      "Learning rate set to 0.5\n",
      "0:\tlearn: 27.4169284\ttotal: 2.66ms\tremaining: 130ms\n",
      "1:\tlearn: 24.4983895\ttotal: 4.81ms\tremaining: 116ms\n",
      "2:\tlearn: 23.1073748\ttotal: 7.07ms\tremaining: 111ms\n",
      "3:\tlearn: 22.2356351\ttotal: 9.15ms\tremaining: 105ms\n",
      "4:\tlearn: 21.5607522\ttotal: 11.2ms\tremaining: 101ms\n",
      "5:\tlearn: 20.9440865\ttotal: 13.2ms\tremaining: 97ms\n",
      "6:\tlearn: 20.4133309\ttotal: 15.2ms\tremaining: 93.5ms\n",
      "7:\tlearn: 20.1267403\ttotal: 17.2ms\tremaining: 90.5ms\n",
      "8:\tlearn: 19.6671331\ttotal: 19.2ms\tremaining: 87.4ms\n",
      "9:\tlearn: 19.5786966\ttotal: 21.1ms\tremaining: 84.4ms\n",
      "10:\tlearn: 19.1168710\ttotal: 23.1ms\tremaining: 81.8ms\n",
      "11:\tlearn: 18.9066802\ttotal: 25ms\tremaining: 79.1ms\n",
      "12:\tlearn: 18.6644754\ttotal: 26.9ms\tremaining: 76.6ms\n",
      "13:\tlearn: 18.3866061\ttotal: 28.9ms\tremaining: 74.4ms\n",
      "14:\tlearn: 18.0966285\ttotal: 30.9ms\tremaining: 72.1ms\n",
      "15:\tlearn: 17.9220129\ttotal: 33.1ms\tremaining: 70.4ms\n",
      "16:\tlearn: 17.6792111\ttotal: 35.2ms\tremaining: 68.3ms\n",
      "17:\tlearn: 17.4538048\ttotal: 37.6ms\tremaining: 66.9ms\n",
      "18:\tlearn: 17.0888124\ttotal: 39.7ms\tremaining: 64.8ms\n",
      "19:\tlearn: 16.7792381\ttotal: 42.6ms\tremaining: 63.9ms\n",
      "20:\tlearn: 16.5908329\ttotal: 45.2ms\tremaining: 62.4ms\n",
      "21:\tlearn: 16.4704259\ttotal: 47.2ms\tremaining: 60.1ms\n",
      "22:\tlearn: 16.2451524\ttotal: 49.2ms\tremaining: 57.7ms\n",
      "23:\tlearn: 16.1932963\ttotal: 51.9ms\tremaining: 56.2ms\n",
      "24:\tlearn: 15.9211040\ttotal: 54ms\tremaining: 54ms\n",
      "25:\tlearn: 15.6548415\ttotal: 56.2ms\tremaining: 51.9ms\n",
      "26:\tlearn: 15.5255020\ttotal: 58.1ms\tremaining: 49.5ms\n",
      "27:\tlearn: 15.2742386\ttotal: 61ms\tremaining: 48ms\n",
      "28:\tlearn: 15.0296312\ttotal: 63ms\tremaining: 45.6ms\n",
      "29:\tlearn: 14.8101775\ttotal: 65ms\tremaining: 43.4ms\n",
      "30:\tlearn: 14.5842562\ttotal: 67.4ms\tremaining: 41.3ms\n",
      "31:\tlearn: 14.4592664\ttotal: 69.4ms\tremaining: 39ms\n",
      "32:\tlearn: 14.2938706\ttotal: 71.6ms\tremaining: 36.9ms\n",
      "33:\tlearn: 14.1867609\ttotal: 73.6ms\tremaining: 34.6ms\n",
      "34:\tlearn: 14.0627120\ttotal: 75.6ms\tremaining: 32.4ms\n",
      "35:\tlearn: 13.8839245\ttotal: 77.5ms\tremaining: 30.2ms\n",
      "36:\tlearn: 13.7087272\ttotal: 79.5ms\tremaining: 27.9ms\n",
      "37:\tlearn: 13.6326241\ttotal: 81.9ms\tremaining: 25.9ms\n",
      "38:\tlearn: 13.5554968\ttotal: 83.8ms\tremaining: 23.6ms\n",
      "39:\tlearn: 13.4031802\ttotal: 85.7ms\tremaining: 21.4ms\n",
      "40:\tlearn: 13.2217680\ttotal: 88ms\tremaining: 19.3ms\n",
      "41:\tlearn: 13.1489419\ttotal: 90ms\tremaining: 17.1ms\n",
      "42:\tlearn: 13.0278363\ttotal: 92ms\tremaining: 15ms\n",
      "43:\tlearn: 12.9829563\ttotal: 93.8ms\tremaining: 12.8ms\n",
      "44:\tlearn: 12.8960551\ttotal: 95.8ms\tremaining: 10.6ms\n",
      "45:\tlearn: 12.8465232\ttotal: 97.8ms\tremaining: 8.51ms\n",
      "46:\tlearn: 12.6318248\ttotal: 100ms\tremaining: 6.38ms\n",
      "47:\tlearn: 12.5369773\ttotal: 102ms\tremaining: 4.25ms\n",
      "48:\tlearn: 12.4384622\ttotal: 105ms\tremaining: 2.14ms\n",
      "49:\tlearn: 12.3368540\ttotal: 107ms\tremaining: 0us\n",
      "Learning rate set to 0.5\n",
      "0:\tlearn: 28.4291856\ttotal: 2.87ms\tremaining: 140ms\n",
      "1:\tlearn: 24.5454716\ttotal: 5.03ms\tremaining: 121ms\n",
      "2:\tlearn: 23.3788942\ttotal: 7.24ms\tremaining: 113ms\n",
      "3:\tlearn: 22.1783296\ttotal: 9.39ms\tremaining: 108ms\n",
      "4:\tlearn: 21.6037543\ttotal: 11.5ms\tremaining: 104ms\n",
      "5:\tlearn: 20.9449321\ttotal: 13.6ms\tremaining: 99.9ms\n",
      "6:\tlearn: 20.5858516\ttotal: 15.6ms\tremaining: 96.1ms\n",
      "7:\tlearn: 20.2121141\ttotal: 17.7ms\tremaining: 92.8ms\n",
      "8:\tlearn: 19.9477376\ttotal: 19.7ms\tremaining: 89.7ms\n",
      "9:\tlearn: 19.8464334\ttotal: 22.2ms\tremaining: 88.7ms\n",
      "10:\tlearn: 19.5725512\ttotal: 24.4ms\tremaining: 86.5ms\n",
      "11:\tlearn: 19.5144623\ttotal: 26.3ms\tremaining: 83.4ms\n",
      "12:\tlearn: 19.3030999\ttotal: 28.4ms\tremaining: 80.9ms\n",
      "13:\tlearn: 19.0346369\ttotal: 30.6ms\tremaining: 78.6ms\n",
      "14:\tlearn: 18.9559816\ttotal: 32.7ms\tremaining: 76.2ms\n",
      "15:\tlearn: 18.7098203\ttotal: 34.7ms\tremaining: 73.7ms\n",
      "16:\tlearn: 18.4970661\ttotal: 37.7ms\tremaining: 73.1ms\n",
      "17:\tlearn: 18.2823341\ttotal: 39.8ms\tremaining: 70.8ms\n",
      "18:\tlearn: 18.1655992\ttotal: 41.9ms\tremaining: 68.3ms\n",
      "19:\tlearn: 18.0778068\ttotal: 43.9ms\tremaining: 65.8ms\n",
      "20:\tlearn: 17.9296316\ttotal: 46.9ms\tremaining: 64.8ms\n",
      "21:\tlearn: 17.7318742\ttotal: 49.8ms\tremaining: 63.4ms\n",
      "22:\tlearn: 17.3712282\ttotal: 51.9ms\tremaining: 60.9ms\n",
      "23:\tlearn: 17.1353773\ttotal: 55.2ms\tremaining: 59.8ms\n",
      "24:\tlearn: 16.8284978\ttotal: 57.8ms\tremaining: 57.8ms\n",
      "25:\tlearn: 16.6961268\ttotal: 59.9ms\tremaining: 55.2ms\n",
      "26:\tlearn: 16.5611677\ttotal: 62.3ms\tremaining: 53.1ms\n",
      "27:\tlearn: 16.4567186\ttotal: 64.3ms\tremaining: 50.5ms\n",
      "28:\tlearn: 16.2986273\ttotal: 66.7ms\tremaining: 48.3ms\n",
      "29:\tlearn: 16.1568647\ttotal: 69.6ms\tremaining: 46.4ms\n",
      "30:\tlearn: 16.1120711\ttotal: 72.4ms\tremaining: 44.4ms\n",
      "31:\tlearn: 15.9802069\ttotal: 74.5ms\tremaining: 41.9ms\n",
      "32:\tlearn: 15.8905960\ttotal: 76.6ms\tremaining: 39.4ms\n",
      "33:\tlearn: 15.6846057\ttotal: 78.7ms\tremaining: 37ms\n",
      "34:\tlearn: 15.6378290\ttotal: 81.5ms\tremaining: 34.9ms\n",
      "35:\tlearn: 15.5642435\ttotal: 84ms\tremaining: 32.6ms\n",
      "36:\tlearn: 15.4687193\ttotal: 86ms\tremaining: 30.2ms\n",
      "37:\tlearn: 15.3751413\ttotal: 88.1ms\tremaining: 27.8ms\n",
      "38:\tlearn: 15.3046278\ttotal: 90.1ms\tremaining: 25.4ms\n",
      "39:\tlearn: 15.1976459\ttotal: 92.2ms\tremaining: 23ms\n",
      "40:\tlearn: 15.0532534\ttotal: 94.2ms\tremaining: 20.7ms\n",
      "41:\tlearn: 14.9382365\ttotal: 96.3ms\tremaining: 18.3ms\n",
      "42:\tlearn: 14.8230484\ttotal: 98.4ms\tremaining: 16ms\n",
      "43:\tlearn: 14.6164317\ttotal: 101ms\tremaining: 13.8ms\n",
      "44:\tlearn: 14.5496871\ttotal: 104ms\tremaining: 11.5ms\n",
      "45:\tlearn: 14.3647499\ttotal: 106ms\tremaining: 9.22ms\n",
      "46:\tlearn: 14.2723695\ttotal: 109ms\tremaining: 6.96ms\n",
      "47:\tlearn: 14.1972421\ttotal: 111ms\tremaining: 4.63ms\n",
      "48:\tlearn: 14.0954459\ttotal: 113ms\tremaining: 2.31ms\n",
      "49:\tlearn: 14.0148645\ttotal: 116ms\tremaining: 0us\n",
      "Learning rate set to 0.244695\n",
      "0:\tlearn: 26.1936154\ttotal: 1.44ms\tremaining: 142ms\n",
      "1:\tlearn: 24.0321234\ttotal: 2.81ms\tremaining: 138ms\n",
      "2:\tlearn: 22.0676622\ttotal: 4.31ms\tremaining: 139ms\n",
      "3:\tlearn: 21.4092206\ttotal: 5.62ms\tremaining: 135ms\n",
      "4:\tlearn: 20.1889827\ttotal: 6.9ms\tremaining: 131ms\n",
      "5:\tlearn: 19.4399348\ttotal: 8.18ms\tremaining: 128ms\n",
      "6:\tlearn: 18.7589699\ttotal: 9.48ms\tremaining: 126ms\n",
      "7:\tlearn: 18.2594921\ttotal: 10.8ms\tremaining: 124ms\n",
      "8:\tlearn: 17.6011161\ttotal: 12.2ms\tremaining: 123ms\n",
      "9:\tlearn: 17.2053566\ttotal: 13.5ms\tremaining: 121ms\n",
      "10:\tlearn: 16.8948475\ttotal: 14.8ms\tremaining: 120ms\n",
      "11:\tlearn: 16.6027028\ttotal: 16.2ms\tremaining: 119ms\n",
      "12:\tlearn: 16.3385514\ttotal: 17.5ms\tremaining: 117ms\n",
      "13:\tlearn: 15.9745127\ttotal: 18.9ms\tremaining: 116ms\n",
      "14:\tlearn: 15.7136997\ttotal: 20.2ms\tremaining: 115ms\n",
      "15:\tlearn: 15.4118638\ttotal: 21.5ms\tremaining: 113ms\n",
      "16:\tlearn: 15.1635051\ttotal: 22.9ms\tremaining: 112ms\n",
      "17:\tlearn: 14.8913603\ttotal: 24.2ms\tremaining: 110ms\n",
      "18:\tlearn: 14.6494736\ttotal: 25.5ms\tremaining: 109ms\n",
      "19:\tlearn: 14.4823668\ttotal: 26.9ms\tremaining: 108ms\n",
      "20:\tlearn: 14.3543023\ttotal: 28.3ms\tremaining: 107ms\n",
      "21:\tlearn: 14.2638065\ttotal: 29.7ms\tremaining: 105ms\n",
      "22:\tlearn: 14.0719426\ttotal: 31ms\tremaining: 104ms\n",
      "23:\tlearn: 13.9251422\ttotal: 32.4ms\tremaining: 102ms\n",
      "24:\tlearn: 13.8094774\ttotal: 34.5ms\tremaining: 104ms\n",
      "25:\tlearn: 13.7088667\ttotal: 36.5ms\tremaining: 104ms\n",
      "26:\tlearn: 13.5185252\ttotal: 38.5ms\tremaining: 104ms\n",
      "27:\tlearn: 13.3629147\ttotal: 39.9ms\tremaining: 103ms\n",
      "28:\tlearn: 13.1122997\ttotal: 41.3ms\tremaining: 101ms\n",
      "29:\tlearn: 12.8688283\ttotal: 42.7ms\tremaining: 99.7ms\n",
      "30:\tlearn: 12.7799417\ttotal: 44.1ms\tremaining: 98.1ms\n",
      "31:\tlearn: 12.6500463\ttotal: 45.4ms\tremaining: 96.4ms\n",
      "32:\tlearn: 12.5227328\ttotal: 46.8ms\tremaining: 95ms\n",
      "33:\tlearn: 12.4328337\ttotal: 48.1ms\tremaining: 93.4ms\n",
      "34:\tlearn: 12.1287280\ttotal: 49.5ms\tremaining: 91.9ms\n",
      "35:\tlearn: 12.0230672\ttotal: 50.8ms\tremaining: 90.4ms\n",
      "36:\tlearn: 11.8218250\ttotal: 52.1ms\tremaining: 88.8ms\n",
      "37:\tlearn: 11.7801878\ttotal: 54ms\tremaining: 88.2ms\n",
      "38:\tlearn: 11.6325898\ttotal: 56ms\tremaining: 87.6ms\n",
      "39:\tlearn: 11.5746599\ttotal: 57.7ms\tremaining: 86.5ms\n",
      "40:\tlearn: 11.5090721\ttotal: 59.7ms\tremaining: 85.8ms\n",
      "41:\tlearn: 11.3165066\ttotal: 62ms\tremaining: 85.6ms\n",
      "42:\tlearn: 11.1295630\ttotal: 64.1ms\tremaining: 85ms\n",
      "43:\tlearn: 10.9925829\ttotal: 66.2ms\tremaining: 84.3ms\n",
      "44:\tlearn: 10.8339912\ttotal: 68ms\tremaining: 83.1ms\n",
      "45:\tlearn: 10.6814436\ttotal: 69.8ms\tremaining: 81.9ms\n",
      "46:\tlearn: 10.5097659\ttotal: 71.3ms\tremaining: 80.4ms\n",
      "47:\tlearn: 10.4601119\ttotal: 72.6ms\tremaining: 78.6ms\n",
      "48:\tlearn: 10.3413745\ttotal: 74.1ms\tremaining: 77.1ms\n",
      "49:\tlearn: 10.1580083\ttotal: 76.3ms\tremaining: 76.3ms\n",
      "50:\tlearn: 9.9762501\ttotal: 77.6ms\tremaining: 74.6ms\n",
      "51:\tlearn: 9.8469369\ttotal: 79.4ms\tremaining: 73.3ms\n",
      "52:\tlearn: 9.7614513\ttotal: 81.4ms\tremaining: 72.2ms\n",
      "53:\tlearn: 9.7406139\ttotal: 83.6ms\tremaining: 71.2ms\n",
      "54:\tlearn: 9.6284641\ttotal: 85.6ms\tremaining: 70ms\n",
      "55:\tlearn: 9.5328881\ttotal: 86.9ms\tremaining: 68.3ms\n",
      "56:\tlearn: 9.4538725\ttotal: 88.9ms\tremaining: 67ms\n",
      "57:\tlearn: 9.2908782\ttotal: 90.2ms\tremaining: 65.3ms\n",
      "58:\tlearn: 9.2430190\ttotal: 91.5ms\tremaining: 63.6ms\n",
      "59:\tlearn: 9.1845801\ttotal: 92.7ms\tremaining: 61.8ms\n",
      "60:\tlearn: 9.1026730\ttotal: 94.2ms\tremaining: 60.2ms\n",
      "61:\tlearn: 9.0948096\ttotal: 95.5ms\tremaining: 58.5ms\n",
      "62:\tlearn: 8.9598357\ttotal: 96.8ms\tremaining: 56.8ms\n",
      "63:\tlearn: 8.8276276\ttotal: 98.1ms\tremaining: 55.2ms\n",
      "64:\tlearn: 8.7484512\ttotal: 99.8ms\tremaining: 53.7ms\n",
      "65:\tlearn: 8.6749250\ttotal: 101ms\tremaining: 52.1ms\n",
      "66:\tlearn: 8.5472989\ttotal: 102ms\tremaining: 50.4ms\n",
      "67:\tlearn: 8.4275769\ttotal: 104ms\tremaining: 48.8ms\n",
      "68:\tlearn: 8.3664279\ttotal: 105ms\tremaining: 47.2ms\n",
      "69:\tlearn: 8.3565125\ttotal: 106ms\tremaining: 45.6ms\n",
      "70:\tlearn: 8.3487393\ttotal: 108ms\tremaining: 44.1ms\n",
      "71:\tlearn: 8.2206608\ttotal: 109ms\tremaining: 42.4ms\n",
      "72:\tlearn: 8.1617046\ttotal: 111ms\tremaining: 40.9ms\n",
      "73:\tlearn: 8.0399288\ttotal: 112ms\tremaining: 39.4ms\n",
      "74:\tlearn: 8.0305391\ttotal: 113ms\tremaining: 37.8ms\n",
      "75:\tlearn: 7.9127625\ttotal: 115ms\tremaining: 36.3ms\n",
      "76:\tlearn: 7.7992104\ttotal: 116ms\tremaining: 34.7ms\n",
      "77:\tlearn: 7.7507644\ttotal: 117ms\tremaining: 33.1ms\n",
      "78:\tlearn: 7.6317269\ttotal: 119ms\tremaining: 31.6ms\n",
      "79:\tlearn: 7.6159083\ttotal: 120ms\tremaining: 30ms\n",
      "80:\tlearn: 7.6098468\ttotal: 121ms\tremaining: 28.5ms\n",
      "81:\tlearn: 7.4398473\ttotal: 123ms\tremaining: 27ms\n",
      "82:\tlearn: 7.4183903\ttotal: 125ms\tremaining: 25.6ms\n",
      "83:\tlearn: 7.4096767\ttotal: 126ms\tremaining: 24.1ms\n",
      "84:\tlearn: 7.3517261\ttotal: 128ms\tremaining: 22.6ms\n",
      "85:\tlearn: 7.3134527\ttotal: 129ms\tremaining: 21ms\n",
      "86:\tlearn: 7.2576491\ttotal: 131ms\tremaining: 19.5ms\n",
      "87:\tlearn: 7.1881446\ttotal: 132ms\tremaining: 18ms\n",
      "88:\tlearn: 7.0317949\ttotal: 133ms\tremaining: 16.5ms\n",
      "89:\tlearn: 7.0253891\ttotal: 134ms\tremaining: 14.9ms\n",
      "90:\tlearn: 6.9688035\ttotal: 136ms\tremaining: 13.4ms\n",
      "91:\tlearn: 6.9315519\ttotal: 137ms\tremaining: 11.9ms\n",
      "92:\tlearn: 6.8415799\ttotal: 138ms\tremaining: 10.4ms\n",
      "93:\tlearn: 6.8374075\ttotal: 140ms\tremaining: 8.91ms\n",
      "94:\tlearn: 6.7093517\ttotal: 141ms\tremaining: 7.42ms\n",
      "95:\tlearn: 6.6057724\ttotal: 143ms\tremaining: 5.95ms\n",
      "96:\tlearn: 6.5967046\ttotal: 145ms\tremaining: 4.48ms\n",
      "97:\tlearn: 6.5439290\ttotal: 147ms\tremaining: 3ms\n",
      "98:\tlearn: 6.5256104\ttotal: 149ms\tremaining: 1.5ms\n",
      "99:\tlearn: 6.4715273\ttotal: 151ms\tremaining: 0us\n",
      "Learning rate set to 0.273015\n",
      "0:\tlearn: 26.2326339\ttotal: 1.83ms\tremaining: 181ms\n",
      "1:\tlearn: 23.9384791\ttotal: 3.45ms\tremaining: 169ms\n",
      "2:\tlearn: 22.2700836\ttotal: 5.01ms\tremaining: 162ms\n",
      "3:\tlearn: 21.5061827\ttotal: 6.61ms\tremaining: 159ms\n",
      "4:\tlearn: 20.4525749\ttotal: 8.25ms\tremaining: 157ms\n",
      "5:\tlearn: 19.9994388\ttotal: 9.7ms\tremaining: 152ms\n",
      "6:\tlearn: 19.4046627\ttotal: 11.4ms\tremaining: 152ms\n",
      "7:\tlearn: 19.0787896\ttotal: 13ms\tremaining: 149ms\n",
      "8:\tlearn: 18.7143247\ttotal: 14.6ms\tremaining: 147ms\n",
      "9:\tlearn: 18.4256053\ttotal: 16.2ms\tremaining: 145ms\n",
      "10:\tlearn: 18.0681941\ttotal: 17.7ms\tremaining: 144ms\n",
      "11:\tlearn: 17.8263195\ttotal: 19.9ms\tremaining: 146ms\n",
      "12:\tlearn: 17.5429862\ttotal: 22ms\tremaining: 147ms\n",
      "13:\tlearn: 17.2571821\ttotal: 24.5ms\tremaining: 151ms\n",
      "14:\tlearn: 17.0433044\ttotal: 26.2ms\tremaining: 149ms\n",
      "15:\tlearn: 16.8457262\ttotal: 28.8ms\tremaining: 151ms\n",
      "16:\tlearn: 16.6324023\ttotal: 30.4ms\tremaining: 148ms\n",
      "17:\tlearn: 16.3543372\ttotal: 31.9ms\tremaining: 145ms\n",
      "18:\tlearn: 16.1529165\ttotal: 33.6ms\tremaining: 143ms\n",
      "19:\tlearn: 16.0793463\ttotal: 35.2ms\tremaining: 141ms\n",
      "20:\tlearn: 15.9122736\ttotal: 36.8ms\tremaining: 138ms\n",
      "21:\tlearn: 15.7772597\ttotal: 39.2ms\tremaining: 139ms\n",
      "22:\tlearn: 15.5680563\ttotal: 41.6ms\tremaining: 139ms\n",
      "23:\tlearn: 15.4158578\ttotal: 43.2ms\tremaining: 137ms\n",
      "24:\tlearn: 15.1944510\ttotal: 45.3ms\tremaining: 136ms\n",
      "25:\tlearn: 15.0545530\ttotal: 47.4ms\tremaining: 135ms\n",
      "26:\tlearn: 14.9019507\ttotal: 49.8ms\tremaining: 135ms\n",
      "27:\tlearn: 14.7636106\ttotal: 52.3ms\tremaining: 134ms\n",
      "28:\tlearn: 14.6953335\ttotal: 54.9ms\tremaining: 134ms\n",
      "29:\tlearn: 14.5467584\ttotal: 56.5ms\tremaining: 132ms\n",
      "30:\tlearn: 14.4234079\ttotal: 58ms\tremaining: 129ms\n",
      "31:\tlearn: 14.2637154\ttotal: 59.5ms\tremaining: 126ms\n",
      "32:\tlearn: 14.2112448\ttotal: 61ms\tremaining: 124ms\n",
      "33:\tlearn: 14.1521558\ttotal: 62.5ms\tremaining: 121ms\n",
      "34:\tlearn: 14.0009076\ttotal: 64.1ms\tremaining: 119ms\n",
      "35:\tlearn: 13.8428593\ttotal: 65.7ms\tremaining: 117ms\n",
      "36:\tlearn: 13.7401599\ttotal: 67.7ms\tremaining: 115ms\n",
      "37:\tlearn: 13.6217769\ttotal: 69.2ms\tremaining: 113ms\n",
      "38:\tlearn: 13.4414562\ttotal: 70.8ms\tremaining: 111ms\n",
      "39:\tlearn: 13.2764270\ttotal: 72.4ms\tremaining: 109ms\n",
      "40:\tlearn: 13.2389346\ttotal: 74ms\tremaining: 106ms\n",
      "41:\tlearn: 13.1030917\ttotal: 76ms\tremaining: 105ms\n",
      "42:\tlearn: 12.9221740\ttotal: 78.3ms\tremaining: 104ms\n",
      "43:\tlearn: 12.7361014\ttotal: 80.8ms\tremaining: 103ms\n",
      "44:\tlearn: 12.6632428\ttotal: 83.4ms\tremaining: 102ms\n",
      "45:\tlearn: 12.5774912\ttotal: 85.9ms\tremaining: 101ms\n",
      "46:\tlearn: 12.4638836\ttotal: 88.5ms\tremaining: 99.8ms\n",
      "47:\tlearn: 12.2972738\ttotal: 90ms\tremaining: 97.5ms\n",
      "48:\tlearn: 12.1543214\ttotal: 91.9ms\tremaining: 95.7ms\n",
      "49:\tlearn: 12.0717730\ttotal: 93.5ms\tremaining: 93.5ms\n",
      "50:\tlearn: 11.9807100\ttotal: 95.1ms\tremaining: 91.4ms\n",
      "51:\tlearn: 11.9020774\ttotal: 96.7ms\tremaining: 89.2ms\n",
      "52:\tlearn: 11.7266078\ttotal: 99ms\tremaining: 87.8ms\n",
      "53:\tlearn: 11.5600260\ttotal: 102ms\tremaining: 86.5ms\n",
      "54:\tlearn: 11.5300409\ttotal: 103ms\tremaining: 84.4ms\n",
      "55:\tlearn: 11.3512926\ttotal: 105ms\tremaining: 82.3ms\n",
      "56:\tlearn: 11.3031612\ttotal: 106ms\tremaining: 80.2ms\n",
      "57:\tlearn: 11.2392945\ttotal: 108ms\tremaining: 78.2ms\n",
      "58:\tlearn: 11.1465037\ttotal: 110ms\tremaining: 76.3ms\n",
      "59:\tlearn: 11.0142844\ttotal: 111ms\tremaining: 74.3ms\n",
      "60:\tlearn: 10.8706675\ttotal: 113ms\tremaining: 72.4ms\n",
      "61:\tlearn: 10.7118697\ttotal: 115ms\tremaining: 70.3ms\n",
      "62:\tlearn: 10.5988491\ttotal: 117ms\tremaining: 68.5ms\n",
      "63:\tlearn: 10.5774584\ttotal: 118ms\tremaining: 66.5ms\n",
      "64:\tlearn: 10.4847824\ttotal: 120ms\tremaining: 64.6ms\n",
      "65:\tlearn: 10.3672351\ttotal: 122ms\tremaining: 62.6ms\n",
      "66:\tlearn: 10.2802839\ttotal: 123ms\tremaining: 60.7ms\n",
      "67:\tlearn: 10.1870781\ttotal: 125ms\tremaining: 58.7ms\n",
      "68:\tlearn: 10.1730617\ttotal: 126ms\tremaining: 56.7ms\n",
      "69:\tlearn: 10.1049514\ttotal: 128ms\tremaining: 54.8ms\n",
      "70:\tlearn: 10.0041190\ttotal: 129ms\tremaining: 52.9ms\n",
      "71:\tlearn: 9.9206249\ttotal: 131ms\tremaining: 51ms\n",
      "72:\tlearn: 9.8341813\ttotal: 133ms\tremaining: 49.4ms\n",
      "73:\tlearn: 9.7917964\ttotal: 136ms\tremaining: 47.8ms\n",
      "74:\tlearn: 9.6343295\ttotal: 139ms\tremaining: 46.2ms\n",
      "75:\tlearn: 9.5408128\ttotal: 140ms\tremaining: 44.2ms\n",
      "76:\tlearn: 9.4910013\ttotal: 142ms\tremaining: 42.3ms\n",
      "77:\tlearn: 9.4790951\ttotal: 143ms\tremaining: 40.4ms\n",
      "78:\tlearn: 9.3758224\ttotal: 145ms\tremaining: 38.5ms\n",
      "79:\tlearn: 9.2837526\ttotal: 146ms\tremaining: 36.6ms\n",
      "80:\tlearn: 9.1815038\ttotal: 148ms\tremaining: 34.7ms\n",
      "81:\tlearn: 9.1055027\ttotal: 150ms\tremaining: 32.8ms\n",
      "82:\tlearn: 9.0841115\ttotal: 151ms\tremaining: 31ms\n",
      "83:\tlearn: 9.0254409\ttotal: 153ms\tremaining: 29.1ms\n",
      "84:\tlearn: 8.9719671\ttotal: 154ms\tremaining: 27.2ms\n",
      "85:\tlearn: 8.8701866\ttotal: 156ms\tremaining: 25.4ms\n",
      "86:\tlearn: 8.8166852\ttotal: 157ms\tremaining: 23.5ms\n",
      "87:\tlearn: 8.7532262\ttotal: 159ms\tremaining: 21.7ms\n",
      "88:\tlearn: 8.6848630\ttotal: 161ms\tremaining: 19.9ms\n",
      "89:\tlearn: 8.6075628\ttotal: 163ms\tremaining: 18.1ms\n",
      "90:\tlearn: 8.5550448\ttotal: 164ms\tremaining: 16.2ms\n",
      "91:\tlearn: 8.4652760\ttotal: 166ms\tremaining: 14.4ms\n",
      "92:\tlearn: 8.3766784\ttotal: 167ms\tremaining: 12.6ms\n",
      "93:\tlearn: 8.3424704\ttotal: 169ms\tremaining: 10.8ms\n",
      "94:\tlearn: 8.2788173\ttotal: 170ms\tremaining: 8.97ms\n",
      "95:\tlearn: 8.2249531\ttotal: 172ms\tremaining: 7.16ms\n",
      "96:\tlearn: 8.1514925\ttotal: 174ms\tremaining: 5.38ms\n",
      "97:\tlearn: 8.0667746\ttotal: 176ms\tremaining: 3.59ms\n",
      "98:\tlearn: 8.0085375\ttotal: 179ms\tremaining: 1.8ms\n",
      "99:\tlearn: 7.9516101\ttotal: 180ms\tremaining: 0us\n",
      "Learning rate set to 0.291078\n",
      "0:\tlearn: 28.1753248\ttotal: 2.06ms\tremaining: 204ms\n",
      "1:\tlearn: 25.5502792\ttotal: 4.11ms\tremaining: 201ms\n",
      "2:\tlearn: 23.8241271\ttotal: 5.97ms\tremaining: 193ms\n",
      "3:\tlearn: 22.8875798\ttotal: 7.74ms\tremaining: 186ms\n",
      "4:\tlearn: 21.8645262\ttotal: 9.54ms\tremaining: 181ms\n",
      "5:\tlearn: 21.2727024\ttotal: 11.4ms\tremaining: 179ms\n",
      "6:\tlearn: 20.5299154\ttotal: 13.2ms\tremaining: 176ms\n",
      "7:\tlearn: 20.0948161\ttotal: 15ms\tremaining: 173ms\n",
      "8:\tlearn: 19.7068442\ttotal: 17.7ms\tremaining: 179ms\n",
      "9:\tlearn: 19.6027927\ttotal: 19.5ms\tremaining: 175ms\n",
      "10:\tlearn: 19.2926149\ttotal: 21.4ms\tremaining: 174ms\n",
      "11:\tlearn: 19.1061396\ttotal: 23.6ms\tremaining: 173ms\n",
      "12:\tlearn: 18.9322919\ttotal: 25.3ms\tremaining: 169ms\n",
      "13:\tlearn: 18.5500443\ttotal: 27.1ms\tremaining: 166ms\n",
      "14:\tlearn: 18.3798111\ttotal: 28.8ms\tremaining: 163ms\n",
      "15:\tlearn: 18.2536109\ttotal: 30.6ms\tremaining: 160ms\n",
      "16:\tlearn: 18.0237929\ttotal: 33.4ms\tremaining: 163ms\n",
      "17:\tlearn: 17.8262645\ttotal: 35.2ms\tremaining: 160ms\n",
      "18:\tlearn: 17.6527658\ttotal: 37ms\tremaining: 158ms\n",
      "19:\tlearn: 17.4205968\ttotal: 38.8ms\tremaining: 155ms\n",
      "20:\tlearn: 17.2899206\ttotal: 40.6ms\tremaining: 153ms\n",
      "21:\tlearn: 17.1746164\ttotal: 42.4ms\tremaining: 150ms\n",
      "22:\tlearn: 17.0324734\ttotal: 44.4ms\tremaining: 149ms\n",
      "23:\tlearn: 16.8114026\ttotal: 46.9ms\tremaining: 149ms\n",
      "24:\tlearn: 16.6715921\ttotal: 48.9ms\tremaining: 147ms\n",
      "25:\tlearn: 16.4991936\ttotal: 50.7ms\tremaining: 144ms\n",
      "26:\tlearn: 16.3931017\ttotal: 52.6ms\tremaining: 142ms\n",
      "27:\tlearn: 16.2994737\ttotal: 54.4ms\tremaining: 140ms\n",
      "28:\tlearn: 16.1225734\ttotal: 56.2ms\tremaining: 138ms\n",
      "29:\tlearn: 16.0289347\ttotal: 58.8ms\tremaining: 137ms\n",
      "30:\tlearn: 15.8521134\ttotal: 62.1ms\tremaining: 138ms\n",
      "31:\tlearn: 15.7724027\ttotal: 64ms\tremaining: 136ms\n",
      "32:\tlearn: 15.6303167\ttotal: 67.1ms\tremaining: 136ms\n",
      "33:\tlearn: 15.5238384\ttotal: 70.4ms\tremaining: 137ms\n",
      "34:\tlearn: 15.3452759\ttotal: 73.4ms\tremaining: 136ms\n",
      "35:\tlearn: 15.1997283\ttotal: 75.6ms\tremaining: 134ms\n",
      "36:\tlearn: 15.0166762\ttotal: 77.3ms\tremaining: 132ms\n",
      "37:\tlearn: 14.9000273\ttotal: 79.2ms\tremaining: 129ms\n",
      "38:\tlearn: 14.7827864\ttotal: 81ms\tremaining: 127ms\n",
      "39:\tlearn: 14.5726179\ttotal: 82.9ms\tremaining: 124ms\n",
      "40:\tlearn: 14.4151395\ttotal: 84.7ms\tremaining: 122ms\n",
      "41:\tlearn: 14.3188480\ttotal: 86.4ms\tremaining: 119ms\n",
      "42:\tlearn: 14.2302385\ttotal: 88.2ms\tremaining: 117ms\n",
      "43:\tlearn: 14.1559368\ttotal: 89.9ms\tremaining: 114ms\n",
      "44:\tlearn: 13.9984021\ttotal: 91.7ms\tremaining: 112ms\n",
      "45:\tlearn: 13.9085787\ttotal: 93.4ms\tremaining: 110ms\n",
      "46:\tlearn: 13.7924293\ttotal: 95.2ms\tremaining: 107ms\n",
      "47:\tlearn: 13.7322002\ttotal: 96.9ms\tremaining: 105ms\n",
      "48:\tlearn: 13.6652699\ttotal: 98.7ms\tremaining: 103ms\n",
      "49:\tlearn: 13.5373566\ttotal: 101ms\tremaining: 101ms\n",
      "50:\tlearn: 13.4632730\ttotal: 102ms\tremaining: 98.4ms\n",
      "51:\tlearn: 13.3684454\ttotal: 104ms\tremaining: 96.2ms\n",
      "52:\tlearn: 13.2961718\ttotal: 106ms\tremaining: 94ms\n",
      "53:\tlearn: 13.1577848\ttotal: 108ms\tremaining: 91.8ms\n",
      "54:\tlearn: 13.1286272\ttotal: 109ms\tremaining: 89.5ms\n",
      "55:\tlearn: 13.1034979\ttotal: 111ms\tremaining: 87.3ms\n",
      "56:\tlearn: 13.0177116\ttotal: 113ms\tremaining: 85.1ms\n",
      "57:\tlearn: 12.9080994\ttotal: 115ms\tremaining: 83ms\n",
      "58:\tlearn: 12.7815413\ttotal: 116ms\tremaining: 80.9ms\n",
      "59:\tlearn: 12.7721189\ttotal: 118ms\tremaining: 78.8ms\n",
      "60:\tlearn: 12.5962910\ttotal: 120ms\tremaining: 76.7ms\n",
      "61:\tlearn: 12.5508367\ttotal: 122ms\tremaining: 74.6ms\n",
      "62:\tlearn: 12.5071653\ttotal: 123ms\tremaining: 72.5ms\n",
      "63:\tlearn: 12.3990155\ttotal: 125ms\tremaining: 70.4ms\n",
      "64:\tlearn: 12.3942771\ttotal: 127ms\tremaining: 68.3ms\n",
      "65:\tlearn: 12.2927188\ttotal: 129ms\tremaining: 66.3ms\n",
      "66:\tlearn: 12.2173898\ttotal: 130ms\tremaining: 64.3ms\n",
      "67:\tlearn: 12.1051668\ttotal: 132ms\tremaining: 62.3ms\n",
      "68:\tlearn: 12.0610503\ttotal: 134ms\tremaining: 60.3ms\n",
      "69:\tlearn: 11.9767353\ttotal: 136ms\tremaining: 58.3ms\n",
      "70:\tlearn: 11.8722775\ttotal: 138ms\tremaining: 56.3ms\n",
      "71:\tlearn: 11.8410192\ttotal: 139ms\tremaining: 54.2ms\n",
      "72:\tlearn: 11.8381205\ttotal: 141ms\tremaining: 52.2ms\n",
      "73:\tlearn: 11.7486780\ttotal: 144ms\tremaining: 50.5ms\n",
      "74:\tlearn: 11.6890680\ttotal: 146ms\tremaining: 48.5ms\n",
      "75:\tlearn: 11.5979850\ttotal: 147ms\tremaining: 46.5ms\n",
      "76:\tlearn: 11.5162623\ttotal: 149ms\tremaining: 44.5ms\n",
      "77:\tlearn: 11.4668197\ttotal: 151ms\tremaining: 42.5ms\n",
      "78:\tlearn: 11.4101843\ttotal: 153ms\tremaining: 40.6ms\n",
      "79:\tlearn: 11.3832665\ttotal: 154ms\tremaining: 38.6ms\n",
      "80:\tlearn: 11.3806161\ttotal: 156ms\tremaining: 36.6ms\n",
      "81:\tlearn: 11.2505645\ttotal: 158ms\tremaining: 34.7ms\n",
      "82:\tlearn: 11.1878530\ttotal: 160ms\tremaining: 32.7ms\n",
      "83:\tlearn: 11.1641431\ttotal: 161ms\tremaining: 30.8ms\n",
      "84:\tlearn: 11.1223849\ttotal: 163ms\tremaining: 28.9ms\n",
      "85:\tlearn: 11.0583241\ttotal: 165ms\tremaining: 26.9ms\n",
      "86:\tlearn: 10.9963215\ttotal: 167ms\tremaining: 25ms\n",
      "87:\tlearn: 10.9355109\ttotal: 169ms\tremaining: 23ms\n",
      "88:\tlearn: 10.9077390\ttotal: 171ms\tremaining: 21.1ms\n",
      "89:\tlearn: 10.8653549\ttotal: 172ms\tremaining: 19.1ms\n",
      "90:\tlearn: 10.8039864\ttotal: 174ms\tremaining: 17.2ms\n",
      "91:\tlearn: 10.7280047\ttotal: 176ms\tremaining: 15.3ms\n",
      "92:\tlearn: 10.6407490\ttotal: 178ms\tremaining: 13.4ms\n",
      "93:\tlearn: 10.5652817\ttotal: 179ms\tremaining: 11.4ms\n",
      "94:\tlearn: 10.4964841\ttotal: 181ms\tremaining: 9.53ms\n",
      "95:\tlearn: 10.4940093\ttotal: 183ms\tremaining: 7.62ms\n",
      "96:\tlearn: 10.4277072\ttotal: 185ms\tremaining: 5.71ms\n",
      "97:\tlearn: 10.3901046\ttotal: 186ms\tremaining: 3.8ms\n",
      "98:\tlearn: 10.3384661\ttotal: 188ms\tremaining: 1.9ms\n",
      "99:\tlearn: 10.3194302\ttotal: 190ms\tremaining: 0us\n",
      "Learning rate set to 0.304614\n",
      "0:\tlearn: 29.2126636\ttotal: 2.21ms\tremaining: 218ms\n",
      "1:\tlearn: 26.5483578\ttotal: 4.24ms\tremaining: 208ms\n",
      "2:\tlearn: 24.8252330\ttotal: 6.16ms\tremaining: 199ms\n",
      "3:\tlearn: 23.7562391\ttotal: 8.14ms\tremaining: 195ms\n",
      "4:\tlearn: 22.8158912\ttotal: 10.9ms\tremaining: 207ms\n",
      "5:\tlearn: 22.0973601\ttotal: 13.4ms\tremaining: 210ms\n",
      "6:\tlearn: 21.4846574\ttotal: 15.7ms\tremaining: 209ms\n",
      "7:\tlearn: 21.0517607\ttotal: 17.7ms\tremaining: 203ms\n",
      "8:\tlearn: 20.8395722\ttotal: 19.5ms\tremaining: 197ms\n",
      "9:\tlearn: 20.6865005\ttotal: 21.4ms\tremaining: 193ms\n",
      "10:\tlearn: 20.2996446\ttotal: 23.4ms\tremaining: 189ms\n",
      "11:\tlearn: 20.0612615\ttotal: 26.1ms\tremaining: 191ms\n",
      "12:\tlearn: 19.9058002\ttotal: 29.1ms\tremaining: 195ms\n",
      "13:\tlearn: 19.5431541\ttotal: 31.1ms\tremaining: 191ms\n",
      "14:\tlearn: 19.2853777\ttotal: 33ms\tremaining: 187ms\n",
      "15:\tlearn: 19.1259603\ttotal: 34.9ms\tremaining: 183ms\n",
      "16:\tlearn: 18.9944116\ttotal: 36.8ms\tremaining: 180ms\n",
      "17:\tlearn: 18.9263571\ttotal: 38.9ms\tremaining: 177ms\n",
      "18:\tlearn: 18.8357909\ttotal: 41.1ms\tremaining: 175ms\n",
      "19:\tlearn: 18.6609881\ttotal: 43.3ms\tremaining: 173ms\n",
      "20:\tlearn: 18.5405970\ttotal: 45.4ms\tremaining: 171ms\n",
      "21:\tlearn: 18.4354171\ttotal: 47.3ms\tremaining: 168ms\n",
      "22:\tlearn: 18.1352491\ttotal: 49.3ms\tremaining: 165ms\n",
      "23:\tlearn: 17.9885327\ttotal: 51.3ms\tremaining: 162ms\n",
      "24:\tlearn: 17.7964511\ttotal: 53.3ms\tremaining: 160ms\n",
      "25:\tlearn: 17.6321167\ttotal: 55.3ms\tremaining: 157ms\n",
      "26:\tlearn: 17.5065636\ttotal: 57.5ms\tremaining: 155ms\n",
      "27:\tlearn: 17.3589134\ttotal: 60.5ms\tremaining: 156ms\n",
      "28:\tlearn: 17.1771248\ttotal: 62.6ms\tremaining: 153ms\n",
      "29:\tlearn: 17.0902592\ttotal: 64.9ms\tremaining: 152ms\n",
      "30:\tlearn: 16.9443625\ttotal: 66.8ms\tremaining: 149ms\n",
      "31:\tlearn: 16.7867669\ttotal: 68.8ms\tremaining: 146ms\n",
      "32:\tlearn: 16.7594205\ttotal: 70.7ms\tremaining: 143ms\n",
      "33:\tlearn: 16.5121120\ttotal: 72.6ms\tremaining: 141ms\n",
      "34:\tlearn: 16.3369104\ttotal: 74.6ms\tremaining: 139ms\n",
      "35:\tlearn: 16.3030942\ttotal: 76.5ms\tremaining: 136ms\n",
      "36:\tlearn: 16.2460441\ttotal: 78.4ms\tremaining: 133ms\n",
      "37:\tlearn: 16.1492833\ttotal: 80.4ms\tremaining: 131ms\n",
      "38:\tlearn: 15.9950863\ttotal: 82.3ms\tremaining: 129ms\n",
      "39:\tlearn: 15.8417499\ttotal: 84.2ms\tremaining: 126ms\n",
      "40:\tlearn: 15.8369388\ttotal: 86ms\tremaining: 124ms\n",
      "41:\tlearn: 15.6566924\ttotal: 88.1ms\tremaining: 122ms\n",
      "42:\tlearn: 15.5732579\ttotal: 90.2ms\tremaining: 120ms\n",
      "43:\tlearn: 15.5698292\ttotal: 92ms\tremaining: 117ms\n",
      "44:\tlearn: 15.4884657\ttotal: 93.9ms\tremaining: 115ms\n",
      "45:\tlearn: 15.3349723\ttotal: 95.9ms\tremaining: 113ms\n",
      "46:\tlearn: 15.1725643\ttotal: 97.8ms\tremaining: 110ms\n",
      "47:\tlearn: 15.0968200\ttotal: 99.7ms\tremaining: 108ms\n",
      "48:\tlearn: 15.0069648\ttotal: 102ms\tremaining: 106ms\n",
      "49:\tlearn: 14.9763994\ttotal: 104ms\tremaining: 104ms\n",
      "50:\tlearn: 14.8707995\ttotal: 107ms\tremaining: 103ms\n",
      "51:\tlearn: 14.7428787\ttotal: 110ms\tremaining: 102ms\n",
      "52:\tlearn: 14.6526340\ttotal: 113ms\tremaining: 100ms\n",
      "53:\tlearn: 14.5322234\ttotal: 116ms\tremaining: 98.8ms\n",
      "54:\tlearn: 14.3961798\ttotal: 119ms\tremaining: 97.4ms\n",
      "55:\tlearn: 14.3364367\ttotal: 121ms\tremaining: 95.1ms\n",
      "56:\tlearn: 14.2934890\ttotal: 124ms\tremaining: 93.7ms\n",
      "57:\tlearn: 14.2911949\ttotal: 127ms\tremaining: 92.1ms\n",
      "58:\tlearn: 14.1701392\ttotal: 130ms\tremaining: 90.3ms\n",
      "59:\tlearn: 14.0466404\ttotal: 132ms\tremaining: 88ms\n",
      "60:\tlearn: 13.9464618\ttotal: 134ms\tremaining: 85.7ms\n",
      "61:\tlearn: 13.7646245\ttotal: 136ms\tremaining: 83.3ms\n",
      "62:\tlearn: 13.6468542\ttotal: 138ms\tremaining: 81ms\n",
      "63:\tlearn: 13.5316913\ttotal: 140ms\tremaining: 78.7ms\n",
      "64:\tlearn: 13.4684067\ttotal: 142ms\tremaining: 76.4ms\n",
      "65:\tlearn: 13.4111020\ttotal: 145ms\tremaining: 74.5ms\n",
      "66:\tlearn: 13.3597295\ttotal: 148ms\tremaining: 72.7ms\n",
      "67:\tlearn: 13.2808725\ttotal: 151ms\tremaining: 70.9ms\n",
      "68:\tlearn: 13.1269773\ttotal: 154ms\tremaining: 69ms\n",
      "69:\tlearn: 13.0912088\ttotal: 156ms\tremaining: 67.1ms\n",
      "70:\tlearn: 13.0371922\ttotal: 159ms\tremaining: 65ms\n",
      "71:\tlearn: 12.9401955\ttotal: 161ms\tremaining: 62.7ms\n",
      "72:\tlearn: 12.8807430\ttotal: 164ms\tremaining: 60.5ms\n",
      "73:\tlearn: 12.8323400\ttotal: 165ms\tremaining: 58.1ms\n",
      "74:\tlearn: 12.7595560\ttotal: 167ms\tremaining: 55.8ms\n",
      "75:\tlearn: 12.7182229\ttotal: 169ms\tremaining: 53.5ms\n",
      "76:\tlearn: 12.6254747\ttotal: 171ms\tremaining: 51.2ms\n",
      "77:\tlearn: 12.5364415\ttotal: 173ms\tremaining: 48.9ms\n",
      "78:\tlearn: 12.4538350\ttotal: 175ms\tremaining: 46.6ms\n",
      "79:\tlearn: 12.4127075\ttotal: 177ms\tremaining: 44.3ms\n",
      "80:\tlearn: 12.3537659\ttotal: 179ms\tremaining: 42ms\n",
      "81:\tlearn: 12.3303399\ttotal: 181ms\tremaining: 39.7ms\n",
      "82:\tlearn: 12.3115869\ttotal: 183ms\tremaining: 37.5ms\n",
      "83:\tlearn: 12.2145566\ttotal: 186ms\tremaining: 35.4ms\n",
      "84:\tlearn: 12.1028460\ttotal: 188ms\tremaining: 33.2ms\n",
      "85:\tlearn: 12.0394131\ttotal: 190ms\tremaining: 31ms\n",
      "86:\tlearn: 11.9535295\ttotal: 193ms\tremaining: 28.9ms\n",
      "87:\tlearn: 11.8589155\ttotal: 196ms\tremaining: 26.7ms\n",
      "88:\tlearn: 11.7761438\ttotal: 199ms\tremaining: 24.6ms\n",
      "89:\tlearn: 11.7011633\ttotal: 201ms\tremaining: 22.3ms\n",
      "90:\tlearn: 11.6751163\ttotal: 204ms\tremaining: 20.1ms\n",
      "91:\tlearn: 11.6190877\ttotal: 206ms\tremaining: 17.9ms\n",
      "92:\tlearn: 11.5602297\ttotal: 207ms\tremaining: 15.6ms\n",
      "93:\tlearn: 11.5345479\ttotal: 209ms\tremaining: 13.4ms\n",
      "94:\tlearn: 11.4847390\ttotal: 211ms\tremaining: 11.1ms\n",
      "95:\tlearn: 11.4403404\ttotal: 213ms\tremaining: 8.88ms\n",
      "96:\tlearn: 11.3903231\ttotal: 216ms\tremaining: 6.67ms\n",
      "97:\tlearn: 11.3351226\ttotal: 219ms\tremaining: 4.46ms\n",
      "98:\tlearn: 11.3134136\ttotal: 221ms\tremaining: 2.23ms\n",
      "99:\tlearn: 11.2651586\ttotal: 224ms\tremaining: 0us\n",
      "Learning rate set to 0.315545\n",
      "0:\tlearn: 30.1046365\ttotal: 2.47ms\tremaining: 245ms\n",
      "1:\tlearn: 26.9055778\ttotal: 4.77ms\tremaining: 234ms\n",
      "2:\tlearn: 25.1313678\ttotal: 6.97ms\tremaining: 225ms\n",
      "3:\tlearn: 24.0735328\ttotal: 9.13ms\tremaining: 219ms\n",
      "4:\tlearn: 23.3144817\ttotal: 11.3ms\tremaining: 214ms\n",
      "5:\tlearn: 22.5682367\ttotal: 13.4ms\tremaining: 209ms\n",
      "6:\tlearn: 22.0381618\ttotal: 15.5ms\tremaining: 205ms\n",
      "7:\tlearn: 21.5055402\ttotal: 17.5ms\tremaining: 201ms\n",
      "8:\tlearn: 21.2738718\ttotal: 20.2ms\tremaining: 204ms\n",
      "9:\tlearn: 21.1830693\ttotal: 23ms\tremaining: 207ms\n",
      "10:\tlearn: 20.9290911\ttotal: 25.2ms\tremaining: 204ms\n",
      "11:\tlearn: 20.5837429\ttotal: 27.4ms\tremaining: 201ms\n",
      "12:\tlearn: 20.3424715\ttotal: 29.4ms\tremaining: 197ms\n",
      "13:\tlearn: 20.1153610\ttotal: 32ms\tremaining: 197ms\n",
      "14:\tlearn: 20.0162373\ttotal: 34.3ms\tremaining: 194ms\n",
      "15:\tlearn: 19.9174161\ttotal: 36.5ms\tremaining: 192ms\n",
      "16:\tlearn: 19.8014532\ttotal: 38.6ms\tremaining: 188ms\n",
      "17:\tlearn: 19.6584245\ttotal: 40.7ms\tremaining: 185ms\n",
      "18:\tlearn: 19.5237256\ttotal: 42.8ms\tremaining: 182ms\n",
      "19:\tlearn: 19.4182487\ttotal: 44.8ms\tremaining: 179ms\n",
      "20:\tlearn: 19.3116769\ttotal: 46.8ms\tremaining: 176ms\n",
      "21:\tlearn: 19.1122646\ttotal: 49.1ms\tremaining: 174ms\n",
      "22:\tlearn: 18.9456011\ttotal: 51.7ms\tremaining: 173ms\n",
      "23:\tlearn: 18.8554688\ttotal: 54.9ms\tremaining: 174ms\n",
      "24:\tlearn: 18.6582542\ttotal: 58ms\tremaining: 174ms\n",
      "25:\tlearn: 18.4791174\ttotal: 60.1ms\tremaining: 171ms\n",
      "26:\tlearn: 18.3781654\ttotal: 62.1ms\tremaining: 168ms\n",
      "27:\tlearn: 18.2748907\ttotal: 65.2ms\tremaining: 168ms\n",
      "28:\tlearn: 18.1986245\ttotal: 68ms\tremaining: 166ms\n",
      "29:\tlearn: 18.0519117\ttotal: 70.9ms\tremaining: 165ms\n",
      "30:\tlearn: 17.8378489\ttotal: 73.8ms\tremaining: 164ms\n",
      "31:\tlearn: 17.6689351\ttotal: 76.6ms\tremaining: 163ms\n",
      "32:\tlearn: 17.5226779\ttotal: 79.7ms\tremaining: 162ms\n",
      "33:\tlearn: 17.3880568\ttotal: 82.7ms\tremaining: 161ms\n",
      "34:\tlearn: 17.2110920\ttotal: 85.9ms\tremaining: 159ms\n",
      "35:\tlearn: 17.0910957\ttotal: 89.1ms\tremaining: 158ms\n",
      "36:\tlearn: 16.9995820\ttotal: 92.1ms\tremaining: 157ms\n",
      "37:\tlearn: 16.9269839\ttotal: 94.1ms\tremaining: 154ms\n",
      "38:\tlearn: 16.8553801\ttotal: 96.2ms\tremaining: 150ms\n",
      "39:\tlearn: 16.7149253\ttotal: 98.4ms\tremaining: 148ms\n",
      "40:\tlearn: 16.6465079\ttotal: 101ms\tremaining: 146ms\n",
      "41:\tlearn: 16.5134042\ttotal: 105ms\tremaining: 145ms\n",
      "42:\tlearn: 16.4345119\ttotal: 108ms\tremaining: 143ms\n",
      "43:\tlearn: 16.3964975\ttotal: 111ms\tremaining: 141ms\n",
      "44:\tlearn: 16.3255068\ttotal: 113ms\tremaining: 138ms\n",
      "45:\tlearn: 16.1490738\ttotal: 115ms\tremaining: 135ms\n",
      "46:\tlearn: 16.0562838\ttotal: 117ms\tremaining: 132ms\n",
      "47:\tlearn: 15.9297317\ttotal: 120ms\tremaining: 130ms\n",
      "48:\tlearn: 15.8307103\ttotal: 122ms\tremaining: 127ms\n",
      "49:\tlearn: 15.7516328\ttotal: 124ms\tremaining: 124ms\n",
      "50:\tlearn: 15.6634552\ttotal: 127ms\tremaining: 122ms\n",
      "51:\tlearn: 15.5937872\ttotal: 130ms\tremaining: 120ms\n",
      "52:\tlearn: 15.5473299\ttotal: 132ms\tremaining: 117ms\n",
      "53:\tlearn: 15.4973030\ttotal: 134ms\tremaining: 114ms\n",
      "54:\tlearn: 15.4531725\ttotal: 136ms\tremaining: 111ms\n",
      "55:\tlearn: 15.3846038\ttotal: 138ms\tremaining: 109ms\n",
      "56:\tlearn: 15.3104702\ttotal: 141ms\tremaining: 107ms\n",
      "57:\tlearn: 15.2660611\ttotal: 145ms\tremaining: 105ms\n",
      "58:\tlearn: 15.2365002\ttotal: 148ms\tremaining: 103ms\n",
      "59:\tlearn: 15.2111443\ttotal: 150ms\tremaining: 99.9ms\n",
      "60:\tlearn: 15.1792368\ttotal: 152ms\tremaining: 97.2ms\n",
      "61:\tlearn: 15.0657150\ttotal: 155ms\tremaining: 95.2ms\n",
      "62:\tlearn: 14.9864390\ttotal: 158ms\tremaining: 92.6ms\n",
      "63:\tlearn: 14.8936043\ttotal: 161ms\tremaining: 90.4ms\n",
      "64:\tlearn: 14.7828292\ttotal: 164ms\tremaining: 88.2ms\n",
      "65:\tlearn: 14.7374478\ttotal: 167ms\tremaining: 86.1ms\n",
      "66:\tlearn: 14.6231788\ttotal: 170ms\tremaining: 84ms\n",
      "67:\tlearn: 14.5055135\ttotal: 174ms\tremaining: 81.8ms\n",
      "68:\tlearn: 14.4178707\ttotal: 177ms\tremaining: 79.4ms\n",
      "69:\tlearn: 14.3781023\ttotal: 179ms\tremaining: 76.8ms\n",
      "70:\tlearn: 14.2980090\ttotal: 182ms\tremaining: 74.4ms\n",
      "71:\tlearn: 14.2477156\ttotal: 184ms\tremaining: 71.7ms\n",
      "72:\tlearn: 14.1751767\ttotal: 186ms\tremaining: 68.9ms\n",
      "73:\tlearn: 14.1116684\ttotal: 188ms\tremaining: 66.2ms\n",
      "74:\tlearn: 14.0839792\ttotal: 190ms\tremaining: 63.5ms\n",
      "75:\tlearn: 14.0394047\ttotal: 193ms\tremaining: 60.9ms\n",
      "76:\tlearn: 13.9615230\ttotal: 195ms\tremaining: 58.3ms\n",
      "77:\tlearn: 13.8932265\ttotal: 198ms\tremaining: 56ms\n",
      "78:\tlearn: 13.8630154\ttotal: 202ms\tremaining: 53.6ms\n",
      "79:\tlearn: 13.7609232\ttotal: 204ms\tremaining: 51.1ms\n",
      "80:\tlearn: 13.6969065\ttotal: 206ms\tremaining: 48.4ms\n",
      "81:\tlearn: 13.6493558\ttotal: 210ms\tremaining: 46ms\n",
      "82:\tlearn: 13.6104007\ttotal: 213ms\tremaining: 43.6ms\n",
      "83:\tlearn: 13.5736616\ttotal: 216ms\tremaining: 41.2ms\n",
      "84:\tlearn: 13.5596751\ttotal: 218ms\tremaining: 38.5ms\n",
      "85:\tlearn: 13.5157415\ttotal: 221ms\tremaining: 35.9ms\n",
      "86:\tlearn: 13.4409721\ttotal: 224ms\tremaining: 33.4ms\n",
      "87:\tlearn: 13.4372991\ttotal: 227ms\tremaining: 30.9ms\n",
      "88:\tlearn: 13.3878327\ttotal: 230ms\tremaining: 28.4ms\n",
      "89:\tlearn: 13.3097308\ttotal: 232ms\tremaining: 25.8ms\n",
      "90:\tlearn: 13.2569225\ttotal: 236ms\tremaining: 23.3ms\n",
      "91:\tlearn: 13.1951392\ttotal: 239ms\tremaining: 20.8ms\n",
      "92:\tlearn: 13.1326188\ttotal: 242ms\tremaining: 18.2ms\n",
      "93:\tlearn: 13.0789139\ttotal: 246ms\tremaining: 15.7ms\n",
      "94:\tlearn: 12.9880901\ttotal: 249ms\tremaining: 13.1ms\n",
      "95:\tlearn: 12.9130845\ttotal: 252ms\tremaining: 10.5ms\n",
      "96:\tlearn: 12.8644102\ttotal: 255ms\tremaining: 7.9ms\n",
      "97:\tlearn: 12.8248324\ttotal: 258ms\tremaining: 5.27ms\n",
      "98:\tlearn: 12.7350828\ttotal: 261ms\tremaining: 2.64ms\n",
      "99:\tlearn: 12.6613583\ttotal: 263ms\tremaining: 0us\n",
      "Learning rate set to 0.429894\n",
      "0:\tlearn: 24.6478934\ttotal: 20.4ms\tremaining: 1s\n",
      "1:\tlearn: 20.8983385\ttotal: 35.5ms\tremaining: 852ms\n",
      "2:\tlearn: 18.7417794\ttotal: 51.1ms\tremaining: 801ms\n",
      "3:\tlearn: 16.6434280\ttotal: 64.8ms\tremaining: 745ms\n",
      "4:\tlearn: 15.1468829\ttotal: 78.6ms\tremaining: 707ms\n",
      "5:\tlearn: 14.2992675\ttotal: 97ms\tremaining: 711ms\n",
      "6:\tlearn: 13.3942417\ttotal: 114ms\tremaining: 702ms\n",
      "7:\tlearn: 12.6047181\ttotal: 131ms\tremaining: 688ms\n",
      "8:\tlearn: 11.9454051\ttotal: 149ms\tremaining: 679ms\n",
      "9:\tlearn: 11.4613498\ttotal: 170ms\tremaining: 681ms\n",
      "10:\tlearn: 10.9497515\ttotal: 185ms\tremaining: 657ms\n",
      "11:\tlearn: 10.4383407\ttotal: 199ms\tremaining: 631ms\n",
      "12:\tlearn: 10.1274008\ttotal: 213ms\tremaining: 608ms\n",
      "13:\tlearn: 9.5693069\ttotal: 226ms\tremaining: 582ms\n",
      "14:\tlearn: 9.0447278\ttotal: 239ms\tremaining: 558ms\n",
      "15:\tlearn: 8.4834417\ttotal: 253ms\tremaining: 537ms\n",
      "16:\tlearn: 7.9953498\ttotal: 274ms\tremaining: 531ms\n",
      "17:\tlearn: 7.5175360\ttotal: 295ms\tremaining: 524ms\n",
      "18:\tlearn: 7.1293511\ttotal: 309ms\tremaining: 505ms\n",
      "19:\tlearn: 6.9165279\ttotal: 326ms\tremaining: 489ms\n",
      "20:\tlearn: 6.6764984\ttotal: 341ms\tremaining: 471ms\n",
      "21:\tlearn: 6.3528491\ttotal: 356ms\tremaining: 453ms\n",
      "22:\tlearn: 5.9988970\ttotal: 372ms\tremaining: 436ms\n",
      "23:\tlearn: 5.8801860\ttotal: 390ms\tremaining: 423ms\n",
      "24:\tlearn: 5.7893757\ttotal: 410ms\tremaining: 410ms\n",
      "25:\tlearn: 5.5918838\ttotal: 428ms\tremaining: 395ms\n",
      "26:\tlearn: 5.5577091\ttotal: 446ms\tremaining: 380ms\n",
      "27:\tlearn: 5.2008049\ttotal: 466ms\tremaining: 366ms\n",
      "28:\tlearn: 5.0388088\ttotal: 484ms\tremaining: 350ms\n",
      "29:\tlearn: 4.8443797\ttotal: 501ms\tremaining: 334ms\n",
      "30:\tlearn: 4.6473574\ttotal: 521ms\tremaining: 320ms\n",
      "31:\tlearn: 4.4303501\ttotal: 540ms\tremaining: 304ms\n",
      "32:\tlearn: 4.3889467\ttotal: 557ms\tremaining: 287ms\n",
      "33:\tlearn: 4.2326015\ttotal: 575ms\tremaining: 271ms\n",
      "34:\tlearn: 4.1911258\ttotal: 593ms\tremaining: 254ms\n",
      "35:\tlearn: 4.1092443\ttotal: 609ms\tremaining: 237ms\n",
      "36:\tlearn: 3.8829539\ttotal: 626ms\tremaining: 220ms\n",
      "37:\tlearn: 3.8077830\ttotal: 644ms\tremaining: 203ms\n",
      "38:\tlearn: 3.6803119\ttotal: 659ms\tremaining: 186ms\n",
      "39:\tlearn: 3.4417607\ttotal: 677ms\tremaining: 169ms\n",
      "40:\tlearn: 3.2517129\ttotal: 690ms\tremaining: 152ms\n",
      "41:\tlearn: 3.2017057\ttotal: 697ms\tremaining: 133ms\n",
      "42:\tlearn: 3.0682642\ttotal: 710ms\tremaining: 116ms\n",
      "43:\tlearn: 2.8461941\ttotal: 723ms\tremaining: 98.5ms\n",
      "44:\tlearn: 2.7775678\ttotal: 735ms\tremaining: 81.7ms\n",
      "45:\tlearn: 2.7685733\ttotal: 748ms\tremaining: 65.1ms\n",
      "46:\tlearn: 2.6178078\ttotal: 761ms\tremaining: 48.6ms\n",
      "47:\tlearn: 2.4323966\ttotal: 774ms\tremaining: 32.3ms\n",
      "48:\tlearn: 2.2645336\ttotal: 787ms\tremaining: 16.1ms\n",
      "49:\tlearn: 2.1158905\ttotal: 800ms\tremaining: 0us\n",
      "Learning rate set to 0.47965\n",
      "0:\tlearn: 24.4994023\ttotal: 15.3ms\tremaining: 750ms\n",
      "1:\tlearn: 21.2113344\ttotal: 29.5ms\tremaining: 707ms\n",
      "2:\tlearn: 18.7319237\ttotal: 45.9ms\tremaining: 719ms\n",
      "3:\tlearn: 17.3666726\ttotal: 62.1ms\tremaining: 714ms\n",
      "4:\tlearn: 16.2032912\ttotal: 76.6ms\tremaining: 689ms\n",
      "5:\tlearn: 15.4106230\ttotal: 90.8ms\tremaining: 666ms\n",
      "6:\tlearn: 14.4281613\ttotal: 106ms\tremaining: 649ms\n",
      "7:\tlearn: 13.7293279\ttotal: 120ms\tremaining: 628ms\n",
      "8:\tlearn: 13.2151922\ttotal: 140ms\tremaining: 638ms\n",
      "9:\tlearn: 12.4149339\ttotal: 154ms\tremaining: 617ms\n",
      "10:\tlearn: 11.9752934\ttotal: 168ms\tremaining: 597ms\n",
      "11:\tlearn: 11.3817807\ttotal: 182ms\tremaining: 578ms\n",
      "12:\tlearn: 11.1478971\ttotal: 197ms\tremaining: 560ms\n",
      "13:\tlearn: 10.6837670\ttotal: 213ms\tremaining: 548ms\n",
      "14:\tlearn: 10.3721288\ttotal: 228ms\tremaining: 532ms\n",
      "15:\tlearn: 9.9868950\ttotal: 242ms\tremaining: 515ms\n",
      "16:\tlearn: 9.4021454\ttotal: 258ms\tremaining: 501ms\n",
      "17:\tlearn: 9.0764060\ttotal: 272ms\tremaining: 484ms\n",
      "18:\tlearn: 8.7703490\ttotal: 287ms\tremaining: 468ms\n",
      "19:\tlearn: 8.6844109\ttotal: 301ms\tremaining: 452ms\n",
      "20:\tlearn: 8.5283725\ttotal: 319ms\tremaining: 440ms\n",
      "21:\tlearn: 8.4841534\ttotal: 338ms\tremaining: 430ms\n",
      "22:\tlearn: 8.0757002\ttotal: 352ms\tremaining: 414ms\n",
      "23:\tlearn: 7.7174236\ttotal: 367ms\tremaining: 397ms\n",
      "24:\tlearn: 7.3338928\ttotal: 385ms\tremaining: 385ms\n",
      "25:\tlearn: 7.0512860\ttotal: 406ms\tremaining: 375ms\n",
      "26:\tlearn: 6.9242404\ttotal: 426ms\tremaining: 363ms\n",
      "27:\tlearn: 6.6755610\ttotal: 442ms\tremaining: 347ms\n",
      "28:\tlearn: 6.3725854\ttotal: 457ms\tremaining: 331ms\n",
      "29:\tlearn: 6.1723514\ttotal: 473ms\tremaining: 316ms\n",
      "30:\tlearn: 5.9019100\ttotal: 488ms\tremaining: 299ms\n",
      "31:\tlearn: 5.8431554\ttotal: 509ms\tremaining: 286ms\n",
      "32:\tlearn: 5.6211252\ttotal: 527ms\tremaining: 272ms\n",
      "33:\tlearn: 5.4009858\ttotal: 543ms\tremaining: 256ms\n",
      "34:\tlearn: 5.3232323\ttotal: 558ms\tremaining: 239ms\n",
      "35:\tlearn: 5.0529695\ttotal: 574ms\tremaining: 223ms\n",
      "36:\tlearn: 4.9187108\ttotal: 590ms\tremaining: 207ms\n",
      "37:\tlearn: 4.6904293\ttotal: 606ms\tremaining: 191ms\n",
      "38:\tlearn: 4.5082436\ttotal: 623ms\tremaining: 176ms\n",
      "39:\tlearn: 4.4353857\ttotal: 641ms\tremaining: 160ms\n",
      "40:\tlearn: 4.1681911\ttotal: 658ms\tremaining: 144ms\n",
      "41:\tlearn: 4.0617372\ttotal: 679ms\tremaining: 129ms\n",
      "42:\tlearn: 4.0527296\ttotal: 693ms\tremaining: 113ms\n",
      "43:\tlearn: 3.8619394\ttotal: 709ms\tremaining: 96.7ms\n",
      "44:\tlearn: 3.6930380\ttotal: 723ms\tremaining: 80.4ms\n",
      "45:\tlearn: 3.6060650\ttotal: 739ms\tremaining: 64.2ms\n",
      "46:\tlearn: 3.4784182\ttotal: 755ms\tremaining: 48.2ms\n",
      "47:\tlearn: 3.4402149\ttotal: 769ms\tremaining: 32ms\n",
      "48:\tlearn: 3.2782470\ttotal: 783ms\tremaining: 16ms\n",
      "49:\tlearn: 3.1830789\ttotal: 798ms\tremaining: 0us\n",
      "Learning rate set to 0.5\n",
      "0:\tlearn: 26.0275207\ttotal: 20.1ms\tremaining: 983ms\n",
      "1:\tlearn: 22.8126237\ttotal: 39.6ms\tremaining: 951ms\n",
      "2:\tlearn: 20.3626734\ttotal: 55.1ms\tremaining: 863ms\n",
      "3:\tlearn: 18.7057929\ttotal: 71ms\tremaining: 817ms\n",
      "4:\tlearn: 17.5280576\ttotal: 87.9ms\tremaining: 791ms\n",
      "5:\tlearn: 16.9090418\ttotal: 108ms\tremaining: 790ms\n",
      "6:\tlearn: 16.0049108\ttotal: 124ms\tremaining: 760ms\n",
      "7:\tlearn: 15.2398376\ttotal: 140ms\tremaining: 736ms\n",
      "8:\tlearn: 14.7859168\ttotal: 156ms\tremaining: 712ms\n",
      "9:\tlearn: 14.1588645\ttotal: 172ms\tremaining: 687ms\n",
      "10:\tlearn: 13.6640605\ttotal: 188ms\tremaining: 666ms\n",
      "11:\tlearn: 13.0451781\ttotal: 204ms\tremaining: 647ms\n",
      "12:\tlearn: 12.8212549\ttotal: 225ms\tremaining: 641ms\n",
      "13:\tlearn: 12.3690540\ttotal: 241ms\tremaining: 620ms\n",
      "14:\tlearn: 12.0733275\ttotal: 257ms\tremaining: 600ms\n",
      "15:\tlearn: 11.6646418\ttotal: 279ms\tremaining: 593ms\n",
      "16:\tlearn: 11.3193036\ttotal: 297ms\tremaining: 576ms\n",
      "17:\tlearn: 11.1179572\ttotal: 320ms\tremaining: 568ms\n",
      "18:\tlearn: 10.6849333\ttotal: 337ms\tremaining: 550ms\n",
      "19:\tlearn: 10.4869417\ttotal: 355ms\tremaining: 532ms\n",
      "20:\tlearn: 9.9443772\ttotal: 372ms\tremaining: 513ms\n",
      "21:\tlearn: 9.6897778\ttotal: 391ms\tremaining: 497ms\n",
      "22:\tlearn: 9.3734977\ttotal: 412ms\tremaining: 484ms\n",
      "23:\tlearn: 9.0555521\ttotal: 428ms\tremaining: 464ms\n",
      "24:\tlearn: 8.9611561\ttotal: 444ms\tremaining: 444ms\n",
      "25:\tlearn: 8.6185355\ttotal: 460ms\tremaining: 424ms\n",
      "26:\tlearn: 8.1835823\ttotal: 477ms\tremaining: 406ms\n",
      "27:\tlearn: 8.0348183\ttotal: 496ms\tremaining: 390ms\n",
      "28:\tlearn: 7.6638064\ttotal: 517ms\tremaining: 375ms\n",
      "29:\tlearn: 7.4987703\ttotal: 539ms\tremaining: 359ms\n",
      "30:\tlearn: 7.1686277\ttotal: 560ms\tremaining: 343ms\n",
      "31:\tlearn: 6.9380939\ttotal: 582ms\tremaining: 328ms\n",
      "32:\tlearn: 6.7709777\ttotal: 606ms\tremaining: 312ms\n",
      "33:\tlearn: 6.6382988\ttotal: 623ms\tremaining: 293ms\n",
      "34:\tlearn: 6.5508397\ttotal: 646ms\tremaining: 277ms\n",
      "35:\tlearn: 6.3919932\ttotal: 670ms\tremaining: 261ms\n",
      "36:\tlearn: 6.2597569\ttotal: 688ms\tremaining: 242ms\n",
      "37:\tlearn: 6.0683877\ttotal: 705ms\tremaining: 223ms\n",
      "38:\tlearn: 5.8419639\ttotal: 724ms\tremaining: 204ms\n",
      "39:\tlearn: 5.8094088\ttotal: 745ms\tremaining: 186ms\n",
      "40:\tlearn: 5.5977936\ttotal: 763ms\tremaining: 167ms\n",
      "41:\tlearn: 5.5851395\ttotal: 779ms\tremaining: 148ms\n",
      "42:\tlearn: 5.4364835\ttotal: 795ms\tremaining: 129ms\n",
      "43:\tlearn: 5.2877991\ttotal: 811ms\tremaining: 111ms\n",
      "44:\tlearn: 5.2831899\ttotal: 828ms\tremaining: 92ms\n",
      "45:\tlearn: 5.1501038\ttotal: 845ms\tremaining: 73.4ms\n",
      "46:\tlearn: 4.9577681\ttotal: 860ms\tremaining: 54.9ms\n",
      "47:\tlearn: 4.8362858\ttotal: 877ms\tremaining: 36.5ms\n",
      "48:\tlearn: 4.5600891\ttotal: 895ms\tremaining: 18.3ms\n",
      "49:\tlearn: 4.4308846\ttotal: 914ms\tremaining: 0us\n",
      "Learning rate set to 0.5\n",
      "0:\tlearn: 27.4236367\ttotal: 18.9ms\tremaining: 925ms\n",
      "1:\tlearn: 23.7489629\ttotal: 36.4ms\tremaining: 875ms\n",
      "2:\tlearn: 21.7476445\ttotal: 53.7ms\tremaining: 842ms\n",
      "3:\tlearn: 19.9945175\ttotal: 74.9ms\tremaining: 862ms\n",
      "4:\tlearn: 19.0537663\ttotal: 92.8ms\tremaining: 835ms\n",
      "5:\tlearn: 18.6115563\ttotal: 111ms\tremaining: 811ms\n",
      "6:\tlearn: 17.8496024\ttotal: 128ms\tremaining: 786ms\n",
      "7:\tlearn: 16.9683890\ttotal: 149ms\tremaining: 785ms\n",
      "8:\tlearn: 16.2560982\ttotal: 173ms\tremaining: 787ms\n",
      "9:\tlearn: 16.0150340\ttotal: 193ms\tremaining: 773ms\n",
      "10:\tlearn: 15.5606466\ttotal: 211ms\tremaining: 748ms\n",
      "11:\tlearn: 15.0791143\ttotal: 230ms\tremaining: 727ms\n",
      "12:\tlearn: 14.3475101\ttotal: 248ms\tremaining: 705ms\n",
      "13:\tlearn: 13.7747816\ttotal: 266ms\tremaining: 683ms\n",
      "14:\tlearn: 13.5986722\ttotal: 284ms\tremaining: 662ms\n",
      "15:\tlearn: 13.2961992\ttotal: 302ms\tremaining: 642ms\n",
      "16:\tlearn: 12.7836293\ttotal: 322ms\tremaining: 625ms\n",
      "17:\tlearn: 12.2954443\ttotal: 344ms\tremaining: 612ms\n",
      "18:\tlearn: 12.0909705\ttotal: 363ms\tremaining: 592ms\n",
      "19:\tlearn: 11.7863156\ttotal: 382ms\tremaining: 573ms\n",
      "20:\tlearn: 11.4048350\ttotal: 400ms\tremaining: 553ms\n",
      "21:\tlearn: 10.9615154\ttotal: 421ms\tremaining: 536ms\n",
      "22:\tlearn: 10.6875289\ttotal: 448ms\tremaining: 526ms\n",
      "23:\tlearn: 10.2599258\ttotal: 471ms\tremaining: 510ms\n",
      "24:\tlearn: 10.1589548\ttotal: 488ms\tremaining: 488ms\n",
      "25:\tlearn: 9.8715609\ttotal: 505ms\tremaining: 467ms\n",
      "26:\tlearn: 9.5402180\ttotal: 523ms\tremaining: 445ms\n",
      "27:\tlearn: 9.4082754\ttotal: 540ms\tremaining: 424ms\n",
      "28:\tlearn: 9.1655023\ttotal: 558ms\tremaining: 404ms\n",
      "29:\tlearn: 9.1575834\ttotal: 576ms\tremaining: 384ms\n",
      "30:\tlearn: 8.8340422\ttotal: 594ms\tremaining: 364ms\n",
      "31:\tlearn: 8.5588556\ttotal: 611ms\tremaining: 344ms\n",
      "32:\tlearn: 8.2476070\ttotal: 628ms\tremaining: 324ms\n",
      "33:\tlearn: 8.0416744\ttotal: 646ms\tremaining: 304ms\n",
      "34:\tlearn: 7.9222251\ttotal: 663ms\tremaining: 284ms\n",
      "35:\tlearn: 7.7596624\ttotal: 681ms\tremaining: 265ms\n",
      "36:\tlearn: 7.7317441\ttotal: 699ms\tremaining: 246ms\n",
      "37:\tlearn: 7.5593632\ttotal: 720ms\tremaining: 227ms\n",
      "38:\tlearn: 7.3399158\ttotal: 737ms\tremaining: 208ms\n",
      "39:\tlearn: 7.0138888\ttotal: 754ms\tremaining: 188ms\n",
      "40:\tlearn: 6.8393785\ttotal: 771ms\tremaining: 169ms\n",
      "41:\tlearn: 6.7529633\ttotal: 789ms\tremaining: 150ms\n",
      "42:\tlearn: 6.6237945\ttotal: 807ms\tremaining: 131ms\n",
      "43:\tlearn: 6.5090123\ttotal: 824ms\tremaining: 112ms\n",
      "44:\tlearn: 6.5015469\ttotal: 841ms\tremaining: 93.5ms\n",
      "45:\tlearn: 6.3304789\ttotal: 862ms\tremaining: 74.9ms\n",
      "46:\tlearn: 6.2727137\ttotal: 886ms\tremaining: 56.5ms\n",
      "47:\tlearn: 6.1412351\ttotal: 906ms\tremaining: 37.7ms\n",
      "48:\tlearn: 6.0312342\ttotal: 931ms\tremaining: 19ms\n",
      "49:\tlearn: 5.9001909\ttotal: 948ms\tremaining: 0us\n",
      "Learning rate set to 0.5\n",
      "0:\tlearn: 28.0393078\ttotal: 20.6ms\tremaining: 1.01s\n",
      "1:\tlearn: 23.8624020\ttotal: 41.1ms\tremaining: 986ms\n",
      "2:\tlearn: 21.9158930\ttotal: 60.8ms\tremaining: 953ms\n",
      "3:\tlearn: 20.5372502\ttotal: 81.5ms\tremaining: 937ms\n",
      "4:\tlearn: 19.6061386\ttotal: 100ms\tremaining: 901ms\n",
      "5:\tlearn: 19.0508614\ttotal: 120ms\tremaining: 879ms\n",
      "6:\tlearn: 18.3218970\ttotal: 141ms\tremaining: 869ms\n",
      "7:\tlearn: 17.6443102\ttotal: 160ms\tremaining: 840ms\n",
      "8:\tlearn: 17.3744106\ttotal: 178ms\tremaining: 811ms\n",
      "9:\tlearn: 16.8044052\ttotal: 196ms\tremaining: 784ms\n",
      "10:\tlearn: 16.3226016\ttotal: 222ms\tremaining: 786ms\n",
      "11:\tlearn: 15.8713695\ttotal: 244ms\tremaining: 774ms\n",
      "12:\tlearn: 15.6135159\ttotal: 264ms\tremaining: 750ms\n",
      "13:\tlearn: 15.1309171\ttotal: 287ms\tremaining: 737ms\n",
      "14:\tlearn: 14.7122764\ttotal: 306ms\tremaining: 714ms\n",
      "15:\tlearn: 14.2953592\ttotal: 327ms\tremaining: 695ms\n",
      "16:\tlearn: 13.9473080\ttotal: 351ms\tremaining: 681ms\n",
      "17:\tlearn: 13.6962179\ttotal: 372ms\tremaining: 662ms\n",
      "18:\tlearn: 13.2258673\ttotal: 394ms\tremaining: 642ms\n",
      "19:\tlearn: 12.9626512\ttotal: 412ms\tremaining: 617ms\n",
      "20:\tlearn: 12.7719296\ttotal: 436ms\tremaining: 602ms\n",
      "21:\tlearn: 12.1979927\ttotal: 455ms\tremaining: 580ms\n",
      "22:\tlearn: 12.0450142\ttotal: 476ms\tremaining: 559ms\n",
      "23:\tlearn: 11.7743071\ttotal: 500ms\tremaining: 542ms\n",
      "24:\tlearn: 11.5129760\ttotal: 520ms\tremaining: 520ms\n",
      "25:\tlearn: 11.2380357\ttotal: 538ms\tremaining: 497ms\n",
      "26:\tlearn: 11.1033522\ttotal: 557ms\tremaining: 474ms\n",
      "27:\tlearn: 10.7306596\ttotal: 584ms\tremaining: 459ms\n",
      "28:\tlearn: 10.5112432\ttotal: 603ms\tremaining: 436ms\n",
      "29:\tlearn: 10.1621037\ttotal: 621ms\tremaining: 414ms\n",
      "30:\tlearn: 10.0626467\ttotal: 648ms\tremaining: 397ms\n",
      "31:\tlearn: 9.7061136\ttotal: 666ms\tremaining: 375ms\n",
      "32:\tlearn: 9.4070063\ttotal: 685ms\tremaining: 353ms\n",
      "33:\tlearn: 9.2141422\ttotal: 703ms\tremaining: 331ms\n",
      "34:\tlearn: 9.1801534\ttotal: 710ms\tremaining: 304ms\n",
      "35:\tlearn: 8.9985783\ttotal: 728ms\tremaining: 283ms\n",
      "36:\tlearn: 8.7692905\ttotal: 746ms\tremaining: 262ms\n",
      "37:\tlearn: 8.5181181\ttotal: 765ms\tremaining: 241ms\n",
      "38:\tlearn: 8.3898172\ttotal: 783ms\tremaining: 221ms\n",
      "39:\tlearn: 8.2510726\ttotal: 805ms\tremaining: 201ms\n",
      "40:\tlearn: 8.1993778\ttotal: 828ms\tremaining: 182ms\n",
      "41:\tlearn: 7.9552667\ttotal: 848ms\tremaining: 161ms\n",
      "42:\tlearn: 7.7833160\ttotal: 867ms\tremaining: 141ms\n",
      "43:\tlearn: 7.5124512\ttotal: 891ms\tremaining: 121ms\n",
      "44:\tlearn: 7.3486749\ttotal: 912ms\tremaining: 101ms\n",
      "45:\tlearn: 7.1756118\ttotal: 931ms\tremaining: 81ms\n",
      "46:\tlearn: 6.9916939\ttotal: 953ms\tremaining: 60.8ms\n",
      "47:\tlearn: 6.8669259\ttotal: 975ms\tremaining: 40.6ms\n",
      "48:\tlearn: 6.8061570\ttotal: 999ms\tremaining: 20.4ms\n",
      "49:\tlearn: 6.6809264\ttotal: 1.02s\tremaining: 0us\n",
      "Learning rate set to 0.244695\n",
      "0:\tlearn: 26.5845418\ttotal: 13ms\tremaining: 1.28s\n",
      "1:\tlearn: 24.1124961\ttotal: 25.6ms\tremaining: 1.25s\n",
      "2:\tlearn: 22.0736083\ttotal: 38.4ms\tremaining: 1.24s\n",
      "3:\tlearn: 20.2818374\ttotal: 52ms\tremaining: 1.25s\n",
      "4:\tlearn: 18.9177080\ttotal: 66.3ms\tremaining: 1.26s\n",
      "5:\tlearn: 17.7111334\ttotal: 79.2ms\tremaining: 1.24s\n",
      "6:\tlearn: 16.7865503\ttotal: 91.8ms\tremaining: 1.22s\n",
      "7:\tlearn: 15.9621228\ttotal: 105ms\tremaining: 1.2s\n",
      "8:\tlearn: 15.1898432\ttotal: 117ms\tremaining: 1.18s\n",
      "9:\tlearn: 14.6291020\ttotal: 130ms\tremaining: 1.17s\n",
      "10:\tlearn: 14.1134216\ttotal: 143ms\tremaining: 1.15s\n",
      "11:\tlearn: 13.5773927\ttotal: 158ms\tremaining: 1.16s\n",
      "12:\tlearn: 13.2592501\ttotal: 171ms\tremaining: 1.14s\n",
      "13:\tlearn: 12.6689391\ttotal: 185ms\tremaining: 1.14s\n",
      "14:\tlearn: 12.3050635\ttotal: 204ms\tremaining: 1.15s\n",
      "15:\tlearn: 11.9839170\ttotal: 220ms\tremaining: 1.16s\n",
      "16:\tlearn: 11.6777561\ttotal: 237ms\tremaining: 1.16s\n",
      "17:\tlearn: 11.3466267\ttotal: 252ms\tremaining: 1.15s\n",
      "18:\tlearn: 11.0968898\ttotal: 268ms\tremaining: 1.14s\n",
      "19:\tlearn: 10.7891195\ttotal: 284ms\tremaining: 1.14s\n",
      "20:\tlearn: 10.4114882\ttotal: 332ms\tremaining: 1.25s\n",
      "21:\tlearn: 10.1450804\ttotal: 348ms\tremaining: 1.23s\n",
      "22:\tlearn: 9.9556271\ttotal: 366ms\tremaining: 1.22s\n",
      "23:\tlearn: 9.7262073\ttotal: 380ms\tremaining: 1.2s\n",
      "24:\tlearn: 9.4590042\ttotal: 394ms\tremaining: 1.18s\n",
      "25:\tlearn: 9.1242494\ttotal: 426ms\tremaining: 1.21s\n",
      "26:\tlearn: 8.8432840\ttotal: 439ms\tremaining: 1.19s\n",
      "27:\tlearn: 8.5718596\ttotal: 457ms\tremaining: 1.18s\n",
      "28:\tlearn: 8.2954406\ttotal: 470ms\tremaining: 1.15s\n",
      "29:\tlearn: 8.0977101\ttotal: 483ms\tremaining: 1.13s\n",
      "30:\tlearn: 7.9726155\ttotal: 496ms\tremaining: 1.1s\n",
      "31:\tlearn: 7.8026096\ttotal: 510ms\tremaining: 1.08s\n",
      "32:\tlearn: 7.6251784\ttotal: 523ms\tremaining: 1.06s\n",
      "33:\tlearn: 7.4248749\ttotal: 536ms\tremaining: 1.04s\n",
      "34:\tlearn: 7.2688067\ttotal: 551ms\tremaining: 1.02s\n",
      "35:\tlearn: 7.2272030\ttotal: 565ms\tremaining: 1s\n",
      "36:\tlearn: 7.0811715\ttotal: 584ms\tremaining: 994ms\n",
      "37:\tlearn: 6.8788631\ttotal: 598ms\tremaining: 976ms\n",
      "38:\tlearn: 6.7624022\ttotal: 615ms\tremaining: 962ms\n",
      "39:\tlearn: 6.6280454\ttotal: 628ms\tremaining: 943ms\n",
      "40:\tlearn: 6.5081150\ttotal: 641ms\tremaining: 923ms\n",
      "41:\tlearn: 6.3473368\ttotal: 654ms\tremaining: 903ms\n",
      "42:\tlearn: 6.0548829\ttotal: 667ms\tremaining: 884ms\n",
      "43:\tlearn: 5.9683778\ttotal: 680ms\tremaining: 865ms\n",
      "44:\tlearn: 5.7959644\ttotal: 692ms\tremaining: 846ms\n",
      "45:\tlearn: 5.7248911\ttotal: 705ms\tremaining: 828ms\n",
      "46:\tlearn: 5.5991460\ttotal: 718ms\tremaining: 810ms\n",
      "47:\tlearn: 5.4064480\ttotal: 731ms\tremaining: 792ms\n",
      "48:\tlearn: 5.2644276\ttotal: 746ms\tremaining: 776ms\n",
      "49:\tlearn: 5.1361581\ttotal: 760ms\tremaining: 760ms\n",
      "50:\tlearn: 5.0005056\ttotal: 773ms\tremaining: 743ms\n",
      "51:\tlearn: 4.8430550\ttotal: 792ms\tremaining: 731ms\n",
      "52:\tlearn: 4.8011480\ttotal: 806ms\tremaining: 715ms\n",
      "53:\tlearn: 4.6724147\ttotal: 822ms\tremaining: 700ms\n",
      "54:\tlearn: 4.4832610\ttotal: 837ms\tremaining: 685ms\n",
      "55:\tlearn: 4.3501336\ttotal: 851ms\tremaining: 669ms\n",
      "56:\tlearn: 4.2891387\ttotal: 864ms\tremaining: 652ms\n",
      "57:\tlearn: 4.1904387\ttotal: 877ms\tremaining: 635ms\n",
      "58:\tlearn: 4.1010121\ttotal: 890ms\tremaining: 618ms\n",
      "59:\tlearn: 4.0219894\ttotal: 903ms\tremaining: 602ms\n",
      "60:\tlearn: 3.9947670\ttotal: 916ms\tremaining: 585ms\n",
      "61:\tlearn: 3.9381305\ttotal: 929ms\tremaining: 570ms\n",
      "62:\tlearn: 3.8816520\ttotal: 943ms\tremaining: 554ms\n",
      "63:\tlearn: 3.8699039\ttotal: 958ms\tremaining: 539ms\n",
      "64:\tlearn: 3.8000246\ttotal: 971ms\tremaining: 523ms\n",
      "65:\tlearn: 3.6608973\ttotal: 984ms\tremaining: 507ms\n",
      "66:\tlearn: 3.6421708\ttotal: 998ms\tremaining: 491ms\n",
      "67:\tlearn: 3.4991182\ttotal: 1.02s\tremaining: 478ms\n",
      "68:\tlearn: 3.4922481\ttotal: 1.02s\tremaining: 460ms\n",
      "69:\tlearn: 3.4753983\ttotal: 1.04s\tremaining: 445ms\n",
      "70:\tlearn: 3.4648197\ttotal: 1.05s\tremaining: 430ms\n",
      "71:\tlearn: 3.3933454\ttotal: 1.07s\tremaining: 415ms\n",
      "72:\tlearn: 3.2701230\ttotal: 1.08s\tremaining: 400ms\n",
      "73:\tlearn: 3.1771198\ttotal: 1.09s\tremaining: 385ms\n",
      "74:\tlearn: 3.1249405\ttotal: 1.11s\tremaining: 370ms\n",
      "75:\tlearn: 3.1189675\ttotal: 1.13s\tremaining: 356ms\n",
      "76:\tlearn: 3.0454746\ttotal: 1.14s\tremaining: 340ms\n",
      "77:\tlearn: 2.9747725\ttotal: 1.15s\tremaining: 325ms\n",
      "78:\tlearn: 2.9265676\ttotal: 1.16s\tremaining: 310ms\n",
      "79:\tlearn: 2.9218144\ttotal: 1.18s\tremaining: 295ms\n",
      "80:\tlearn: 2.9186065\ttotal: 1.19s\tremaining: 279ms\n",
      "81:\tlearn: 2.8203463\ttotal: 1.2s\tremaining: 264ms\n",
      "82:\tlearn: 2.7735817\ttotal: 1.22s\tremaining: 249ms\n",
      "83:\tlearn: 2.7487043\ttotal: 1.23s\tremaining: 235ms\n",
      "84:\tlearn: 2.6679816\ttotal: 1.25s\tremaining: 220ms\n",
      "85:\tlearn: 2.6192009\ttotal: 1.26s\tremaining: 205ms\n",
      "86:\tlearn: 2.5621604\ttotal: 1.27s\tremaining: 190ms\n",
      "87:\tlearn: 2.4896870\ttotal: 1.28s\tremaining: 175ms\n",
      "88:\tlearn: 2.4372851\ttotal: 1.3s\tremaining: 160ms\n",
      "89:\tlearn: 2.3799325\ttotal: 1.32s\tremaining: 146ms\n",
      "90:\tlearn: 2.3568445\ttotal: 1.33s\tremaining: 132ms\n",
      "91:\tlearn: 2.3499965\ttotal: 1.35s\tremaining: 117ms\n",
      "92:\tlearn: 2.3118731\ttotal: 1.37s\tremaining: 103ms\n",
      "93:\tlearn: 2.2377318\ttotal: 1.38s\tremaining: 88ms\n",
      "94:\tlearn: 2.2013315\ttotal: 1.39s\tremaining: 73.3ms\n",
      "95:\tlearn: 2.1381703\ttotal: 1.4s\tremaining: 58.5ms\n",
      "96:\tlearn: 2.1335606\ttotal: 1.42s\tremaining: 43.8ms\n",
      "97:\tlearn: 2.0874454\ttotal: 1.43s\tremaining: 29.2ms\n",
      "98:\tlearn: 2.0558142\ttotal: 1.44s\tremaining: 14.6ms\n",
      "99:\tlearn: 1.9711948\ttotal: 1.46s\tremaining: 0us\n",
      "Learning rate set to 0.273015\n",
      "0:\tlearn: 26.5752882\ttotal: 16.1ms\tremaining: 1.59s\n",
      "1:\tlearn: 24.1839994\ttotal: 30.5ms\tremaining: 1.49s\n",
      "2:\tlearn: 22.4984924\ttotal: 45.1ms\tremaining: 1.46s\n",
      "3:\tlearn: 20.9830818\ttotal: 60.1ms\tremaining: 1.44s\n",
      "4:\tlearn: 19.4287923\ttotal: 76.7ms\tremaining: 1.46s\n",
      "5:\tlearn: 18.4706002\ttotal: 91.1ms\tremaining: 1.43s\n",
      "6:\tlearn: 17.6576824\ttotal: 107ms\tremaining: 1.42s\n",
      "7:\tlearn: 16.9667703\ttotal: 122ms\tremaining: 1.4s\n",
      "8:\tlearn: 16.4228981\ttotal: 136ms\tremaining: 1.37s\n",
      "9:\tlearn: 15.8567081\ttotal: 156ms\tremaining: 1.4s\n",
      "10:\tlearn: 15.4517077\ttotal: 171ms\tremaining: 1.38s\n",
      "11:\tlearn: 15.0497522\ttotal: 186ms\tremaining: 1.36s\n",
      "12:\tlearn: 14.5942421\ttotal: 204ms\tremaining: 1.36s\n",
      "13:\tlearn: 14.2498589\ttotal: 219ms\tremaining: 1.34s\n",
      "14:\tlearn: 13.9337680\ttotal: 239ms\tremaining: 1.35s\n",
      "15:\tlearn: 13.4466101\ttotal: 255ms\tremaining: 1.34s\n",
      "16:\tlearn: 13.0245600\ttotal: 271ms\tremaining: 1.32s\n",
      "17:\tlearn: 12.8773930\ttotal: 275ms\tremaining: 1.25s\n",
      "18:\tlearn: 12.6530333\ttotal: 296ms\tremaining: 1.26s\n",
      "19:\tlearn: 12.3243330\ttotal: 311ms\tremaining: 1.25s\n",
      "20:\tlearn: 12.0148380\ttotal: 332ms\tremaining: 1.25s\n",
      "21:\tlearn: 11.7717452\ttotal: 351ms\tremaining: 1.24s\n",
      "22:\tlearn: 11.4676443\ttotal: 367ms\tremaining: 1.23s\n",
      "23:\tlearn: 11.1225819\ttotal: 382ms\tremaining: 1.21s\n",
      "24:\tlearn: 10.8586320\ttotal: 397ms\tremaining: 1.19s\n",
      "25:\tlearn: 10.6947121\ttotal: 412ms\tremaining: 1.17s\n",
      "26:\tlearn: 10.2997600\ttotal: 426ms\tremaining: 1.15s\n",
      "27:\tlearn: 9.9640405\ttotal: 443ms\tremaining: 1.14s\n",
      "28:\tlearn: 9.7594110\ttotal: 457ms\tremaining: 1.12s\n",
      "29:\tlearn: 9.6214853\ttotal: 480ms\tremaining: 1.12s\n",
      "30:\tlearn: 9.3614205\ttotal: 495ms\tremaining: 1.1s\n",
      "31:\tlearn: 9.1521894\ttotal: 511ms\tremaining: 1.09s\n",
      "32:\tlearn: 8.9917879\ttotal: 527ms\tremaining: 1.07s\n",
      "33:\tlearn: 8.8238694\ttotal: 545ms\tremaining: 1.06s\n",
      "34:\tlearn: 8.7417215\ttotal: 560ms\tremaining: 1.04s\n",
      "35:\tlearn: 8.5162629\ttotal: 575ms\tremaining: 1.02s\n",
      "36:\tlearn: 8.4422902\ttotal: 590ms\tremaining: 1s\n",
      "37:\tlearn: 8.3312100\ttotal: 605ms\tremaining: 987ms\n",
      "38:\tlearn: 8.1780064\ttotal: 620ms\tremaining: 970ms\n",
      "39:\tlearn: 7.8365408\ttotal: 638ms\tremaining: 957ms\n",
      "40:\tlearn: 7.6247327\ttotal: 658ms\tremaining: 947ms\n",
      "41:\tlearn: 7.4390089\ttotal: 678ms\tremaining: 937ms\n",
      "42:\tlearn: 7.3140677\ttotal: 696ms\tremaining: 922ms\n",
      "43:\tlearn: 7.2722119\ttotal: 710ms\tremaining: 904ms\n",
      "44:\tlearn: 7.0993770\ttotal: 725ms\tremaining: 886ms\n",
      "45:\tlearn: 6.9434584\ttotal: 740ms\tremaining: 869ms\n",
      "46:\tlearn: 6.7884618\ttotal: 761ms\tremaining: 858ms\n",
      "47:\tlearn: 6.7437256\ttotal: 778ms\tremaining: 843ms\n",
      "48:\tlearn: 6.7075995\ttotal: 792ms\tremaining: 824ms\n",
      "49:\tlearn: 6.6418042\ttotal: 809ms\tremaining: 809ms\n",
      "50:\tlearn: 6.5250819\ttotal: 823ms\tremaining: 791ms\n",
      "51:\tlearn: 6.4786809\ttotal: 838ms\tremaining: 774ms\n",
      "52:\tlearn: 6.3093514\ttotal: 860ms\tremaining: 762ms\n",
      "53:\tlearn: 6.1788947\ttotal: 876ms\tremaining: 746ms\n",
      "54:\tlearn: 6.1398099\ttotal: 894ms\tremaining: 732ms\n",
      "55:\tlearn: 5.9473624\ttotal: 914ms\tremaining: 718ms\n",
      "56:\tlearn: 5.9347658\ttotal: 932ms\tremaining: 703ms\n",
      "57:\tlearn: 5.8126747\ttotal: 946ms\tremaining: 685ms\n",
      "58:\tlearn: 5.6741708\ttotal: 960ms\tremaining: 667ms\n",
      "59:\tlearn: 5.6272094\ttotal: 974ms\tremaining: 650ms\n",
      "60:\tlearn: 5.6212038\ttotal: 978ms\tremaining: 626ms\n",
      "61:\tlearn: 5.4020122\ttotal: 993ms\tremaining: 608ms\n",
      "62:\tlearn: 5.2954114\ttotal: 1.01s\tremaining: 591ms\n",
      "63:\tlearn: 5.1907101\ttotal: 1.02s\tremaining: 575ms\n",
      "64:\tlearn: 5.0873760\ttotal: 1.04s\tremaining: 558ms\n",
      "65:\tlearn: 5.0373616\ttotal: 1.05s\tremaining: 542ms\n",
      "66:\tlearn: 4.9487546\ttotal: 1.07s\tremaining: 525ms\n",
      "67:\tlearn: 4.8640667\ttotal: 1.08s\tremaining: 509ms\n",
      "68:\tlearn: 4.7606969\ttotal: 1.09s\tremaining: 492ms\n",
      "69:\tlearn: 4.6538217\ttotal: 1.11s\tremaining: 476ms\n",
      "70:\tlearn: 4.5917661\ttotal: 1.12s\tremaining: 459ms\n",
      "71:\tlearn: 4.4747753\ttotal: 1.14s\tremaining: 443ms\n",
      "72:\tlearn: 4.3723137\ttotal: 1.15s\tremaining: 427ms\n",
      "73:\tlearn: 4.2246988\ttotal: 1.17s\tremaining: 411ms\n",
      "74:\tlearn: 4.1062508\ttotal: 1.18s\tremaining: 395ms\n",
      "75:\tlearn: 4.0048442\ttotal: 1.2s\tremaining: 379ms\n",
      "76:\tlearn: 3.9148423\ttotal: 1.22s\tremaining: 364ms\n",
      "77:\tlearn: 3.8248125\ttotal: 1.23s\tremaining: 348ms\n",
      "78:\tlearn: 3.8042141\ttotal: 1.25s\tremaining: 333ms\n",
      "79:\tlearn: 3.7201250\ttotal: 1.27s\tremaining: 317ms\n",
      "80:\tlearn: 3.6519235\ttotal: 1.28s\tremaining: 301ms\n",
      "81:\tlearn: 3.5649652\ttotal: 1.3s\tremaining: 285ms\n",
      "82:\tlearn: 3.5604128\ttotal: 1.31s\tremaining: 269ms\n",
      "83:\tlearn: 3.5277321\ttotal: 1.33s\tremaining: 254ms\n",
      "84:\tlearn: 3.4513396\ttotal: 1.35s\tremaining: 238ms\n",
      "85:\tlearn: 3.3683593\ttotal: 1.36s\tremaining: 222ms\n",
      "86:\tlearn: 3.3091727\ttotal: 1.38s\tremaining: 206ms\n",
      "87:\tlearn: 3.2598146\ttotal: 1.4s\tremaining: 190ms\n",
      "88:\tlearn: 3.1966243\ttotal: 1.41s\tremaining: 175ms\n",
      "89:\tlearn: 3.1888628\ttotal: 1.43s\tremaining: 159ms\n",
      "90:\tlearn: 3.1750378\ttotal: 1.45s\tremaining: 143ms\n",
      "91:\tlearn: 3.0876571\ttotal: 1.47s\tremaining: 128ms\n",
      "92:\tlearn: 3.0327506\ttotal: 1.49s\tremaining: 112ms\n",
      "93:\tlearn: 2.9845952\ttotal: 1.51s\tremaining: 96.1ms\n",
      "94:\tlearn: 2.9120629\ttotal: 1.52s\tremaining: 80.1ms\n",
      "95:\tlearn: 2.8696054\ttotal: 1.54s\tremaining: 64.2ms\n",
      "96:\tlearn: 2.8160705\ttotal: 1.56s\tremaining: 48.1ms\n",
      "97:\tlearn: 2.7585267\ttotal: 1.58s\tremaining: 32.2ms\n",
      "98:\tlearn: 2.6884443\ttotal: 1.59s\tremaining: 16.1ms\n",
      "99:\tlearn: 2.6264962\ttotal: 1.61s\tremaining: 0us\n",
      "Learning rate set to 0.291078\n",
      "0:\tlearn: 27.9513834\ttotal: 16.7ms\tremaining: 1.65s\n",
      "1:\tlearn: 25.6357431\ttotal: 32.6ms\tremaining: 1.6s\n",
      "2:\tlearn: 23.1595730\ttotal: 48.8ms\tremaining: 1.58s\n",
      "3:\tlearn: 21.6445593\ttotal: 65.7ms\tremaining: 1.58s\n",
      "4:\tlearn: 20.4376166\ttotal: 87.9ms\tremaining: 1.67s\n",
      "5:\tlearn: 19.4271817\ttotal: 107ms\tremaining: 1.67s\n",
      "6:\tlearn: 18.7630563\ttotal: 123ms\tremaining: 1.64s\n",
      "7:\tlearn: 17.9982173\ttotal: 140ms\tremaining: 1.61s\n",
      "8:\tlearn: 17.4374759\ttotal: 156ms\tremaining: 1.58s\n",
      "9:\tlearn: 16.8789350\ttotal: 173ms\tremaining: 1.56s\n",
      "10:\tlearn: 16.4147810\ttotal: 191ms\tremaining: 1.54s\n",
      "11:\tlearn: 15.8833602\ttotal: 214ms\tremaining: 1.57s\n",
      "12:\tlearn: 15.5170602\ttotal: 238ms\tremaining: 1.59s\n",
      "13:\tlearn: 15.1426026\ttotal: 257ms\tremaining: 1.58s\n",
      "14:\tlearn: 14.8150248\ttotal: 274ms\tremaining: 1.55s\n",
      "15:\tlearn: 14.4216841\ttotal: 291ms\tremaining: 1.53s\n",
      "16:\tlearn: 14.0303468\ttotal: 308ms\tremaining: 1.5s\n",
      "17:\tlearn: 13.8462469\ttotal: 326ms\tremaining: 1.49s\n",
      "18:\tlearn: 13.6555751\ttotal: 343ms\tremaining: 1.46s\n",
      "19:\tlearn: 13.3961840\ttotal: 360ms\tremaining: 1.44s\n",
      "20:\tlearn: 13.0675295\ttotal: 377ms\tremaining: 1.42s\n",
      "21:\tlearn: 12.9914000\ttotal: 394ms\tremaining: 1.4s\n",
      "22:\tlearn: 12.8735684\ttotal: 411ms\tremaining: 1.37s\n",
      "23:\tlearn: 12.6111023\ttotal: 427ms\tremaining: 1.35s\n",
      "24:\tlearn: 12.3301510\ttotal: 446ms\tremaining: 1.34s\n",
      "25:\tlearn: 12.0273012\ttotal: 468ms\tremaining: 1.33s\n",
      "26:\tlearn: 11.7391500\ttotal: 490ms\tremaining: 1.32s\n",
      "27:\tlearn: 11.4901409\ttotal: 506ms\tremaining: 1.3s\n",
      "28:\tlearn: 11.3100140\ttotal: 522ms\tremaining: 1.28s\n",
      "29:\tlearn: 11.0924460\ttotal: 539ms\tremaining: 1.26s\n",
      "30:\tlearn: 11.0096474\ttotal: 556ms\tremaining: 1.24s\n",
      "31:\tlearn: 10.8287483\ttotal: 578ms\tremaining: 1.23s\n",
      "32:\tlearn: 10.6838938\ttotal: 595ms\tremaining: 1.21s\n",
      "33:\tlearn: 10.4252923\ttotal: 614ms\tremaining: 1.19s\n",
      "34:\tlearn: 10.3602862\ttotal: 631ms\tremaining: 1.17s\n",
      "35:\tlearn: 10.2333673\ttotal: 651ms\tremaining: 1.16s\n",
      "36:\tlearn: 10.0980797\ttotal: 674ms\tremaining: 1.15s\n",
      "37:\tlearn: 9.9120372\ttotal: 691ms\tremaining: 1.13s\n",
      "38:\tlearn: 9.7578127\ttotal: 707ms\tremaining: 1.11s\n",
      "39:\tlearn: 9.5310496\ttotal: 728ms\tremaining: 1.09s\n",
      "40:\tlearn: 9.2025839\ttotal: 751ms\tremaining: 1.08s\n",
      "41:\tlearn: 8.8439905\ttotal: 769ms\tremaining: 1.06s\n",
      "42:\tlearn: 8.7386780\ttotal: 789ms\tremaining: 1.04s\n",
      "43:\tlearn: 8.6331533\ttotal: 806ms\tremaining: 1.03s\n",
      "44:\tlearn: 8.4949470\ttotal: 826ms\tremaining: 1.01s\n",
      "45:\tlearn: 8.2765755\ttotal: 844ms\tremaining: 991ms\n",
      "46:\tlearn: 8.1589948\ttotal: 861ms\tremaining: 971ms\n",
      "47:\tlearn: 8.0277785\ttotal: 879ms\tremaining: 952ms\n",
      "48:\tlearn: 7.8146197\ttotal: 904ms\tremaining: 941ms\n",
      "49:\tlearn: 7.6756534\ttotal: 926ms\tremaining: 926ms\n",
      "50:\tlearn: 7.6208248\ttotal: 947ms\tremaining: 910ms\n",
      "51:\tlearn: 7.4555865\ttotal: 964ms\tremaining: 890ms\n",
      "52:\tlearn: 7.2782655\ttotal: 980ms\tremaining: 869ms\n",
      "53:\tlearn: 7.1149672\ttotal: 997ms\tremaining: 850ms\n",
      "54:\tlearn: 6.9376767\ttotal: 1.01s\tremaining: 830ms\n",
      "55:\tlearn: 6.7511748\ttotal: 1.04s\tremaining: 815ms\n",
      "56:\tlearn: 6.7104918\ttotal: 1.06s\tremaining: 800ms\n",
      "57:\tlearn: 6.5603998\ttotal: 1.08s\tremaining: 782ms\n",
      "58:\tlearn: 6.4505261\ttotal: 1.1s\tremaining: 764ms\n",
      "59:\tlearn: 6.3959467\ttotal: 1.12s\tremaining: 747ms\n",
      "60:\tlearn: 6.3172197\ttotal: 1.14s\tremaining: 727ms\n",
      "61:\tlearn: 6.1969667\ttotal: 1.16s\tremaining: 708ms\n",
      "62:\tlearn: 6.0879226\ttotal: 1.17s\tremaining: 688ms\n",
      "63:\tlearn: 6.0198069\ttotal: 1.19s\tremaining: 670ms\n",
      "64:\tlearn: 5.9731427\ttotal: 1.21s\tremaining: 651ms\n",
      "65:\tlearn: 5.8792093\ttotal: 1.23s\tremaining: 633ms\n",
      "66:\tlearn: 5.8320758\ttotal: 1.25s\tremaining: 615ms\n",
      "67:\tlearn: 5.7841992\ttotal: 1.27s\tremaining: 596ms\n",
      "68:\tlearn: 5.6648569\ttotal: 1.28s\tremaining: 578ms\n",
      "69:\tlearn: 5.6581690\ttotal: 1.3s\tremaining: 560ms\n",
      "70:\tlearn: 5.5358751\ttotal: 1.33s\tremaining: 542ms\n",
      "71:\tlearn: 5.4268574\ttotal: 1.35s\tremaining: 524ms\n",
      "72:\tlearn: 5.4216079\ttotal: 1.37s\tremaining: 506ms\n",
      "73:\tlearn: 5.3203430\ttotal: 1.39s\tremaining: 489ms\n",
      "74:\tlearn: 5.2458464\ttotal: 1.41s\tremaining: 471ms\n",
      "75:\tlearn: 5.1195345\ttotal: 1.44s\tremaining: 454ms\n",
      "76:\tlearn: 5.0358938\ttotal: 1.46s\tremaining: 436ms\n",
      "77:\tlearn: 4.8980680\ttotal: 1.48s\tremaining: 419ms\n",
      "78:\tlearn: 4.7904991\ttotal: 1.51s\tremaining: 401ms\n",
      "79:\tlearn: 4.6792741\ttotal: 1.53s\tremaining: 384ms\n",
      "80:\tlearn: 4.6220738\ttotal: 1.56s\tremaining: 366ms\n",
      "81:\tlearn: 4.5262802\ttotal: 1.59s\tremaining: 348ms\n",
      "82:\tlearn: 4.4708510\ttotal: 1.61s\tremaining: 329ms\n",
      "83:\tlearn: 4.3968099\ttotal: 1.63s\tremaining: 311ms\n",
      "84:\tlearn: 4.2935072\ttotal: 1.66s\tremaining: 292ms\n",
      "85:\tlearn: 4.2085523\ttotal: 1.68s\tremaining: 274ms\n",
      "86:\tlearn: 4.1480950\ttotal: 1.71s\tremaining: 255ms\n",
      "87:\tlearn: 4.1100990\ttotal: 1.72s\tremaining: 235ms\n",
      "88:\tlearn: 4.0439357\ttotal: 1.74s\tremaining: 216ms\n",
      "89:\tlearn: 3.9807654\ttotal: 1.76s\tremaining: 196ms\n",
      "90:\tlearn: 3.8681948\ttotal: 1.78s\tremaining: 176ms\n",
      "91:\tlearn: 3.7895226\ttotal: 1.8s\tremaining: 157ms\n",
      "92:\tlearn: 3.7358175\ttotal: 1.83s\tremaining: 137ms\n",
      "93:\tlearn: 3.6926122\ttotal: 1.85s\tremaining: 118ms\n",
      "94:\tlearn: 3.6012419\ttotal: 1.87s\tremaining: 98.4ms\n",
      "95:\tlearn: 3.5584955\ttotal: 1.89s\tremaining: 78.9ms\n",
      "96:\tlearn: 3.5009549\ttotal: 1.91s\tremaining: 59.1ms\n",
      "97:\tlearn: 3.4347459\ttotal: 1.94s\tremaining: 39.5ms\n",
      "98:\tlearn: 3.3757569\ttotal: 1.96s\tremaining: 19.8ms\n",
      "99:\tlearn: 3.3286900\ttotal: 1.99s\tremaining: 0us\n",
      "Learning rate set to 0.304614\n",
      "0:\tlearn: 29.2883994\ttotal: 18.1ms\tremaining: 1.79s\n",
      "1:\tlearn: 26.3901957\ttotal: 38.4ms\tremaining: 1.88s\n",
      "2:\tlearn: 24.2357670\ttotal: 57.1ms\tremaining: 1.84s\n",
      "3:\tlearn: 22.4426760\ttotal: 75ms\tremaining: 1.8s\n",
      "4:\tlearn: 21.2073315\ttotal: 93.8ms\tremaining: 1.78s\n",
      "5:\tlearn: 20.2620530\ttotal: 116ms\tremaining: 1.81s\n",
      "6:\tlearn: 19.3592695\ttotal: 134ms\tremaining: 1.78s\n",
      "7:\tlearn: 18.7489588\ttotal: 153ms\tremaining: 1.76s\n",
      "8:\tlearn: 17.9987872\ttotal: 172ms\tremaining: 1.74s\n",
      "9:\tlearn: 17.5208279\ttotal: 191ms\tremaining: 1.72s\n",
      "10:\tlearn: 17.0879479\ttotal: 209ms\tremaining: 1.69s\n",
      "11:\tlearn: 16.7900772\ttotal: 227ms\tremaining: 1.66s\n",
      "12:\tlearn: 16.4223276\ttotal: 247ms\tremaining: 1.66s\n",
      "13:\tlearn: 15.9622538\ttotal: 266ms\tremaining: 1.63s\n",
      "14:\tlearn: 15.6992544\ttotal: 285ms\tremaining: 1.62s\n",
      "15:\tlearn: 15.2375419\ttotal: 310ms\tremaining: 1.63s\n",
      "16:\tlearn: 14.8316853\ttotal: 331ms\tremaining: 1.62s\n",
      "17:\tlearn: 14.6930905\ttotal: 351ms\tremaining: 1.6s\n",
      "18:\tlearn: 14.5227696\ttotal: 379ms\tremaining: 1.61s\n",
      "19:\tlearn: 14.2104852\ttotal: 401ms\tremaining: 1.6s\n",
      "20:\tlearn: 14.0142414\ttotal: 421ms\tremaining: 1.58s\n",
      "21:\tlearn: 13.5757607\ttotal: 445ms\tremaining: 1.58s\n",
      "22:\tlearn: 13.3077022\ttotal: 471ms\tremaining: 1.57s\n",
      "23:\tlearn: 13.1487001\ttotal: 498ms\tremaining: 1.58s\n",
      "24:\tlearn: 12.8437007\ttotal: 526ms\tremaining: 1.58s\n",
      "25:\tlearn: 12.6261674\ttotal: 553ms\tremaining: 1.57s\n",
      "26:\tlearn: 12.3542264\ttotal: 578ms\tremaining: 1.56s\n",
      "27:\tlearn: 12.0154929\ttotal: 610ms\tremaining: 1.57s\n",
      "28:\tlearn: 11.7900664\ttotal: 638ms\tremaining: 1.56s\n",
      "29:\tlearn: 11.5564414\ttotal: 656ms\tremaining: 1.53s\n",
      "30:\tlearn: 11.3767053\ttotal: 677ms\tremaining: 1.51s\n",
      "31:\tlearn: 11.2318037\ttotal: 701ms\tremaining: 1.49s\n",
      "32:\tlearn: 11.0128674\ttotal: 721ms\tremaining: 1.46s\n",
      "33:\tlearn: 10.6539596\ttotal: 740ms\tremaining: 1.44s\n",
      "34:\tlearn: 10.4455615\ttotal: 758ms\tremaining: 1.41s\n",
      "35:\tlearn: 10.2776653\ttotal: 775ms\tremaining: 1.38s\n",
      "36:\tlearn: 9.9849265\ttotal: 793ms\tremaining: 1.35s\n",
      "37:\tlearn: 9.7494019\ttotal: 811ms\tremaining: 1.32s\n",
      "38:\tlearn: 9.5888331\ttotal: 829ms\tremaining: 1.3s\n",
      "39:\tlearn: 9.5110431\ttotal: 848ms\tremaining: 1.27s\n",
      "40:\tlearn: 9.3674955\ttotal: 868ms\tremaining: 1.25s\n",
      "41:\tlearn: 9.2135461\ttotal: 892ms\tremaining: 1.23s\n",
      "42:\tlearn: 8.9928718\ttotal: 916ms\tremaining: 1.21s\n",
      "43:\tlearn: 8.8097722\ttotal: 935ms\tremaining: 1.19s\n",
      "44:\tlearn: 8.7537846\ttotal: 959ms\tremaining: 1.17s\n",
      "45:\tlearn: 8.5826455\ttotal: 980ms\tremaining: 1.15s\n",
      "46:\tlearn: 8.3944340\ttotal: 998ms\tremaining: 1.12s\n",
      "47:\tlearn: 8.2679932\ttotal: 1.01s\tremaining: 1.1s\n",
      "48:\tlearn: 8.1604600\ttotal: 1.03s\tremaining: 1.07s\n",
      "49:\tlearn: 8.1458305\ttotal: 1.05s\tremaining: 1.05s\n",
      "50:\tlearn: 8.1016902\ttotal: 1.07s\tremaining: 1.02s\n",
      "51:\tlearn: 7.9178357\ttotal: 1.09s\tremaining: 1s\n",
      "52:\tlearn: 7.7819455\ttotal: 1.11s\tremaining: 986ms\n",
      "53:\tlearn: 7.7499233\ttotal: 1.14s\tremaining: 967ms\n",
      "54:\tlearn: 7.5478573\ttotal: 1.16s\tremaining: 946ms\n",
      "55:\tlearn: 7.4081698\ttotal: 1.18s\tremaining: 926ms\n",
      "56:\tlearn: 7.3226253\ttotal: 1.21s\tremaining: 910ms\n",
      "57:\tlearn: 7.1228643\ttotal: 1.23s\tremaining: 894ms\n",
      "58:\tlearn: 6.9899124\ttotal: 1.25s\tremaining: 872ms\n",
      "59:\tlearn: 6.8337176\ttotal: 1.27s\tremaining: 850ms\n",
      "60:\tlearn: 6.6284785\ttotal: 1.29s\tremaining: 827ms\n",
      "61:\tlearn: 6.5193654\ttotal: 1.32s\tremaining: 807ms\n",
      "62:\tlearn: 6.4543312\ttotal: 1.33s\tremaining: 784ms\n",
      "63:\tlearn: 6.3863506\ttotal: 1.35s\tremaining: 762ms\n",
      "64:\tlearn: 6.2797936\ttotal: 1.38s\tremaining: 740ms\n",
      "65:\tlearn: 6.1488947\ttotal: 1.4s\tremaining: 720ms\n",
      "66:\tlearn: 6.0457620\ttotal: 1.42s\tremaining: 699ms\n",
      "67:\tlearn: 6.0023572\ttotal: 1.45s\tremaining: 681ms\n",
      "68:\tlearn: 5.9347993\ttotal: 1.47s\tremaining: 659ms\n",
      "69:\tlearn: 5.9323530\ttotal: 1.49s\tremaining: 637ms\n",
      "70:\tlearn: 5.8426129\ttotal: 1.5s\tremaining: 614ms\n",
      "71:\tlearn: 5.7688244\ttotal: 1.53s\tremaining: 596ms\n",
      "72:\tlearn: 5.7349989\ttotal: 1.55s\tremaining: 575ms\n",
      "73:\tlearn: 5.6519396\ttotal: 1.57s\tremaining: 553ms\n",
      "74:\tlearn: 5.5899040\ttotal: 1.59s\tremaining: 532ms\n",
      "75:\tlearn: 5.5672856\ttotal: 1.62s\tremaining: 512ms\n",
      "76:\tlearn: 5.5045845\ttotal: 1.64s\tremaining: 490ms\n",
      "77:\tlearn: 5.4144385\ttotal: 1.66s\tremaining: 467ms\n",
      "78:\tlearn: 5.3078071\ttotal: 1.68s\tremaining: 446ms\n",
      "79:\tlearn: 5.2904164\ttotal: 1.7s\tremaining: 425ms\n",
      "80:\tlearn: 5.2151413\ttotal: 1.72s\tremaining: 403ms\n",
      "81:\tlearn: 5.1021187\ttotal: 1.73s\tremaining: 381ms\n",
      "82:\tlearn: 5.0049328\ttotal: 1.76s\tremaining: 361ms\n",
      "83:\tlearn: 4.9531532\ttotal: 1.78s\tremaining: 339ms\n",
      "84:\tlearn: 4.9143196\ttotal: 1.8s\tremaining: 318ms\n",
      "85:\tlearn: 4.8361167\ttotal: 1.83s\tremaining: 298ms\n",
      "86:\tlearn: 4.8268295\ttotal: 1.86s\tremaining: 278ms\n",
      "87:\tlearn: 4.7469934\ttotal: 1.88s\tremaining: 256ms\n",
      "88:\tlearn: 4.7458315\ttotal: 1.9s\tremaining: 235ms\n",
      "89:\tlearn: 4.6671404\ttotal: 1.93s\tremaining: 214ms\n",
      "90:\tlearn: 4.5488433\ttotal: 1.95s\tremaining: 193ms\n",
      "91:\tlearn: 4.4610225\ttotal: 1.97s\tremaining: 171ms\n",
      "92:\tlearn: 4.3966665\ttotal: 1.99s\tremaining: 150ms\n",
      "93:\tlearn: 4.3367760\ttotal: 2.01s\tremaining: 128ms\n",
      "94:\tlearn: 4.2857086\ttotal: 2.04s\tremaining: 107ms\n",
      "95:\tlearn: 4.2640459\ttotal: 2.06s\tremaining: 85.7ms\n",
      "96:\tlearn: 4.1739700\ttotal: 2.07s\tremaining: 64.1ms\n",
      "97:\tlearn: 4.1478737\ttotal: 2.09s\tremaining: 42.7ms\n",
      "98:\tlearn: 4.1012484\ttotal: 2.11s\tremaining: 21.3ms\n",
      "99:\tlearn: 4.0836198\ttotal: 2.13s\tremaining: 0us\n",
      "Learning rate set to 0.315545\n",
      "0:\tlearn: 29.9196324\ttotal: 23.7ms\tremaining: 2.34s\n",
      "1:\tlearn: 26.7227929\ttotal: 46.3ms\tremaining: 2.27s\n",
      "2:\tlearn: 24.6303098\ttotal: 72.6ms\tremaining: 2.35s\n",
      "3:\tlearn: 22.8615996\ttotal: 102ms\tremaining: 2.44s\n",
      "4:\tlearn: 21.8286106\ttotal: 121ms\tremaining: 2.31s\n",
      "5:\tlearn: 20.8722856\ttotal: 141ms\tremaining: 2.21s\n",
      "6:\tlearn: 20.1962327\ttotal: 159ms\tremaining: 2.12s\n",
      "7:\tlearn: 19.4457470\ttotal: 178ms\tremaining: 2.05s\n",
      "8:\tlearn: 19.0343389\ttotal: 201ms\tremaining: 2.04s\n",
      "9:\tlearn: 18.4997470\ttotal: 221ms\tremaining: 1.99s\n",
      "10:\tlearn: 17.9754552\ttotal: 243ms\tremaining: 1.97s\n",
      "11:\tlearn: 17.6963325\ttotal: 268ms\tremaining: 1.97s\n",
      "12:\tlearn: 17.3186660\ttotal: 292ms\tremaining: 1.95s\n",
      "13:\tlearn: 16.9620494\ttotal: 316ms\tremaining: 1.94s\n",
      "14:\tlearn: 16.7098210\ttotal: 343ms\tremaining: 1.94s\n",
      "15:\tlearn: 16.3130683\ttotal: 364ms\tremaining: 1.91s\n",
      "16:\tlearn: 15.9758183\ttotal: 382ms\tremaining: 1.87s\n",
      "17:\tlearn: 15.7607626\ttotal: 404ms\tremaining: 1.84s\n",
      "18:\tlearn: 15.4976022\ttotal: 425ms\tremaining: 1.81s\n",
      "19:\tlearn: 15.3041990\ttotal: 446ms\tremaining: 1.78s\n",
      "20:\tlearn: 14.9628985\ttotal: 465ms\tremaining: 1.75s\n",
      "21:\tlearn: 14.7852469\ttotal: 485ms\tremaining: 1.72s\n",
      "22:\tlearn: 14.5209522\ttotal: 504ms\tremaining: 1.69s\n",
      "23:\tlearn: 14.2097041\ttotal: 525ms\tremaining: 1.66s\n",
      "24:\tlearn: 14.0385074\ttotal: 544ms\tremaining: 1.63s\n",
      "25:\tlearn: 13.6010943\ttotal: 567ms\tremaining: 1.61s\n",
      "26:\tlearn: 13.3670685\ttotal: 592ms\tremaining: 1.6s\n",
      "27:\tlearn: 13.1895192\ttotal: 616ms\tremaining: 1.58s\n",
      "28:\tlearn: 13.0937193\ttotal: 643ms\tremaining: 1.57s\n",
      "29:\tlearn: 12.8784716\ttotal: 667ms\tremaining: 1.56s\n",
      "30:\tlearn: 12.7596546\ttotal: 692ms\tremaining: 1.54s\n",
      "31:\tlearn: 12.5894455\ttotal: 716ms\tremaining: 1.52s\n",
      "32:\tlearn: 12.4708000\ttotal: 736ms\tremaining: 1.5s\n",
      "33:\tlearn: 12.3102078\ttotal: 757ms\tremaining: 1.47s\n",
      "34:\tlearn: 12.1259184\ttotal: 780ms\tremaining: 1.45s\n",
      "35:\tlearn: 11.9873279\ttotal: 799ms\tremaining: 1.42s\n",
      "36:\tlearn: 11.6925525\ttotal: 823ms\tremaining: 1.4s\n",
      "37:\tlearn: 11.5611629\ttotal: 842ms\tremaining: 1.37s\n",
      "38:\tlearn: 11.4487437\ttotal: 861ms\tremaining: 1.35s\n",
      "39:\tlearn: 11.1067881\ttotal: 879ms\tremaining: 1.32s\n",
      "40:\tlearn: 11.0045652\ttotal: 898ms\tremaining: 1.29s\n",
      "41:\tlearn: 10.8924101\ttotal: 917ms\tremaining: 1.27s\n",
      "42:\tlearn: 10.6904963\ttotal: 943ms\tremaining: 1.25s\n",
      "43:\tlearn: 10.4608863\ttotal: 966ms\tremaining: 1.23s\n",
      "44:\tlearn: 10.4444265\ttotal: 985ms\tremaining: 1.2s\n",
      "45:\tlearn: 10.2375767\ttotal: 1s\tremaining: 1.18s\n",
      "46:\tlearn: 10.0059290\ttotal: 1.03s\tremaining: 1.17s\n",
      "47:\tlearn: 9.7804695\ttotal: 1.06s\tremaining: 1.15s\n",
      "48:\tlearn: 9.6313333\ttotal: 1.08s\tremaining: 1.13s\n",
      "49:\tlearn: 9.4180315\ttotal: 1.1s\tremaining: 1.1s\n",
      "50:\tlearn: 9.1901124\ttotal: 1.12s\tremaining: 1.08s\n",
      "51:\tlearn: 9.0467389\ttotal: 1.15s\tremaining: 1.06s\n",
      "52:\tlearn: 8.9617117\ttotal: 1.17s\tremaining: 1.04s\n",
      "53:\tlearn: 8.8915542\ttotal: 1.19s\tremaining: 1.02s\n",
      "54:\tlearn: 8.7445932\ttotal: 1.21s\tremaining: 993ms\n",
      "55:\tlearn: 8.6623837\ttotal: 1.23s\tremaining: 968ms\n",
      "56:\tlearn: 8.5536161\ttotal: 1.25s\tremaining: 946ms\n",
      "57:\tlearn: 8.4344404\ttotal: 1.27s\tremaining: 921ms\n",
      "58:\tlearn: 8.2917357\ttotal: 1.29s\tremaining: 897ms\n",
      "59:\tlearn: 8.1746592\ttotal: 1.32s\tremaining: 877ms\n",
      "60:\tlearn: 8.0479783\ttotal: 1.34s\tremaining: 856ms\n",
      "61:\tlearn: 7.9016476\ttotal: 1.36s\tremaining: 832ms\n",
      "62:\tlearn: 7.7891832\ttotal: 1.38s\tremaining: 808ms\n",
      "63:\tlearn: 7.6341154\ttotal: 1.39s\tremaining: 785ms\n",
      "64:\tlearn: 7.6173016\ttotal: 1.41s\tremaining: 761ms\n",
      "65:\tlearn: 7.4293345\ttotal: 1.43s\tremaining: 739ms\n",
      "66:\tlearn: 7.3422540\ttotal: 1.45s\tremaining: 715ms\n",
      "67:\tlearn: 7.2491447\ttotal: 1.47s\tremaining: 692ms\n",
      "68:\tlearn: 7.2079396\ttotal: 1.49s\tremaining: 669ms\n",
      "69:\tlearn: 7.1342266\ttotal: 1.51s\tremaining: 646ms\n",
      "70:\tlearn: 7.0828575\ttotal: 1.53s\tremaining: 624ms\n",
      "71:\tlearn: 6.9637832\ttotal: 1.55s\tremaining: 603ms\n",
      "72:\tlearn: 6.9036307\ttotal: 1.58s\tremaining: 583ms\n",
      "73:\tlearn: 6.8281134\ttotal: 1.6s\tremaining: 561ms\n",
      "74:\tlearn: 6.7963117\ttotal: 1.63s\tremaining: 542ms\n",
      "75:\tlearn: 6.7858394\ttotal: 1.65s\tremaining: 520ms\n",
      "76:\tlearn: 6.6319359\ttotal: 1.66s\tremaining: 497ms\n",
      "77:\tlearn: 6.5339361\ttotal: 1.69s\tremaining: 475ms\n",
      "78:\tlearn: 6.3980477\ttotal: 1.71s\tremaining: 455ms\n",
      "79:\tlearn: 6.3448819\ttotal: 1.73s\tremaining: 433ms\n",
      "80:\tlearn: 6.3221917\ttotal: 1.75s\tremaining: 411ms\n",
      "81:\tlearn: 6.2476246\ttotal: 1.78s\tremaining: 390ms\n",
      "82:\tlearn: 6.1618817\ttotal: 1.8s\tremaining: 368ms\n",
      "83:\tlearn: 6.0902693\ttotal: 1.82s\tremaining: 347ms\n",
      "84:\tlearn: 5.9537992\ttotal: 1.84s\tremaining: 324ms\n",
      "85:\tlearn: 5.8906439\ttotal: 1.87s\tremaining: 304ms\n",
      "86:\tlearn: 5.8097152\ttotal: 1.89s\tremaining: 282ms\n",
      "87:\tlearn: 5.7455519\ttotal: 1.9s\tremaining: 260ms\n",
      "88:\tlearn: 5.6877350\ttotal: 1.92s\tremaining: 238ms\n",
      "89:\tlearn: 5.6005448\ttotal: 1.95s\tremaining: 216ms\n",
      "90:\tlearn: 5.5763786\ttotal: 1.97s\tremaining: 194ms\n",
      "91:\tlearn: 5.4567198\ttotal: 1.98s\tremaining: 173ms\n",
      "92:\tlearn: 5.4194151\ttotal: 2.01s\tremaining: 151ms\n",
      "93:\tlearn: 5.3930340\ttotal: 2.03s\tremaining: 130ms\n",
      "94:\tlearn: 5.3113161\ttotal: 2.05s\tremaining: 108ms\n",
      "95:\tlearn: 5.2958709\ttotal: 2.08s\tremaining: 86.5ms\n",
      "96:\tlearn: 5.2866555\ttotal: 2.1s\tremaining: 64.9ms\n",
      "97:\tlearn: 5.2131838\ttotal: 2.12s\tremaining: 43.2ms\n",
      "98:\tlearn: 5.1232351\ttotal: 2.14s\tremaining: 21.6ms\n",
      "99:\tlearn: 5.0297364\ttotal: 2.16s\tremaining: 0us\n",
      "Learning rate set to 0.324767\n",
      "0:\tlearn: 31.5249673\ttotal: 3.84ms\tremaining: 380ms\n",
      "1:\tlearn: 28.1447816\ttotal: 6.44ms\tremaining: 316ms\n",
      "2:\tlearn: 26.6596043\ttotal: 9.65ms\tremaining: 312ms\n",
      "3:\tlearn: 25.1038201\ttotal: 12ms\tremaining: 288ms\n",
      "4:\tlearn: 24.1596391\ttotal: 14.3ms\tremaining: 272ms\n",
      "5:\tlearn: 23.4905363\ttotal: 18ms\tremaining: 281ms\n",
      "6:\tlearn: 22.9994719\ttotal: 21.6ms\tremaining: 288ms\n",
      "7:\tlearn: 22.5707759\ttotal: 25.3ms\tremaining: 291ms\n",
      "8:\tlearn: 22.1782530\ttotal: 28.6ms\tremaining: 289ms\n",
      "9:\tlearn: 22.0245645\ttotal: 30.8ms\tremaining: 277ms\n",
      "10:\tlearn: 21.7564847\ttotal: 33.4ms\tremaining: 270ms\n",
      "11:\tlearn: 21.4328479\ttotal: 35.9ms\tremaining: 263ms\n",
      "12:\tlearn: 21.2123066\ttotal: 39.5ms\tremaining: 264ms\n",
      "13:\tlearn: 21.0098820\ttotal: 42.9ms\tremaining: 263ms\n",
      "14:\tlearn: 20.8470059\ttotal: 45.6ms\tremaining: 259ms\n",
      "15:\tlearn: 20.6776877\ttotal: 49.1ms\tremaining: 258ms\n",
      "16:\tlearn: 20.5359087\ttotal: 51.5ms\tremaining: 251ms\n",
      "17:\tlearn: 20.4079973\ttotal: 53.7ms\tremaining: 245ms\n",
      "18:\tlearn: 20.2211989\ttotal: 56.1ms\tremaining: 239ms\n",
      "19:\tlearn: 20.1040170\ttotal: 59ms\tremaining: 236ms\n",
      "20:\tlearn: 19.9765457\ttotal: 62ms\tremaining: 233ms\n",
      "21:\tlearn: 19.8673105\ttotal: 64.2ms\tremaining: 228ms\n",
      "22:\tlearn: 19.7680957\ttotal: 66.4ms\tremaining: 222ms\n",
      "23:\tlearn: 19.6391662\ttotal: 68.5ms\tremaining: 217ms\n",
      "24:\tlearn: 19.4907248\ttotal: 71ms\tremaining: 213ms\n",
      "25:\tlearn: 19.2475887\ttotal: 73.2ms\tremaining: 208ms\n",
      "26:\tlearn: 19.1455172\ttotal: 75.5ms\tremaining: 204ms\n",
      "27:\tlearn: 18.9668338\ttotal: 78.2ms\tremaining: 201ms\n",
      "28:\tlearn: 18.8781078\ttotal: 80.5ms\tremaining: 197ms\n",
      "29:\tlearn: 18.6943834\ttotal: 82.7ms\tremaining: 193ms\n",
      "30:\tlearn: 18.6102983\ttotal: 86.2ms\tremaining: 192ms\n",
      "31:\tlearn: 18.5189894\ttotal: 89.8ms\tremaining: 191ms\n",
      "32:\tlearn: 18.4219278\ttotal: 92.1ms\tremaining: 187ms\n",
      "33:\tlearn: 18.3145059\ttotal: 94.3ms\tremaining: 183ms\n",
      "34:\tlearn: 18.2219408\ttotal: 97.5ms\tremaining: 181ms\n",
      "35:\tlearn: 18.0666739\ttotal: 99.9ms\tremaining: 178ms\n",
      "36:\tlearn: 18.0507363\ttotal: 102ms\tremaining: 174ms\n",
      "37:\tlearn: 18.0375274\ttotal: 105ms\tremaining: 172ms\n",
      "38:\tlearn: 17.9127269\ttotal: 109ms\tremaining: 170ms\n",
      "39:\tlearn: 17.7985481\ttotal: 111ms\tremaining: 167ms\n",
      "40:\tlearn: 17.7357650\ttotal: 115ms\tremaining: 165ms\n",
      "41:\tlearn: 17.6260600\ttotal: 117ms\tremaining: 161ms\n",
      "42:\tlearn: 17.5719233\ttotal: 120ms\tremaining: 159ms\n",
      "43:\tlearn: 17.4884098\ttotal: 122ms\tremaining: 155ms\n",
      "44:\tlearn: 17.4004596\ttotal: 124ms\tremaining: 152ms\n",
      "45:\tlearn: 17.3829714\ttotal: 127ms\tremaining: 149ms\n",
      "46:\tlearn: 17.3210971\ttotal: 129ms\tremaining: 146ms\n",
      "47:\tlearn: 17.1952956\ttotal: 131ms\tremaining: 142ms\n",
      "48:\tlearn: 17.1454507\ttotal: 134ms\tremaining: 139ms\n",
      "49:\tlearn: 16.9965540\ttotal: 136ms\tremaining: 136ms\n",
      "50:\tlearn: 16.9207098\ttotal: 138ms\tremaining: 133ms\n",
      "51:\tlearn: 16.8339582\ttotal: 142ms\tremaining: 131ms\n",
      "52:\tlearn: 16.7511982\ttotal: 145ms\tremaining: 129ms\n",
      "53:\tlearn: 16.7052912\ttotal: 149ms\tremaining: 127ms\n",
      "54:\tlearn: 16.6413685\ttotal: 153ms\tremaining: 125ms\n",
      "55:\tlearn: 16.5477318\ttotal: 156ms\tremaining: 123ms\n",
      "56:\tlearn: 16.4129805\ttotal: 160ms\tremaining: 121ms\n",
      "57:\tlearn: 16.3107630\ttotal: 163ms\tremaining: 118ms\n",
      "58:\tlearn: 16.3042733\ttotal: 167ms\tremaining: 116ms\n",
      "59:\tlearn: 16.2500816\ttotal: 170ms\tremaining: 114ms\n",
      "60:\tlearn: 16.2026753\ttotal: 173ms\tremaining: 111ms\n",
      "61:\tlearn: 16.1325124\ttotal: 175ms\tremaining: 107ms\n",
      "62:\tlearn: 16.0626678\ttotal: 178ms\tremaining: 104ms\n",
      "63:\tlearn: 15.9526959\ttotal: 180ms\tremaining: 101ms\n",
      "64:\tlearn: 15.8919660\ttotal: 182ms\tremaining: 98ms\n",
      "65:\tlearn: 15.8226382\ttotal: 185ms\tremaining: 95.3ms\n",
      "66:\tlearn: 15.7145823\ttotal: 187ms\tremaining: 92.2ms\n",
      "67:\tlearn: 15.6714801\ttotal: 189ms\tremaining: 89.1ms\n",
      "68:\tlearn: 15.6224586\ttotal: 192ms\tremaining: 86.1ms\n",
      "69:\tlearn: 15.5708755\ttotal: 195ms\tremaining: 83.7ms\n",
      "70:\tlearn: 15.5359522\ttotal: 199ms\tremaining: 81.2ms\n",
      "71:\tlearn: 15.5090256\ttotal: 202ms\tremaining: 78.7ms\n",
      "72:\tlearn: 15.4233529\ttotal: 206ms\tremaining: 76.1ms\n",
      "73:\tlearn: 15.3897748\ttotal: 209ms\tremaining: 73.6ms\n",
      "74:\tlearn: 15.3420111\ttotal: 212ms\tremaining: 70.6ms\n",
      "75:\tlearn: 15.2556593\ttotal: 214ms\tremaining: 67.5ms\n",
      "76:\tlearn: 15.1853128\ttotal: 216ms\tremaining: 64.6ms\n",
      "77:\tlearn: 15.1821969\ttotal: 218ms\tremaining: 61.6ms\n",
      "78:\tlearn: 15.1325977\ttotal: 221ms\tremaining: 58.8ms\n",
      "79:\tlearn: 15.1167834\ttotal: 224ms\tremaining: 55.9ms\n",
      "80:\tlearn: 15.0442610\ttotal: 226ms\tremaining: 53ms\n",
      "81:\tlearn: 14.9501643\ttotal: 228ms\tremaining: 50.1ms\n",
      "82:\tlearn: 14.9141795\ttotal: 232ms\tremaining: 47.4ms\n",
      "83:\tlearn: 14.8679601\ttotal: 234ms\tremaining: 44.5ms\n",
      "84:\tlearn: 14.7498613\ttotal: 236ms\tremaining: 41.7ms\n",
      "85:\tlearn: 14.7144046\ttotal: 239ms\tremaining: 38.8ms\n",
      "86:\tlearn: 14.6646840\ttotal: 241ms\tremaining: 36ms\n",
      "87:\tlearn: 14.5840023\ttotal: 243ms\tremaining: 33.2ms\n",
      "88:\tlearn: 14.5162837\ttotal: 247ms\tremaining: 30.6ms\n",
      "89:\tlearn: 14.4726311\ttotal: 250ms\tremaining: 27.8ms\n",
      "90:\tlearn: 14.4230676\ttotal: 253ms\tremaining: 25ms\n",
      "91:\tlearn: 14.3624302\ttotal: 256ms\tremaining: 22.3ms\n",
      "92:\tlearn: 14.3190316\ttotal: 260ms\tremaining: 19.5ms\n",
      "93:\tlearn: 14.2719469\ttotal: 262ms\tremaining: 16.7ms\n",
      "94:\tlearn: 14.1916657\ttotal: 264ms\tremaining: 13.9ms\n",
      "95:\tlearn: 14.1299289\ttotal: 267ms\tremaining: 11.1ms\n",
      "96:\tlearn: 14.0943905\ttotal: 269ms\tremaining: 8.33ms\n",
      "97:\tlearn: 14.0528554\ttotal: 272ms\tremaining: 5.54ms\n",
      "98:\tlearn: 14.0154936\ttotal: 275ms\tremaining: 2.78ms\n",
      "99:\tlearn: 13.9785229\ttotal: 277ms\tremaining: 0us\n",
      "CPU times: user 16.2 s, sys: 286 ms, total: 16.5 s\n",
      "Wall time: 20 s\n"
     ]
    }
   ],
   "source": [
    "%%time\n",
    "cbr = train_fit_score(CatBoostRegressor(random_state=12345), \n",
    "                       {'depth': [6,10],\n",
    "                        'iterations': [50,100]},'CatBoost')"
   ]
  },
  {
   "cell_type": "code",
   "execution_count": 33,
   "metadata": {},
   "outputs": [
    {
     "data": {
      "text/html": [
       "<div>\n",
       "<style scoped>\n",
       "    .dataframe tbody tr th:only-of-type {\n",
       "        vertical-align: middle;\n",
       "    }\n",
       "\n",
       "    .dataframe tbody tr th {\n",
       "        vertical-align: top;\n",
       "    }\n",
       "\n",
       "    .dataframe thead th {\n",
       "        text-align: right;\n",
       "    }\n",
       "</style>\n",
       "<table border=\"1\" class=\"dataframe\">\n",
       "  <thead>\n",
       "    <tr style=\"text-align: right;\">\n",
       "      <th></th>\n",
       "      <th>Estimator</th>\n",
       "      <th>Best Score</th>\n",
       "      <th>Best Params</th>\n",
       "    </tr>\n",
       "  </thead>\n",
       "  <tbody>\n",
       "    <tr>\n",
       "      <th>0</th>\n",
       "      <td>CatBoost</td>\n",
       "      <td>24.78941</td>\n",
       "      <td>{'depth': 6, 'iterations': 100}</td>\n",
       "    </tr>\n",
       "  </tbody>\n",
       "</table>\n",
       "</div>"
      ],
      "text/plain": [
       "  Estimator  Best Score                      Best Params\n",
       "0  CatBoost    24.78941  {'depth': 6, 'iterations': 100}"
      ]
     },
     "execution_count": 33,
     "metadata": {},
     "output_type": "execute_result"
    }
   ],
   "source": [
    "cbr"
   ]
  },
  {
   "cell_type": "code",
   "execution_count": 34,
   "metadata": {},
   "outputs": [
    {
     "name": "stdout",
     "output_type": "stream",
     "text": [
      "CPU times: user 4min 31s, sys: 1.78 s, total: 4min 33s\n",
      "Wall time: 4min 36s\n"
     ]
    }
   ],
   "source": [
    "%%time\n",
    "xgbr = train_fit_score(xgb.XGBRegressor(random_state=12345), \n",
    "                       {'max_depth': [6,10],\n",
    "                        'n_estimators': range(100, 300,100)},'XGBoost')"
   ]
  },
  {
   "cell_type": "code",
   "execution_count": 35,
   "metadata": {},
   "outputs": [
    {
     "data": {
      "text/html": [
       "<div>\n",
       "<style scoped>\n",
       "    .dataframe tbody tr th:only-of-type {\n",
       "        vertical-align: middle;\n",
       "    }\n",
       "\n",
       "    .dataframe tbody tr th {\n",
       "        vertical-align: top;\n",
       "    }\n",
       "\n",
       "    .dataframe thead th {\n",
       "        text-align: right;\n",
       "    }\n",
       "</style>\n",
       "<table border=\"1\" class=\"dataframe\">\n",
       "  <thead>\n",
       "    <tr style=\"text-align: right;\">\n",
       "      <th></th>\n",
       "      <th>Estimator</th>\n",
       "      <th>Best Score</th>\n",
       "      <th>Best Params</th>\n",
       "    </tr>\n",
       "  </thead>\n",
       "  <tbody>\n",
       "    <tr>\n",
       "      <th>0</th>\n",
       "      <td>XGBoost</td>\n",
       "      <td>25.433632</td>\n",
       "      <td>{'max_depth': 6, 'n_estimators': 100}</td>\n",
       "    </tr>\n",
       "  </tbody>\n",
       "</table>\n",
       "</div>"
      ],
      "text/plain": [
       "  Estimator  Best Score                            Best Params\n",
       "0   XGBoost   25.433632  {'max_depth': 6, 'n_estimators': 100}"
      ]
     },
     "execution_count": 35,
     "metadata": {},
     "output_type": "execute_result"
    }
   ],
   "source": [
    "xgbr"
   ]
  },
  {
   "cell_type": "code",
   "execution_count": 36,
   "metadata": {},
   "outputs": [
    {
     "data": {
      "text/html": [
       "<div>\n",
       "<style scoped>\n",
       "    .dataframe tbody tr th:only-of-type {\n",
       "        vertical-align: middle;\n",
       "    }\n",
       "\n",
       "    .dataframe tbody tr th {\n",
       "        vertical-align: top;\n",
       "    }\n",
       "\n",
       "    .dataframe thead th {\n",
       "        text-align: right;\n",
       "    }\n",
       "</style>\n",
       "<table border=\"1\" class=\"dataframe\">\n",
       "  <thead>\n",
       "    <tr style=\"text-align: right;\">\n",
       "      <th></th>\n",
       "      <th>Best Score</th>\n",
       "    </tr>\n",
       "    <tr>\n",
       "      <th>Estimator</th>\n",
       "      <th></th>\n",
       "    </tr>\n",
       "  </thead>\n",
       "  <tbody>\n",
       "    <tr>\n",
       "      <th>CatBoost</th>\n",
       "      <td>24.79</td>\n",
       "    </tr>\n",
       "    <tr>\n",
       "      <th>XGBoost</th>\n",
       "      <td>25.43</td>\n",
       "    </tr>\n",
       "  </tbody>\n",
       "</table>\n",
       "</div>"
      ],
      "text/plain": [
       "           Best Score\n",
       "Estimator            \n",
       "CatBoost        24.79\n",
       "XGBoost         25.43"
      ]
     },
     "metadata": {},
     "output_type": "display_data"
    }
   ],
   "source": [
    "scores_gb = pd.concat([cbr, xgbr]).set_index('Estimator')\n",
    "scores_gb['Best Score'] = scores_gb['Best Score'].round(2)\n",
    "display(scores_gb.drop('Best Params', axis=1))"
   ]
  },
  {
   "cell_type": "markdown",
   "metadata": {},
   "source": [
    "## Testing"
   ]
  },
  {
   "cell_type": "code",
   "execution_count": 37,
   "metadata": {},
   "outputs": [
    {
     "name": "stdout",
     "output_type": "stream",
     "text": [
      "RMSE on test for Linear Regressor: 47.91947872044137\n"
     ]
    }
   ],
   "source": [
    "pred_test = model.predict(test_X)\n",
    "print('RMSE on test for Linear Regressor:', math.sqrt(mean_squared_error(test_y, pred_test)))"
   ]
  },
  {
   "cell_type": "code",
   "execution_count": 38,
   "metadata": {},
   "outputs": [
    {
     "name": "stdout",
     "output_type": "stream",
     "text": [
      "Learning rate set to 0.324767\n",
      "0:\tlearn: 31.2057636\ttotal: 3.23ms\tremaining: 320ms\n",
      "1:\tlearn: 27.8310151\ttotal: 5.71ms\tremaining: 280ms\n",
      "2:\tlearn: 26.0821355\ttotal: 8.34ms\tremaining: 270ms\n",
      "3:\tlearn: 24.5705566\ttotal: 11.1ms\tremaining: 266ms\n",
      "4:\tlearn: 23.7349893\ttotal: 14.8ms\tremaining: 282ms\n",
      "5:\tlearn: 23.3202216\ttotal: 18.2ms\tremaining: 285ms\n",
      "6:\tlearn: 22.7672698\ttotal: 20.5ms\tremaining: 273ms\n",
      "7:\tlearn: 22.4944725\ttotal: 22.8ms\tremaining: 262ms\n",
      "8:\tlearn: 22.2417510\ttotal: 25ms\tremaining: 253ms\n",
      "9:\tlearn: 21.9634664\ttotal: 27.4ms\tremaining: 246ms\n",
      "10:\tlearn: 21.7557695\ttotal: 30.7ms\tremaining: 249ms\n",
      "11:\tlearn: 21.4005376\ttotal: 33.6ms\tremaining: 246ms\n",
      "12:\tlearn: 21.1277688\ttotal: 35.7ms\tremaining: 239ms\n",
      "13:\tlearn: 20.9582070\ttotal: 37.9ms\tremaining: 233ms\n",
      "14:\tlearn: 20.7777207\ttotal: 40.1ms\tremaining: 227ms\n",
      "15:\tlearn: 20.7254784\ttotal: 42.6ms\tremaining: 224ms\n",
      "16:\tlearn: 20.6659787\ttotal: 44.8ms\tremaining: 219ms\n",
      "17:\tlearn: 20.5113931\ttotal: 47.2ms\tremaining: 215ms\n",
      "18:\tlearn: 20.2977960\ttotal: 49.5ms\tremaining: 211ms\n",
      "19:\tlearn: 20.0952734\ttotal: 52ms\tremaining: 208ms\n",
      "20:\tlearn: 19.9807532\ttotal: 54.2ms\tremaining: 204ms\n",
      "21:\tlearn: 19.7300849\ttotal: 56.4ms\tremaining: 200ms\n",
      "22:\tlearn: 19.6601522\ttotal: 58.7ms\tremaining: 196ms\n",
      "23:\tlearn: 19.5346433\ttotal: 61.9ms\tremaining: 196ms\n",
      "24:\tlearn: 19.3454796\ttotal: 64.1ms\tremaining: 192ms\n",
      "25:\tlearn: 19.2293159\ttotal: 66.3ms\tremaining: 189ms\n",
      "26:\tlearn: 19.1035275\ttotal: 68.6ms\tremaining: 185ms\n",
      "27:\tlearn: 18.9969333\ttotal: 70.8ms\tremaining: 182ms\n",
      "28:\tlearn: 18.9180747\ttotal: 73ms\tremaining: 179ms\n",
      "29:\tlearn: 18.8542739\ttotal: 75.3ms\tremaining: 176ms\n",
      "30:\tlearn: 18.7725541\ttotal: 77.6ms\tremaining: 173ms\n",
      "31:\tlearn: 18.6205997\ttotal: 79.8ms\tremaining: 169ms\n",
      "32:\tlearn: 18.5916730\ttotal: 81.9ms\tremaining: 166ms\n",
      "33:\tlearn: 18.4052363\ttotal: 84.2ms\tremaining: 164ms\n",
      "34:\tlearn: 18.3240679\ttotal: 86.4ms\tremaining: 160ms\n",
      "35:\tlearn: 18.2738692\ttotal: 88.4ms\tremaining: 157ms\n",
      "36:\tlearn: 18.2110730\ttotal: 90.6ms\tremaining: 154ms\n",
      "37:\tlearn: 18.1021075\ttotal: 92.7ms\tremaining: 151ms\n",
      "38:\tlearn: 17.9574830\ttotal: 95.9ms\tremaining: 150ms\n",
      "39:\tlearn: 17.8174610\ttotal: 98.3ms\tremaining: 147ms\n",
      "40:\tlearn: 17.6788621\ttotal: 101ms\tremaining: 145ms\n",
      "41:\tlearn: 17.5207256\ttotal: 103ms\tremaining: 142ms\n",
      "42:\tlearn: 17.4437776\ttotal: 105ms\tremaining: 139ms\n",
      "43:\tlearn: 17.3368185\ttotal: 107ms\tremaining: 136ms\n",
      "44:\tlearn: 17.2508081\ttotal: 109ms\tremaining: 134ms\n",
      "45:\tlearn: 17.2397373\ttotal: 112ms\tremaining: 131ms\n",
      "46:\tlearn: 17.1409547\ttotal: 114ms\tremaining: 128ms\n",
      "47:\tlearn: 17.0163444\ttotal: 117ms\tremaining: 127ms\n",
      "48:\tlearn: 16.9331426\ttotal: 120ms\tremaining: 124ms\n",
      "49:\tlearn: 16.8738190\ttotal: 122ms\tremaining: 122ms\n",
      "50:\tlearn: 16.7375799\ttotal: 124ms\tremaining: 119ms\n",
      "51:\tlearn: 16.6454202\ttotal: 127ms\tremaining: 117ms\n",
      "52:\tlearn: 16.5792902\ttotal: 129ms\tremaining: 114ms\n",
      "53:\tlearn: 16.4352291\ttotal: 131ms\tremaining: 112ms\n",
      "54:\tlearn: 16.3688640\ttotal: 133ms\tremaining: 109ms\n",
      "55:\tlearn: 16.3087613\ttotal: 136ms\tremaining: 107ms\n",
      "56:\tlearn: 16.2216255\ttotal: 138ms\tremaining: 104ms\n",
      "57:\tlearn: 16.2090574\ttotal: 140ms\tremaining: 101ms\n",
      "58:\tlearn: 16.1221026\ttotal: 142ms\tremaining: 98.9ms\n",
      "59:\tlearn: 16.0883876\ttotal: 145ms\tremaining: 96.3ms\n",
      "60:\tlearn: 16.0299041\ttotal: 147ms\tremaining: 93.8ms\n",
      "61:\tlearn: 15.9154596\ttotal: 149ms\tremaining: 91.3ms\n",
      "62:\tlearn: 15.8638063\ttotal: 151ms\tremaining: 88.7ms\n",
      "63:\tlearn: 15.7597546\ttotal: 153ms\tremaining: 86.3ms\n",
      "64:\tlearn: 15.6781374\ttotal: 157ms\tremaining: 84.4ms\n",
      "65:\tlearn: 15.5905326\ttotal: 159ms\tremaining: 81.9ms\n",
      "66:\tlearn: 15.5635454\ttotal: 161ms\tremaining: 79.4ms\n",
      "67:\tlearn: 15.4829464\ttotal: 163ms\tremaining: 76.9ms\n",
      "68:\tlearn: 15.3938343\ttotal: 166ms\tremaining: 74.5ms\n",
      "69:\tlearn: 15.3357775\ttotal: 168ms\tremaining: 72ms\n",
      "70:\tlearn: 15.2834747\ttotal: 170ms\tremaining: 69.5ms\n",
      "71:\tlearn: 15.2132434\ttotal: 172ms\tremaining: 67.1ms\n",
      "72:\tlearn: 15.1315980\ttotal: 175ms\tremaining: 64.7ms\n",
      "73:\tlearn: 15.0338640\ttotal: 177ms\tremaining: 62.3ms\n",
      "74:\tlearn: 15.0002150\ttotal: 180ms\tremaining: 59.9ms\n",
      "75:\tlearn: 14.9056654\ttotal: 182ms\tremaining: 57.5ms\n",
      "76:\tlearn: 14.8282275\ttotal: 184ms\tremaining: 55.1ms\n",
      "77:\tlearn: 14.7788062\ttotal: 187ms\tremaining: 52.6ms\n",
      "78:\tlearn: 14.7764660\ttotal: 189ms\tremaining: 50.2ms\n",
      "79:\tlearn: 14.7377255\ttotal: 191ms\tremaining: 47.7ms\n",
      "80:\tlearn: 14.6662995\ttotal: 193ms\tremaining: 45.3ms\n",
      "81:\tlearn: 14.6373580\ttotal: 195ms\tremaining: 42.9ms\n",
      "82:\tlearn: 14.6020096\ttotal: 197ms\tremaining: 40.4ms\n",
      "83:\tlearn: 14.5261506\ttotal: 200ms\tremaining: 38ms\n",
      "84:\tlearn: 14.4602413\ttotal: 202ms\tremaining: 35.6ms\n",
      "85:\tlearn: 14.4023912\ttotal: 204ms\tremaining: 33.2ms\n",
      "86:\tlearn: 14.3110895\ttotal: 207ms\tremaining: 30.9ms\n",
      "87:\tlearn: 14.2543806\ttotal: 209ms\tremaining: 28.5ms\n",
      "88:\tlearn: 14.2144626\ttotal: 211ms\tremaining: 26.1ms\n",
      "89:\tlearn: 14.1347522\ttotal: 213ms\tremaining: 23.7ms\n",
      "90:\tlearn: 14.0874172\ttotal: 216ms\tremaining: 21.3ms\n",
      "91:\tlearn: 13.9934130\ttotal: 218ms\tremaining: 19ms\n",
      "92:\tlearn: 13.9811812\ttotal: 220ms\tremaining: 16.6ms\n",
      "93:\tlearn: 13.9286604\ttotal: 223ms\tremaining: 14.2ms\n",
      "94:\tlearn: 13.8694924\ttotal: 225ms\tremaining: 11.8ms\n",
      "95:\tlearn: 13.8175517\ttotal: 227ms\tremaining: 9.47ms\n",
      "96:\tlearn: 13.7817987\ttotal: 229ms\tremaining: 7.1ms\n",
      "97:\tlearn: 13.7214580\ttotal: 232ms\tremaining: 4.73ms\n",
      "98:\tlearn: 13.6929142\ttotal: 235ms\tremaining: 2.37ms\n",
      "99:\tlearn: 13.6590950\ttotal: 237ms\tremaining: 0us\n",
      "RMSE for best CatBoost model on test datasets: 44.89\n"
     ]
    }
   ],
   "source": [
    "cbr_model = CatBoostRegressor(**scores_gb['Best Params'][0]).fit(X_train, y_train)\n",
    "\n",
    "cbr_rmse = round(eval_regressor(test_y, cbr_model.predict(test_X)), 2)\n",
    "\n",
    "#Print the result.\n",
    "print(f'RMSE for best CatBoost model on test datasets: {cbr_rmse}')"
   ]
  },
  {
   "cell_type": "code",
   "execution_count": 39,
   "metadata": {},
   "outputs": [
    {
     "name": "stdout",
     "output_type": "stream",
     "text": [
      "RMSE for best XGBoost model on test datasets: 43.46\n"
     ]
    }
   ],
   "source": [
    "xgbr_model = xgb.XGBRegressor(**scores_gb['Best Params'][1]).fit(X_train, y_train)\n",
    "\n",
    "\n",
    "xgbr_rmse = round(eval_regressor(test_y, xgbr_model.predict(test_X)), 2)\n",
    "\n",
    "#Print the result.\n",
    "print(f'RMSE for best XGBoost model on test datasets: {xgbr_rmse}')"
   ]
  },
  {
   "cell_type": "markdown",
   "metadata": {},
   "source": [
    "XGBoost model showed the best RMSE result. It significantly better than the base model.\n"
   ]
  },
  {
   "cell_type": "code",
   "execution_count": 63,
   "metadata": {},
   "outputs": [
    {
     "data": {
      "image/png": "[encoded data removed]",
      "text/plain": [
       "<Figure size 1080x504 with 1 Axes>"
      ]
     },
     "metadata": {
      "needs_background": "light"
     },
     "output_type": "display_data"
    }
   ],
   "source": [
    "prediction = xgbr_model.predict(test_X)\n",
    "\n",
    "plt.figure(figsize=(15, 7))\n",
    "plt.plot(prediction, \"g\", label=\"prediction\", linewidth=2.0)\n",
    "plt.plot(test_y.values, label=\"actual\", linewidth=2.0)\n",
    "plt.legend(loc=\"best\")\n",
    "plt.tight_layout()\n",
    "plt.grid(True)"
   ]
  },
  {
   "cell_type": "markdown",
   "metadata": {},
   "source": [
    "It seems like predictions can be following rolling mean but the model can't predict the anomalies."
   ]
  }
 ],
 "metadata": {
  "ExecuteTimeLog": [
   {
    "duration": 450,
    "start_time": "2022-06-07T11:30:43.795Z"
   },
   {
    "duration": 139,
    "start_time": "2022-06-07T11:31:18.023Z"
   },
   {
    "duration": 14,
    "start_time": "2022-06-07T11:31:18.847Z"
   },
   {
    "duration": 3,
    "start_time": "2022-06-07T11:32:35.340Z"
   },
   {
    "duration": 103,
    "start_time": "2022-06-07T11:32:45.752Z"
   },
   {
    "duration": 8,
    "start_time": "2022-06-07T11:33:10.792Z"
   },
   {
    "duration": 86,
    "start_time": "2022-06-07T11:33:33.782Z"
   },
   {
    "duration": 11,
    "start_time": "2022-06-07T11:33:35.972Z"
   },
   {
    "duration": 8,
    "start_time": "2022-06-07T11:33:41.462Z"
   },
   {
    "duration": 13,
    "start_time": "2022-06-07T12:55:59.650Z"
   },
   {
    "duration": 4,
    "start_time": "2022-06-07T12:56:05.494Z"
   },
   {
    "duration": 10,
    "start_time": "2022-06-07T12:56:13.350Z"
   },
   {
    "duration": 10,
    "start_time": "2022-06-07T12:56:36.455Z"
   },
   {
    "duration": 1088,
    "start_time": "2022-06-07T12:56:58.020Z"
   },
   {
    "duration": 262,
    "start_time": "2022-06-07T12:57:35.792Z"
   },
   {
    "duration": 2,
    "start_time": "2022-06-07T12:58:58.815Z"
   },
   {
    "duration": 520,
    "start_time": "2022-06-07T12:59:00.025Z"
   },
   {
    "duration": 13,
    "start_time": "2022-06-07T12:59:16.751Z"
   },
   {
    "duration": 2,
    "start_time": "2022-06-07T12:59:37.615Z"
   },
   {
    "duration": 426,
    "start_time": "2022-06-07T12:59:42.225Z"
   },
   {
    "duration": 6,
    "start_time": "2022-06-07T13:00:32.222Z"
   },
   {
    "duration": 296,
    "start_time": "2022-06-07T13:00:33.019Z"
   },
   {
    "duration": 6,
    "start_time": "2022-06-07T13:01:17.234Z"
   },
   {
    "duration": 299,
    "start_time": "2022-06-07T13:01:19.119Z"
   },
   {
    "duration": 6,
    "start_time": "2022-06-07T13:01:30.590Z"
   },
   {
    "duration": 341,
    "start_time": "2022-06-07T13:01:32.081Z"
   },
   {
    "duration": 8,
    "start_time": "2022-06-07T13:03:35.875Z"
   },
   {
    "duration": 403,
    "start_time": "2022-06-07T13:03:37.882Z"
   },
   {
    "duration": 9,
    "start_time": "2022-06-07T13:03:57.386Z"
   },
   {
    "duration": 528,
    "start_time": "2022-06-07T13:04:16.346Z"
   },
   {
    "duration": 44,
    "start_time": "2022-06-07T13:04:20.748Z"
   },
   {
    "duration": 16,
    "start_time": "2022-06-07T13:04:43.548Z"
   },
   {
    "duration": 24,
    "start_time": "2022-06-07T13:05:31.048Z"
   },
   {
    "duration": 4,
    "start_time": "2022-06-07T13:05:36.049Z"
   },
   {
    "duration": 74,
    "start_time": "2022-06-07T13:05:36.055Z"
   },
   {
    "duration": 10,
    "start_time": "2022-06-07T13:05:36.131Z"
   },
   {
    "duration": 38,
    "start_time": "2022-06-07T13:05:36.143Z"
   },
   {
    "duration": 234,
    "start_time": "2022-06-07T13:05:36.184Z"
   },
   {
    "duration": 251,
    "start_time": "2022-06-07T13:05:36.419Z"
   },
   {
    "duration": 13,
    "start_time": "2022-06-07T13:05:36.672Z"
   },
   {
    "duration": 427,
    "start_time": "2022-06-07T13:05:36.687Z"
   },
   {
    "duration": 15,
    "start_time": "2022-06-07T13:05:37.116Z"
   },
   {
    "duration": 12,
    "start_time": "2022-06-07T13:05:40.439Z"
   },
   {
    "duration": 9,
    "start_time": "2022-06-07T13:05:43.151Z"
   },
   {
    "duration": 4,
    "start_time": "2022-06-07T13:07:15.246Z"
   },
   {
    "duration": 399,
    "start_time": "2022-06-07T13:07:16.692Z"
   },
   {
    "duration": 34797,
    "start_time": "2022-06-07T13:07:40.488Z"
   },
   {
    "duration": 35814,
    "start_time": "2022-06-07T13:09:14.483Z"
   },
   {
    "duration": 803,
    "start_time": "2022-06-07T13:11:25.542Z"
   },
   {
    "duration": 942,
    "start_time": "2022-06-07T13:13:19.725Z"
   },
   {
    "duration": 10037,
    "start_time": "2022-06-07T13:14:25.366Z"
   },
   {
    "duration": 10442,
    "start_time": "2022-06-07T13:14:59.010Z"
   },
   {
    "duration": 816,
    "start_time": "2022-06-07T13:15:35.963Z"
   },
   {
    "duration": 8626,
    "start_time": "2022-06-07T13:18:50.059Z"
   },
   {
    "duration": 5,
    "start_time": "2022-06-07T13:19:14.741Z"
   },
   {
    "duration": 10,
    "start_time": "2022-06-07T13:20:52.814Z"
   },
   {
    "duration": 17,
    "start_time": "2022-06-07T13:21:09.326Z"
   },
   {
    "duration": 4,
    "start_time": "2022-06-07T13:21:45.306Z"
   },
   {
    "duration": 6,
    "start_time": "2022-06-07T13:21:52.480Z"
   },
   {
    "duration": 13,
    "start_time": "2022-06-07T13:21:57.162Z"
   },
   {
    "duration": 8,
    "start_time": "2022-06-07T13:22:00.629Z"
   },
   {
    "duration": 8,
    "start_time": "2022-06-07T13:22:22.363Z"
   },
   {
    "duration": 9,
    "start_time": "2022-06-07T13:23:05.607Z"
   },
   {
    "duration": 10,
    "start_time": "2022-06-07T13:23:23.213Z"
   },
   {
    "duration": 8407,
    "start_time": "2022-06-07T13:23:24.515Z"
   },
   {
    "duration": 22,
    "start_time": "2022-06-07T13:24:10.307Z"
   },
   {
    "duration": 3,
    "start_time": "2022-06-07T13:24:37.265Z"
   },
   {
    "duration": 50,
    "start_time": "2022-06-07T13:24:37.269Z"
   },
   {
    "duration": 7,
    "start_time": "2022-06-07T13:24:37.321Z"
   },
   {
    "duration": 35,
    "start_time": "2022-06-07T13:24:37.330Z"
   },
   {
    "duration": 355,
    "start_time": "2022-06-07T13:24:37.367Z"
   },
   {
    "duration": 228,
    "start_time": "2022-06-07T13:24:37.725Z"
   },
   {
    "duration": 5,
    "start_time": "2022-06-07T13:24:37.955Z"
   },
   {
    "duration": 268,
    "start_time": "2022-06-07T13:24:37.962Z"
   },
   {
    "duration": 10,
    "start_time": "2022-06-07T13:24:38.232Z"
   },
   {
    "duration": 23,
    "start_time": "2022-06-07T13:24:38.243Z"
   },
   {
    "duration": 5,
    "start_time": "2022-06-07T13:24:47.114Z"
   },
   {
    "duration": 6,
    "start_time": "2022-06-07T13:25:16.873Z"
   },
   {
    "duration": 677,
    "start_time": "2022-06-07T13:25:18.914Z"
   },
   {
    "duration": 869,
    "start_time": "2022-06-07T13:25:34.517Z"
   },
   {
    "duration": 1095,
    "start_time": "2022-06-09T08:12:06.579Z"
   },
   {
    "duration": 147,
    "start_time": "2022-06-09T08:12:07.677Z"
   },
   {
    "duration": 12,
    "start_time": "2022-06-09T08:12:07.825Z"
   },
   {
    "duration": 14,
    "start_time": "2022-06-09T08:12:07.839Z"
   },
   {
    "duration": 185,
    "start_time": "2022-06-09T08:12:07.854Z"
   },
   {
    "duration": 194,
    "start_time": "2022-06-09T08:12:08.041Z"
   },
   {
    "duration": 6,
    "start_time": "2022-06-09T08:12:08.236Z"
   },
   {
    "duration": 329,
    "start_time": "2022-06-09T08:12:08.243Z"
   },
   {
    "duration": 9,
    "start_time": "2022-06-09T08:12:08.574Z"
   },
   {
    "duration": 19,
    "start_time": "2022-06-09T08:12:08.584Z"
   },
   {
    "duration": 11,
    "start_time": "2022-06-09T08:12:08.604Z"
   },
   {
    "duration": 7,
    "start_time": "2022-06-09T08:12:08.617Z"
   },
   {
    "duration": 818,
    "start_time": "2022-06-09T08:12:08.625Z"
   },
   {
    "duration": 97,
    "start_time": "2022-06-09T08:12:09.445Z"
   },
   {
    "duration": 0,
    "start_time": "2022-06-09T08:12:09.543Z"
   },
   {
    "duration": 11,
    "start_time": "2022-06-09T08:13:01.653Z"
   },
   {
    "duration": 4167,
    "start_time": "2022-06-09T08:13:43.944Z"
   },
   {
    "duration": 4102,
    "start_time": "2022-06-09T08:14:36.422Z"
   },
   {
    "duration": 4119,
    "start_time": "2022-06-09T08:14:46.054Z"
   },
   {
    "duration": 4512,
    "start_time": "2022-06-09T08:15:20.542Z"
   },
   {
    "duration": 4,
    "start_time": "2022-06-09T08:15:32.629Z"
   },
   {
    "duration": 4156,
    "start_time": "2022-06-09T08:15:56.045Z"
   },
   {
    "duration": 3257,
    "start_time": "2022-06-09T08:16:43.460Z"
   },
   {
    "duration": 572,
    "start_time": "2022-06-09T08:17:33.236Z"
   },
   {
    "duration": 7,
    "start_time": "2022-06-09T11:50:57.950Z"
   },
   {
    "duration": 8,
    "start_time": "2022-06-09T11:51:17.657Z"
   },
   {
    "duration": 233,
    "start_time": "2022-06-09T11:51:38.225Z"
   },
   {
    "duration": 8,
    "start_time": "2022-06-09T11:51:42.776Z"
   },
   {
    "duration": 20,
    "start_time": "2022-06-09T11:53:16.927Z"
   },
   {
    "duration": 22,
    "start_time": "2022-06-09T11:53:21.952Z"
   },
   {
    "duration": 3,
    "start_time": "2022-06-09T11:53:36.891Z"
   },
   {
    "duration": 5,
    "start_time": "2022-06-09T11:53:41.072Z"
   },
   {
    "duration": 6,
    "start_time": "2022-06-09T11:54:32.382Z"
   },
   {
    "duration": 7,
    "start_time": "2022-06-09T11:55:28.103Z"
   },
   {
    "duration": 2,
    "start_time": "2022-06-09T11:55:50.152Z"
   },
   {
    "duration": 10,
    "start_time": "2022-06-09T11:55:50.939Z"
   },
   {
    "duration": 3,
    "start_time": "2022-06-09T11:57:37.964Z"
   },
   {
    "duration": 28,
    "start_time": "2022-06-09T12:03:08.615Z"
   },
   {
    "duration": 9,
    "start_time": "2022-06-09T12:03:29.112Z"
   },
   {
    "duration": 9,
    "start_time": "2022-06-09T12:03:36.504Z"
   },
   {
    "duration": 6,
    "start_time": "2022-06-09T12:03:41.559Z"
   },
   {
    "duration": 63,
    "start_time": "2022-06-09T12:03:56.656Z"
   },
   {
    "duration": 32,
    "start_time": "2022-06-09T12:04:04.180Z"
   },
   {
    "duration": 33,
    "start_time": "2022-06-09T12:04:18.783Z"
   },
   {
    "duration": 39,
    "start_time": "2022-06-09T12:04:30.151Z"
   },
   {
    "duration": 3,
    "start_time": "2022-06-09T12:05:04.265Z"
   },
   {
    "duration": 48,
    "start_time": "2022-06-09T12:05:04.269Z"
   },
   {
    "duration": 7,
    "start_time": "2022-06-09T12:05:04.319Z"
   },
   {
    "duration": 13,
    "start_time": "2022-06-09T12:05:04.328Z"
   },
   {
    "duration": 202,
    "start_time": "2022-06-09T12:05:04.342Z"
   },
   {
    "duration": 191,
    "start_time": "2022-06-09T12:05:04.546Z"
   },
   {
    "duration": 5,
    "start_time": "2022-06-09T12:05:04.738Z"
   },
   {
    "duration": 344,
    "start_time": "2022-06-09T12:05:04.744Z"
   },
   {
    "duration": 9,
    "start_time": "2022-06-09T12:05:05.090Z"
   },
   {
    "duration": 21,
    "start_time": "2022-06-09T12:05:05.101Z"
   },
   {
    "duration": 10,
    "start_time": "2022-06-09T12:05:05.123Z"
   },
   {
    "duration": 26,
    "start_time": "2022-06-09T12:05:05.134Z"
   },
   {
    "duration": 880,
    "start_time": "2022-06-09T12:05:05.162Z"
   },
   {
    "duration": 3305,
    "start_time": "2022-06-09T12:05:06.043Z"
   },
   {
    "duration": 596,
    "start_time": "2022-06-09T12:05:09.350Z"
   },
   {
    "duration": 8,
    "start_time": "2022-06-09T12:05:09.947Z"
   },
   {
    "duration": 24,
    "start_time": "2022-06-09T12:05:09.957Z"
   },
   {
    "duration": 15,
    "start_time": "2022-06-09T12:05:09.982Z"
   },
   {
    "duration": 14,
    "start_time": "2022-06-09T12:05:09.998Z"
   },
   {
    "duration": 7,
    "start_time": "2022-06-09T12:05:10.014Z"
   },
   {
    "duration": 24,
    "start_time": "2022-06-09T12:05:10.022Z"
   },
   {
    "duration": 15,
    "start_time": "2022-06-09T12:05:10.048Z"
   },
   {
    "duration": 52,
    "start_time": "2022-06-09T12:05:10.065Z"
   },
   {
    "duration": 8,
    "start_time": "2022-06-09T12:05:10.118Z"
   },
   {
    "duration": 55,
    "start_time": "2022-06-09T12:05:10.127Z"
   },
   {
    "duration": 99,
    "start_time": "2022-06-09T12:05:10.184Z"
   },
   {
    "duration": 394,
    "start_time": "2022-06-09T12:06:41.845Z"
   },
   {
    "duration": 7,
    "start_time": "2022-06-09T12:06:56.988Z"
   },
   {
    "duration": 4,
    "start_time": "2022-06-09T12:07:22.354Z"
   },
   {
    "duration": 1652,
    "start_time": "2022-06-12T07:42:57.151Z"
   },
   {
    "duration": 142,
    "start_time": "2022-06-12T07:42:58.805Z"
   },
   {
    "duration": 16,
    "start_time": "2022-06-12T07:42:58.950Z"
   },
   {
    "duration": 15,
    "start_time": "2022-06-12T07:42:58.968Z"
   },
   {
    "duration": 276,
    "start_time": "2022-06-12T07:42:58.985Z"
   },
   {
    "duration": 213,
    "start_time": "2022-06-12T07:42:59.264Z"
   },
   {
    "duration": 6,
    "start_time": "2022-06-12T07:42:59.479Z"
   },
   {
    "duration": 413,
    "start_time": "2022-06-12T07:42:59.486Z"
   },
   {
    "duration": 10,
    "start_time": "2022-06-12T07:42:59.900Z"
   },
   {
    "duration": 9,
    "start_time": "2022-06-12T07:42:59.914Z"
   },
   {
    "duration": 8,
    "start_time": "2022-06-12T07:42:59.924Z"
   },
   {
    "duration": 7,
    "start_time": "2022-06-12T07:42:59.933Z"
   },
   {
    "duration": 1006,
    "start_time": "2022-06-12T07:42:59.941Z"
   },
   {
    "duration": 3608,
    "start_time": "2022-06-12T07:43:00.949Z"
   },
   {
    "duration": 649,
    "start_time": "2022-06-12T07:43:04.559Z"
   },
   {
    "duration": 9,
    "start_time": "2022-06-12T07:43:05.209Z"
   },
   {
    "duration": 10,
    "start_time": "2022-06-12T07:43:05.220Z"
   },
   {
    "duration": 8,
    "start_time": "2022-06-12T07:43:05.232Z"
   },
   {
    "duration": 23,
    "start_time": "2022-06-12T07:43:05.242Z"
   },
   {
    "duration": 3,
    "start_time": "2022-06-12T07:43:05.267Z"
   },
   {
    "duration": 13,
    "start_time": "2022-06-12T07:43:05.271Z"
   },
   {
    "duration": 4,
    "start_time": "2022-06-12T07:43:05.285Z"
   },
   {
    "duration": 39,
    "start_time": "2022-06-12T07:43:05.291Z"
   },
   {
    "duration": 9,
    "start_time": "2022-06-12T07:43:05.332Z"
   },
   {
    "duration": 37,
    "start_time": "2022-06-12T07:43:05.342Z"
   },
   {
    "duration": 105,
    "start_time": "2022-06-12T07:43:05.466Z"
   },
   {
    "duration": 282,
    "start_time": "2022-06-12T07:43:05.573Z"
   },
   {
    "duration": 7,
    "start_time": "2022-06-12T07:43:05.859Z"
   },
   {
    "duration": 10,
    "start_time": "2022-06-12T07:44:27.559Z"
   },
   {
    "duration": 29,
    "start_time": "2022-06-12T07:55:44.544Z"
   },
   {
    "duration": 26,
    "start_time": "2022-06-12T07:55:54.415Z"
   },
   {
    "duration": 4,
    "start_time": "2022-06-12T07:57:47.928Z"
   },
   {
    "duration": 112,
    "start_time": "2022-06-12T07:57:47.934Z"
   },
   {
    "duration": 9,
    "start_time": "2022-06-12T07:57:48.048Z"
   },
   {
    "duration": 18,
    "start_time": "2022-06-12T07:57:48.059Z"
   },
   {
    "duration": 210,
    "start_time": "2022-06-12T07:57:48.079Z"
   },
   {
    "duration": 216,
    "start_time": "2022-06-12T07:57:48.291Z"
   },
   {
    "duration": 5,
    "start_time": "2022-06-12T07:57:48.508Z"
   },
   {
    "duration": 371,
    "start_time": "2022-06-12T07:57:48.515Z"
   },
   {
    "duration": 13,
    "start_time": "2022-06-12T07:57:48.888Z"
   },
   {
    "duration": 14,
    "start_time": "2022-06-12T07:57:48.904Z"
   },
   {
    "duration": 15,
    "start_time": "2022-06-12T07:57:48.920Z"
   },
   {
    "duration": 10,
    "start_time": "2022-06-12T07:57:48.937Z"
   },
   {
    "duration": 1002,
    "start_time": "2022-06-12T07:57:48.949Z"
   },
   {
    "duration": 3635,
    "start_time": "2022-06-12T07:57:49.953Z"
   },
   {
    "duration": 654,
    "start_time": "2022-06-12T07:57:53.590Z"
   },
   {
    "duration": 8,
    "start_time": "2022-06-12T07:57:54.246Z"
   },
   {
    "duration": 7,
    "start_time": "2022-06-12T07:57:54.264Z"
   },
   {
    "duration": 10,
    "start_time": "2022-06-12T07:57:54.272Z"
   },
   {
    "duration": 5,
    "start_time": "2022-06-12T07:57:54.284Z"
   },
   {
    "duration": 5,
    "start_time": "2022-06-12T07:57:54.290Z"
   },
   {
    "duration": 4,
    "start_time": "2022-06-12T07:57:59.139Z"
   },
   {
    "duration": 42,
    "start_time": "2022-06-12T07:58:01.182Z"
   },
   {
    "duration": 10,
    "start_time": "2022-06-12T08:03:58.893Z"
   },
   {
    "duration": 11,
    "start_time": "2022-06-12T08:04:05.093Z"
   },
   {
    "duration": 10,
    "start_time": "2022-06-12T08:04:26.674Z"
   },
   {
    "duration": 26,
    "start_time": "2022-06-12T08:04:31.349Z"
   },
   {
    "duration": 13,
    "start_time": "2022-06-12T08:18:21.814Z"
   },
   {
    "duration": 353,
    "start_time": "2022-06-12T08:18:22.677Z"
   },
   {
    "duration": 21,
    "start_time": "2022-06-12T08:18:48.549Z"
   },
   {
    "duration": 45,
    "start_time": "2022-06-12T08:18:50.925Z"
   },
   {
    "duration": 7,
    "start_time": "2022-06-12T08:18:51.964Z"
   },
   {
    "duration": 14,
    "start_time": "2022-06-12T08:22:13.217Z"
   },
   {
    "duration": 18,
    "start_time": "2022-06-12T08:22:14.737Z"
   },
   {
    "duration": 8,
    "start_time": "2022-06-12T08:23:26.368Z"
   },
   {
    "duration": 12,
    "start_time": "2022-06-12T08:29:10.808Z"
   },
   {
    "duration": 20,
    "start_time": "2022-06-12T08:29:11.500Z"
   },
   {
    "duration": 24,
    "start_time": "2022-06-12T08:29:28.315Z"
   },
   {
    "duration": 15,
    "start_time": "2022-06-12T08:29:51.731Z"
   },
   {
    "duration": 25,
    "start_time": "2022-06-12T08:29:53.383Z"
   },
   {
    "duration": 6,
    "start_time": "2022-06-12T08:33:47.913Z"
   },
   {
    "duration": 28,
    "start_time": "2022-06-12T08:37:31.871Z"
   },
   {
    "duration": 205,
    "start_time": "2022-06-12T08:41:31.564Z"
   },
   {
    "duration": 14,
    "start_time": "2022-06-12T08:43:01.924Z"
   },
   {
    "duration": 9,
    "start_time": "2022-06-12T08:43:22.995Z"
   },
   {
    "duration": 4,
    "start_time": "2022-06-12T08:44:30.299Z"
   },
   {
    "duration": 8,
    "start_time": "2022-06-12T08:45:18.050Z"
   },
   {
    "duration": 3,
    "start_time": "2022-06-12T08:45:38.114Z"
   },
   {
    "duration": 13,
    "start_time": "2022-06-12T08:47:05.049Z"
   },
   {
    "duration": 14,
    "start_time": "2022-06-12T08:47:12.937Z"
   },
   {
    "duration": 96,
    "start_time": "2022-06-12T08:52:32.173Z"
   },
   {
    "duration": 4,
    "start_time": "2022-06-12T08:52:33.332Z"
   },
   {
    "duration": 4,
    "start_time": "2022-06-12T09:55:04.706Z"
   },
   {
    "duration": 111,
    "start_time": "2022-06-12T09:55:04.712Z"
   },
   {
    "duration": 8,
    "start_time": "2022-06-12T09:55:04.824Z"
   },
   {
    "duration": 10,
    "start_time": "2022-06-12T09:55:04.834Z"
   },
   {
    "duration": 208,
    "start_time": "2022-06-12T09:55:04.846Z"
   },
   {
    "duration": 202,
    "start_time": "2022-06-12T09:55:05.056Z"
   },
   {
    "duration": 8,
    "start_time": "2022-06-12T09:55:05.259Z"
   },
   {
    "duration": 270,
    "start_time": "2022-06-12T09:55:05.268Z"
   },
   {
    "duration": 12,
    "start_time": "2022-06-12T09:55:05.540Z"
   },
   {
    "duration": 10,
    "start_time": "2022-06-12T09:55:05.566Z"
   },
   {
    "duration": 8,
    "start_time": "2022-06-12T09:55:05.578Z"
   },
   {
    "duration": 8,
    "start_time": "2022-06-12T09:55:05.588Z"
   },
   {
    "duration": 950,
    "start_time": "2022-06-12T09:55:05.598Z"
   },
   {
    "duration": 3911,
    "start_time": "2022-06-12T09:55:06.550Z"
   },
   {
    "duration": 640,
    "start_time": "2022-06-12T09:55:10.464Z"
   },
   {
    "duration": 9,
    "start_time": "2022-06-12T09:55:11.105Z"
   },
   {
    "duration": 8,
    "start_time": "2022-06-12T09:55:11.116Z"
   },
   {
    "duration": 5,
    "start_time": "2022-06-12T09:55:11.126Z"
   },
   {
    "duration": 6,
    "start_time": "2022-06-12T09:55:11.132Z"
   },
   {
    "duration": 27,
    "start_time": "2022-06-12T09:55:11.139Z"
   },
   {
    "duration": 36,
    "start_time": "2022-06-12T09:55:11.167Z"
   },
   {
    "duration": 309,
    "start_time": "2022-06-12T09:55:11.204Z"
   },
   {
    "duration": 0,
    "start_time": "2022-06-12T09:55:11.515Z"
   },
   {
    "duration": 10,
    "start_time": "2022-06-12T09:55:31.024Z"
   },
   {
    "duration": 198,
    "start_time": "2022-06-12T09:55:33.279Z"
   },
   {
    "duration": 3,
    "start_time": "2022-06-12T09:56:59.086Z"
   },
   {
    "duration": 9,
    "start_time": "2022-06-12T09:57:15.198Z"
   },
   {
    "duration": 212,
    "start_time": "2022-06-12T09:58:15.981Z"
   },
   {
    "duration": 4,
    "start_time": "2022-06-12T09:58:50.293Z"
   },
   {
    "duration": 5,
    "start_time": "2022-06-12T09:59:22.892Z"
   },
   {
    "duration": 47,
    "start_time": "2022-06-12T10:01:04.674Z"
   },
   {
    "duration": 11,
    "start_time": "2022-06-12T10:01:13.011Z"
   },
   {
    "duration": 137,
    "start_time": "2022-06-12T10:01:14.034Z"
   },
   {
    "duration": 3,
    "start_time": "2022-06-12T10:01:15.658Z"
   },
   {
    "duration": 3,
    "start_time": "2022-06-12T10:01:16.274Z"
   },
   {
    "duration": 3,
    "start_time": "2022-06-12T10:01:16.923Z"
   },
   {
    "duration": 798,
    "start_time": "2022-06-12T10:01:17.874Z"
   },
   {
    "duration": 9,
    "start_time": "2022-06-12T10:01:31.442Z"
   },
   {
    "duration": 22854,
    "start_time": "2022-06-12T10:04:59.716Z"
   },
   {
    "duration": 7,
    "start_time": "2022-06-12T10:05:32.342Z"
   },
   {
    "duration": 162708,
    "start_time": "2022-06-12T10:05:57.095Z"
   },
   {
    "duration": 7,
    "start_time": "2022-06-12T10:08:52.971Z"
   },
   {
    "duration": 9,
    "start_time": "2022-06-12T10:09:33.196Z"
   },
   {
    "duration": 7,
    "start_time": "2022-06-12T10:10:08.363Z"
   },
   {
    "duration": 62,
    "start_time": "2022-06-12T10:10:56.810Z"
   },
   {
    "duration": 11,
    "start_time": "2022-06-12T10:11:19.081Z"
   },
   {
    "duration": 11,
    "start_time": "2022-06-12T10:11:42.801Z"
   },
   {
    "duration": 54729,
    "start_time": "2022-06-12T10:11:55.737Z"
   },
   {
    "duration": 522,
    "start_time": "2022-06-12T10:14:28.088Z"
   },
   {
    "duration": 7,
    "start_time": "2022-06-13T09:45:32.037Z"
   },
   {
    "duration": 1431,
    "start_time": "2022-06-13T09:45:50.037Z"
   },
   {
    "duration": 140,
    "start_time": "2022-06-13T09:45:51.469Z"
   },
   {
    "duration": 12,
    "start_time": "2022-06-13T09:45:51.610Z"
   },
   {
    "duration": 15,
    "start_time": "2022-06-13T09:45:51.624Z"
   },
   {
    "duration": 202,
    "start_time": "2022-06-13T09:45:51.640Z"
   },
   {
    "duration": 255,
    "start_time": "2022-06-13T09:45:51.844Z"
   },
   {
    "duration": 21,
    "start_time": "2022-06-13T09:45:52.100Z"
   },
   {
    "duration": 353,
    "start_time": "2022-06-13T09:45:52.123Z"
   },
   {
    "duration": 12,
    "start_time": "2022-06-13T09:45:52.477Z"
   },
   {
    "duration": 12,
    "start_time": "2022-06-13T09:45:52.492Z"
   },
   {
    "duration": 9,
    "start_time": "2022-06-13T09:45:52.505Z"
   },
   {
    "duration": 11,
    "start_time": "2022-06-13T09:45:52.515Z"
   },
   {
    "duration": 990,
    "start_time": "2022-06-13T09:45:52.528Z"
   },
   {
    "duration": 3387,
    "start_time": "2022-06-13T09:45:53.519Z"
   },
   {
    "duration": 681,
    "start_time": "2022-06-13T09:45:56.908Z"
   },
   {
    "duration": 7,
    "start_time": "2022-06-13T09:45:57.591Z"
   },
   {
    "duration": 12,
    "start_time": "2022-06-13T09:45:57.600Z"
   },
   {
    "duration": 13,
    "start_time": "2022-06-13T09:45:57.614Z"
   },
   {
    "duration": 8,
    "start_time": "2022-06-13T09:45:57.628Z"
   },
   {
    "duration": 50,
    "start_time": "2022-06-13T09:45:57.638Z"
   },
   {
    "duration": 11,
    "start_time": "2022-06-13T09:45:57.689Z"
   },
   {
    "duration": 182,
    "start_time": "2022-06-13T09:45:57.702Z"
   },
   {
    "duration": 6,
    "start_time": "2022-06-13T09:45:57.885Z"
   },
   {
    "duration": 88,
    "start_time": "2022-06-13T09:45:57.895Z"
   },
   {
    "duration": 18,
    "start_time": "2022-06-13T09:45:57.985Z"
   },
   {
    "duration": 137,
    "start_time": "2022-06-13T09:45:58.005Z"
   },
   {
    "duration": 10,
    "start_time": "2022-06-13T09:45:58.143Z"
   },
   {
    "duration": 0,
    "start_time": "2022-06-13T09:45:58.156Z"
   },
   {
    "duration": 0,
    "start_time": "2022-06-13T09:45:58.157Z"
   },
   {
    "duration": 0,
    "start_time": "2022-06-13T09:45:58.158Z"
   },
   {
    "duration": 0,
    "start_time": "2022-06-13T09:45:58.160Z"
   },
   {
    "duration": 0,
    "start_time": "2022-06-13T09:45:58.161Z"
   },
   {
    "duration": 0,
    "start_time": "2022-06-13T09:45:58.163Z"
   },
   {
    "duration": 0,
    "start_time": "2022-06-13T09:45:58.180Z"
   },
   {
    "duration": 0,
    "start_time": "2022-06-13T09:45:58.181Z"
   },
   {
    "duration": 4,
    "start_time": "2022-06-13T09:46:21.718Z"
   },
   {
    "duration": 81,
    "start_time": "2022-06-13T09:46:27.700Z"
   },
   {
    "duration": 8,
    "start_time": "2022-06-13T09:46:29.852Z"
   },
   {
    "duration": 20001,
    "start_time": "2022-06-13T09:46:33.837Z"
   },
   {
    "duration": 7,
    "start_time": "2022-06-13T09:47:08.108Z"
   },
   {
    "duration": 276080,
    "start_time": "2022-06-13T09:47:09.827Z"
   },
   {
    "duration": 7,
    "start_time": "2022-06-13T09:51:48.448Z"
   },
   {
    "duration": 9,
    "start_time": "2022-06-13T09:51:49.991Z"
   },
   {
    "duration": 6,
    "start_time": "2022-06-13T09:51:52.463Z"
   },
   {
    "duration": 498,
    "start_time": "2022-06-13T09:51:54.231Z"
   },
   {
    "duration": 3709,
    "start_time": "2022-06-13T09:52:00.415Z"
   },
   {
    "duration": 8,
    "start_time": "2022-06-13T09:54:17.485Z"
   },
   {
    "duration": 13,
    "start_time": "2022-06-13T09:58:07.446Z"
   },
   {
    "duration": 6,
    "start_time": "2022-06-13T09:59:17.414Z"
   },
   {
    "duration": 187,
    "start_time": "2022-06-13T09:59:20.057Z"
   },
   {
    "duration": 5,
    "start_time": "2022-06-13T10:00:13.899Z"
   },
   {
    "duration": 6,
    "start_time": "2022-06-13T10:00:20.259Z"
   },
   {
    "duration": 300,
    "start_time": "2022-06-13T10:00:22.297Z"
   },
   {
    "duration": 13,
    "start_time": "2022-06-13T10:01:18.305Z"
   },
   {
    "duration": 167,
    "start_time": "2022-06-13T10:01:19.399Z"
   },
   {
    "duration": 4,
    "start_time": "2022-06-13T10:01:38.703Z"
   },
   {
    "duration": 182,
    "start_time": "2022-06-13T10:01:44.007Z"
   },
   {
    "duration": 6,
    "start_time": "2022-06-13T10:03:08.201Z"
   },
   {
    "duration": 74634,
    "start_time": "2022-06-13T10:03:09.454Z"
   },
   {
    "duration": 10,
    "start_time": "2022-06-13T10:06:18.992Z"
   },
   {
    "duration": 333,
    "start_time": "2022-06-13T10:06:31.348Z"
   },
   {
    "duration": 17254,
    "start_time": "2022-06-13T10:07:42.459Z"
   },
   {
    "duration": 327,
    "start_time": "2022-06-13T10:09:24.092Z"
   },
   {
    "duration": 390,
    "start_time": "2022-06-13T10:11:12.711Z"
   },
   {
    "duration": 350,
    "start_time": "2022-06-13T10:11:30.049Z"
   },
   {
    "duration": 369,
    "start_time": "2022-06-13T10:11:34.400Z"
   },
   {
    "duration": 315,
    "start_time": "2022-06-13T10:11:40.807Z"
   },
   {
    "duration": 346,
    "start_time": "2022-06-13T10:11:48.171Z"
   },
   {
    "duration": 152,
    "start_time": "2022-06-13T10:12:08.959Z"
   },
   {
    "duration": 368,
    "start_time": "2022-06-13T10:12:17.063Z"
   }
  ],
  "kernelspec": {
   "display_name": "Python 3 (ipykernel)",
   "language": "python",
   "name": "python3"
  },
  "language_info": {
   "codemirror_mode": {
    "name": "ipython",
    "version": 3
   },
   "file_extension": ".py",
   "mimetype": "text/x-python",
   "name": "python",
   "nbconvert_exporter": "python",
   "pygments_lexer": "ipython3",
   "version": "3.9.12"
  },
  "toc": {
   "base_numbering": 1,
   "nav_menu": {},
   "number_sections": true,
   "sideBar": true,
   "skip_h1_title": true,
   "title_cell": "Table of Contents",
   "title_sidebar": "Contents",
   "toc_cell": false,
   "toc_position": {},
   "toc_section_display": true,
   "toc_window_display": false
  }
 },
 "nbformat": 4,
 "nbformat_minor": 2
}
